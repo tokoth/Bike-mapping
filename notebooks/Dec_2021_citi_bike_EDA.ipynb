{
 "cells": [
  {
   "cell_type": "markdown",
   "id": "77247296-6e0a-40ea-b168-a3691f9de10d",
   "metadata": {
    "jp-MarkdownHeadingCollapsed": true,
    "tags": []
   },
   "source": [
    "### EDA on [Citi Bike trip data](https://ride.citibikenyc.com/system-data)\n",
    "\n",
    "Data collected was published on Jan 6th 2022, 07:36:57 pm , [link to zipped file](https://s3.amazonaws.com/tripdata/JC-202112-citibike-tripdata.csv.zip)"
   ]
  },
  {
   "cell_type": "markdown",
   "id": "4fc25e66-d8aa-466f-9088-2a6fe5d53c31",
   "metadata": {
    "tags": []
   },
   "source": [
    "## Read files and Check data information"
   ]
  },
  {
   "cell_type": "code",
   "execution_count": 1,
   "id": "761ec66c-7507-442e-a21b-ec0971180495",
   "metadata": {},
   "outputs": [
    {
     "name": "stderr",
     "output_type": "stream",
     "text": [
      "C:\\ProgramData\\Miniconda3\\envs\\gis-sphinx\\lib\\site-packages\\geopandas\\_compat.py:106: UserWarning: The Shapely GEOS version (3.9.1dev-CAPI-1.14.1) is incompatible with the GEOS version PyGEOS was compiled with (3.9.1-CAPI-1.14.2). Conversions between both will be slow.\n",
      "  warnings.warn(\n"
     ]
    }
   ],
   "source": [
    "#Import necessary packages\n",
    "import pandas as pd\n",
    "import seaborn as sns\n",
    "import matplotlib.pyplot as plt\n",
    "import geopandas as gpd\n",
    "import folium"
   ]
  },
  {
   "cell_type": "code",
   "execution_count": 6,
   "id": "9bc67a45-b44b-4aef-b8eb-e41b790fc427",
   "metadata": {},
   "outputs": [],
   "source": [
    "datapath = '../data/raw/JC-202112-citibike-tripdata.csv'\n",
    "#datapath2 = r\"D:\\AutoGIS\\City-bike-mapping\\202112-citibike-tripdata.csv\\202112-citibike-tripdata.csv\""
   ]
  },
  {
   "cell_type": "code",
   "execution_count": 2,
   "id": "c75b3eae-b772-4b08-bdab-6bebc3e2a131",
   "metadata": {},
   "outputs": [
    {
     "data": {
      "text/html": [
       "<div>\n",
       "<style scoped>\n",
       "    .dataframe tbody tr th:only-of-type {\n",
       "        vertical-align: middle;\n",
       "    }\n",
       "\n",
       "    .dataframe tbody tr th {\n",
       "        vertical-align: top;\n",
       "    }\n",
       "\n",
       "    .dataframe thead th {\n",
       "        text-align: right;\n",
       "    }\n",
       "</style>\n",
       "<table border=\"1\" class=\"dataframe\">\n",
       "  <thead>\n",
       "    <tr style=\"text-align: right;\">\n",
       "      <th></th>\n",
       "      <th>ride_id</th>\n",
       "      <th>rideable_type</th>\n",
       "      <th>started_at</th>\n",
       "      <th>ended_at</th>\n",
       "      <th>start_station_name</th>\n",
       "      <th>start_station_id</th>\n",
       "      <th>end_station_name</th>\n",
       "      <th>end_station_id</th>\n",
       "      <th>start_lat</th>\n",
       "      <th>start_lng</th>\n",
       "      <th>end_lat</th>\n",
       "      <th>end_lng</th>\n",
       "      <th>member_casual</th>\n",
       "    </tr>\n",
       "  </thead>\n",
       "  <tbody>\n",
       "    <tr>\n",
       "      <th>0</th>\n",
       "      <td>7AE6209F17967FF2</td>\n",
       "      <td>classic_bike</td>\n",
       "      <td>2021-12-07 08:54:24</td>\n",
       "      <td>2021-12-07 08:59:46</td>\n",
       "      <td>Broadway &amp; Hancock St</td>\n",
       "      <td>4441.06</td>\n",
       "      <td>Lewis Ave &amp; Madison St</td>\n",
       "      <td>4425.02</td>\n",
       "      <td>40.686630</td>\n",
       "      <td>-73.916800</td>\n",
       "      <td>40.686312</td>\n",
       "      <td>-73.935775</td>\n",
       "      <td>member</td>\n",
       "    </tr>\n",
       "    <tr>\n",
       "      <th>1</th>\n",
       "      <td>CCE209B6D683C96A</td>\n",
       "      <td>classic_bike</td>\n",
       "      <td>2021-12-13 21:22:35</td>\n",
       "      <td>2021-12-13 21:31:24</td>\n",
       "      <td>S 4 St &amp; Wythe Ave</td>\n",
       "      <td>5204.05</td>\n",
       "      <td>Metropolitan Ave &amp; Meeker Ave</td>\n",
       "      <td>5300.05</td>\n",
       "      <td>40.712859</td>\n",
       "      <td>-73.965903</td>\n",
       "      <td>40.714133</td>\n",
       "      <td>-73.952344</td>\n",
       "      <td>member</td>\n",
       "    </tr>\n",
       "    <tr>\n",
       "      <th>2</th>\n",
       "      <td>333961DE681551DA</td>\n",
       "      <td>classic_bike</td>\n",
       "      <td>2021-12-17 22:21:56</td>\n",
       "      <td>2021-12-17 22:30:41</td>\n",
       "      <td>6 Ave &amp; Canal St</td>\n",
       "      <td>5500.07</td>\n",
       "      <td>University Pl &amp; E 14 St</td>\n",
       "      <td>5905.14</td>\n",
       "      <td>40.722438</td>\n",
       "      <td>-74.005664</td>\n",
       "      <td>40.734814</td>\n",
       "      <td>-73.992085</td>\n",
       "      <td>member</td>\n",
       "    </tr>\n",
       "    <tr>\n",
       "      <th>3</th>\n",
       "      <td>E5F6240DEF91E399</td>\n",
       "      <td>classic_bike</td>\n",
       "      <td>2021-12-13 17:44:19</td>\n",
       "      <td>2021-12-13 17:51:35</td>\n",
       "      <td>E 2 St &amp; Avenue C</td>\n",
       "      <td>5476.03</td>\n",
       "      <td>E 11 St &amp; 3 Ave</td>\n",
       "      <td>5788.16</td>\n",
       "      <td>40.720874</td>\n",
       "      <td>-73.980858</td>\n",
       "      <td>40.731270</td>\n",
       "      <td>-73.988490</td>\n",
       "      <td>member</td>\n",
       "    </tr>\n",
       "    <tr>\n",
       "      <th>4</th>\n",
       "      <td>B93587D5FA305113</td>\n",
       "      <td>classic_bike</td>\n",
       "      <td>2021-12-04 16:03:04</td>\n",
       "      <td>2021-12-04 16:06:47</td>\n",
       "      <td>Columbia St &amp; Degraw St</td>\n",
       "      <td>4422.04</td>\n",
       "      <td>Atlantic Ave &amp; Furman St</td>\n",
       "      <td>4614.04</td>\n",
       "      <td>40.685930</td>\n",
       "      <td>-74.002424</td>\n",
       "      <td>40.691652</td>\n",
       "      <td>-73.999979</td>\n",
       "      <td>member</td>\n",
       "    </tr>\n",
       "  </tbody>\n",
       "</table>\n",
       "</div>"
      ],
      "text/plain": [
       "            ride_id rideable_type          started_at            ended_at  \\\n",
       "0  7AE6209F17967FF2  classic_bike 2021-12-07 08:54:24 2021-12-07 08:59:46   \n",
       "1  CCE209B6D683C96A  classic_bike 2021-12-13 21:22:35 2021-12-13 21:31:24   \n",
       "2  333961DE681551DA  classic_bike 2021-12-17 22:21:56 2021-12-17 22:30:41   \n",
       "3  E5F6240DEF91E399  classic_bike 2021-12-13 17:44:19 2021-12-13 17:51:35   \n",
       "4  B93587D5FA305113  classic_bike 2021-12-04 16:03:04 2021-12-04 16:06:47   \n",
       "\n",
       "        start_station_name start_station_id               end_station_name  \\\n",
       "0    Broadway & Hancock St          4441.06         Lewis Ave & Madison St   \n",
       "1       S 4 St & Wythe Ave          5204.05  Metropolitan Ave & Meeker Ave   \n",
       "2         6 Ave & Canal St          5500.07        University Pl & E 14 St   \n",
       "3        E 2 St & Avenue C          5476.03                E 11 St & 3 Ave   \n",
       "4  Columbia St & Degraw St          4422.04       Atlantic Ave & Furman St   \n",
       "\n",
       "  end_station_id  start_lat  start_lng    end_lat    end_lng member_casual  \n",
       "0        4425.02  40.686630 -73.916800  40.686312 -73.935775        member  \n",
       "1        5300.05  40.712859 -73.965903  40.714133 -73.952344        member  \n",
       "2        5905.14  40.722438 -74.005664  40.734814 -73.992085        member  \n",
       "3        5788.16  40.720874 -73.980858  40.731270 -73.988490        member  \n",
       "4        4614.04  40.685930 -74.002424  40.691652 -73.999979        member  "
      ]
     },
     "execution_count": 2,
     "metadata": {},
     "output_type": "execute_result"
    }
   ],
   "source": [
    "data2 = pd.read_csv(r\"D:\\AutoGIS\\City-bike-mapping\\202112-citibike-tripdata.csv\\202112-citibike-tripdata.csv\",\n",
    "                   parse_dates=['started_at','ended_at'], low_memory=False)\n",
    "data2.head()"
   ]
  },
  {
   "cell_type": "code",
   "execution_count": 3,
   "id": "06cd6f81-e991-4caa-918d-f779faa0c0d2",
   "metadata": {
    "collapsed": true,
    "jupyter": {
     "outputs_hidden": true
    },
    "tags": []
   },
   "outputs": [
    {
     "data": {
      "text/html": [
       "<div>\n",
       "<style scoped>\n",
       "    .dataframe tbody tr th:only-of-type {\n",
       "        vertical-align: middle;\n",
       "    }\n",
       "\n",
       "    .dataframe tbody tr th {\n",
       "        vertical-align: top;\n",
       "    }\n",
       "\n",
       "    .dataframe thead th {\n",
       "        text-align: right;\n",
       "    }\n",
       "</style>\n",
       "<table border=\"1\" class=\"dataframe\">\n",
       "  <thead>\n",
       "    <tr style=\"text-align: right;\">\n",
       "      <th></th>\n",
       "      <th>ride_id</th>\n",
       "      <th>rideable_type</th>\n",
       "      <th>started_at</th>\n",
       "      <th>ended_at</th>\n",
       "      <th>start_station_name</th>\n",
       "      <th>start_station_id</th>\n",
       "      <th>end_station_name</th>\n",
       "      <th>end_station_id</th>\n",
       "      <th>start_lat</th>\n",
       "      <th>start_lng</th>\n",
       "      <th>end_lat</th>\n",
       "      <th>end_lng</th>\n",
       "      <th>member_casual</th>\n",
       "    </tr>\n",
       "  </thead>\n",
       "  <tbody>\n",
       "    <tr>\n",
       "      <th>0</th>\n",
       "      <td>DE8FDF918B766B34</td>\n",
       "      <td>classic_bike</td>\n",
       "      <td>2021-12-22 18:44:12</td>\n",
       "      <td>2021-12-22 18:49:56</td>\n",
       "      <td>Marin Light Rail</td>\n",
       "      <td>JC013</td>\n",
       "      <td>Warren St</td>\n",
       "      <td>JC006</td>\n",
       "      <td>40.714584</td>\n",
       "      <td>-74.042817</td>\n",
       "      <td>40.721124</td>\n",
       "      <td>-74.038051</td>\n",
       "      <td>member</td>\n",
       "    </tr>\n",
       "    <tr>\n",
       "      <th>1</th>\n",
       "      <td>DFFA588D5D188F27</td>\n",
       "      <td>classic_bike</td>\n",
       "      <td>2021-12-11 12:32:58</td>\n",
       "      <td>2021-12-11 12:57:13</td>\n",
       "      <td>Warren St</td>\n",
       "      <td>JC006</td>\n",
       "      <td>Warren St</td>\n",
       "      <td>JC006</td>\n",
       "      <td>40.721124</td>\n",
       "      <td>-74.038051</td>\n",
       "      <td>40.721124</td>\n",
       "      <td>-74.038051</td>\n",
       "      <td>member</td>\n",
       "    </tr>\n",
       "    <tr>\n",
       "      <th>2</th>\n",
       "      <td>3A2A9CA5E1CC449A</td>\n",
       "      <td>classic_bike</td>\n",
       "      <td>2021-12-18 11:08:40</td>\n",
       "      <td>2021-12-18 11:21:10</td>\n",
       "      <td>Warren St</td>\n",
       "      <td>JC006</td>\n",
       "      <td>Warren St</td>\n",
       "      <td>JC006</td>\n",
       "      <td>40.721124</td>\n",
       "      <td>-74.038051</td>\n",
       "      <td>40.721124</td>\n",
       "      <td>-74.038051</td>\n",
       "      <td>member</td>\n",
       "    </tr>\n",
       "    <tr>\n",
       "      <th>3</th>\n",
       "      <td>72216E8C562A4E02</td>\n",
       "      <td>classic_bike</td>\n",
       "      <td>2021-12-11 17:28:08</td>\n",
       "      <td>2021-12-11 17:42:16</td>\n",
       "      <td>5 Corners Library</td>\n",
       "      <td>JC018</td>\n",
       "      <td>Warren St</td>\n",
       "      <td>JC006</td>\n",
       "      <td>40.734961</td>\n",
       "      <td>-74.059503</td>\n",
       "      <td>40.721124</td>\n",
       "      <td>-74.038051</td>\n",
       "      <td>member</td>\n",
       "    </tr>\n",
       "    <tr>\n",
       "      <th>4</th>\n",
       "      <td>A7B30B3C966FD8A1</td>\n",
       "      <td>classic_bike</td>\n",
       "      <td>2021-12-11 10:39:41</td>\n",
       "      <td>2021-12-11 10:54:56</td>\n",
       "      <td>City Hall - Washington St &amp; 1 St</td>\n",
       "      <td>HB105</td>\n",
       "      <td>Warren St</td>\n",
       "      <td>JC006</td>\n",
       "      <td>40.737360</td>\n",
       "      <td>-74.030970</td>\n",
       "      <td>40.721124</td>\n",
       "      <td>-74.038051</td>\n",
       "      <td>casual</td>\n",
       "    </tr>\n",
       "  </tbody>\n",
       "</table>\n",
       "</div>"
      ],
      "text/plain": [
       "            ride_id rideable_type          started_at            ended_at  \\\n",
       "0  DE8FDF918B766B34  classic_bike 2021-12-22 18:44:12 2021-12-22 18:49:56   \n",
       "1  DFFA588D5D188F27  classic_bike 2021-12-11 12:32:58 2021-12-11 12:57:13   \n",
       "2  3A2A9CA5E1CC449A  classic_bike 2021-12-18 11:08:40 2021-12-18 11:21:10   \n",
       "3  72216E8C562A4E02  classic_bike 2021-12-11 17:28:08 2021-12-11 17:42:16   \n",
       "4  A7B30B3C966FD8A1  classic_bike 2021-12-11 10:39:41 2021-12-11 10:54:56   \n",
       "\n",
       "                 start_station_name start_station_id end_station_name  \\\n",
       "0                  Marin Light Rail            JC013        Warren St   \n",
       "1                         Warren St            JC006        Warren St   \n",
       "2                         Warren St            JC006        Warren St   \n",
       "3                 5 Corners Library            JC018        Warren St   \n",
       "4  City Hall - Washington St & 1 St            HB105        Warren St   \n",
       "\n",
       "  end_station_id  start_lat  start_lng    end_lat    end_lng member_casual  \n",
       "0          JC006  40.714584 -74.042817  40.721124 -74.038051        member  \n",
       "1          JC006  40.721124 -74.038051  40.721124 -74.038051        member  \n",
       "2          JC006  40.721124 -74.038051  40.721124 -74.038051        member  \n",
       "3          JC006  40.734961 -74.059503  40.721124 -74.038051        member  \n",
       "4          JC006  40.737360 -74.030970  40.721124 -74.038051        casual  "
      ]
     },
     "execution_count": 3,
     "metadata": {},
     "output_type": "execute_result"
    }
   ],
   "source": [
    "#Read in the downloaded data\n",
    "data = pd.read_csv(datapath, parse_dates=['started_at','ended_at'])\n",
    "#Check top 5 rows of the data\n",
    "data.head()"
   ]
  },
  {
   "cell_type": "code",
   "execution_count": 3,
   "id": "a4abb484-85a3-47b7-8835-ca6c16a9cb7c",
   "metadata": {},
   "outputs": [
    {
     "name": "stdout",
     "output_type": "stream",
     "text": [
      "<class 'pandas.core.frame.DataFrame'>\n",
      "RangeIndex: 1748287 entries, 0 to 1748286\n",
      "Data columns (total 13 columns):\n",
      " #   Column              Dtype         \n",
      "---  ------              -----         \n",
      " 0   ride_id             object        \n",
      " 1   rideable_type       object        \n",
      " 2   started_at          datetime64[ns]\n",
      " 3   ended_at            datetime64[ns]\n",
      " 4   start_station_name  object        \n",
      " 5   start_station_id    object        \n",
      " 6   end_station_name    object        \n",
      " 7   end_station_id      object        \n",
      " 8   start_lat           float64       \n",
      " 9   start_lng           float64       \n",
      " 10  end_lat             float64       \n",
      " 11  end_lng             float64       \n",
      " 12  member_casual       object        \n",
      "dtypes: datetime64[ns](2), float64(4), object(7)\n",
      "memory usage: 173.4+ MB\n"
     ]
    }
   ],
   "source": [
    "#Check data information number of rows, columns\n",
    "data2.info()"
   ]
  },
  {
   "cell_type": "code",
   "execution_count": 4,
   "id": "2c502afe-cf58-45f5-a175-5566ee384322",
   "metadata": {},
   "outputs": [
    {
     "data": {
      "text/plain": [
       "array(['classic_bike', 'docked_bike'], dtype=object)"
      ]
     },
     "execution_count": 4,
     "metadata": {},
     "output_type": "execute_result"
    }
   ],
   "source": [
    "data2['rideable_type'].unique()"
   ]
  },
  {
   "cell_type": "code",
   "execution_count": 13,
   "id": "a91d0eab-6ea7-42f5-a659-5de13f09c321",
   "metadata": {},
   "outputs": [
    {
     "data": {
      "text/html": [
       "<div>\n",
       "<style scoped>\n",
       "    .dataframe tbody tr th:only-of-type {\n",
       "        vertical-align: middle;\n",
       "    }\n",
       "\n",
       "    .dataframe tbody tr th {\n",
       "        vertical-align: top;\n",
       "    }\n",
       "\n",
       "    .dataframe thead th {\n",
       "        text-align: right;\n",
       "    }\n",
       "</style>\n",
       "<table border=\"1\" class=\"dataframe\">\n",
       "  <thead>\n",
       "    <tr style=\"text-align: right;\">\n",
       "      <th></th>\n",
       "      <th>ride_id</th>\n",
       "      <th>rideable_type</th>\n",
       "      <th>started_at</th>\n",
       "      <th>ended_at</th>\n",
       "      <th>start_station_name</th>\n",
       "      <th>start_station_id</th>\n",
       "      <th>end_station_name</th>\n",
       "      <th>end_station_id</th>\n",
       "      <th>start_lat</th>\n",
       "      <th>start_lng</th>\n",
       "      <th>end_lat</th>\n",
       "      <th>end_lng</th>\n",
       "      <th>member_casual</th>\n",
       "      <th>start_day</th>\n",
       "    </tr>\n",
       "  </thead>\n",
       "  <tbody>\n",
       "    <tr>\n",
       "      <th>0</th>\n",
       "      <td>7AE6209F17967FF2</td>\n",
       "      <td>classic_bike</td>\n",
       "      <td>2021-12-07 08:54:24</td>\n",
       "      <td>2021-12-07 08:59:46</td>\n",
       "      <td>Broadway &amp; Hancock St</td>\n",
       "      <td>4441.06</td>\n",
       "      <td>Lewis Ave &amp; Madison St</td>\n",
       "      <td>4425.02</td>\n",
       "      <td>40.686630</td>\n",
       "      <td>-73.916800</td>\n",
       "      <td>40.686312</td>\n",
       "      <td>-73.935775</td>\n",
       "      <td>member</td>\n",
       "      <td>Wednesday</td>\n",
       "    </tr>\n",
       "    <tr>\n",
       "      <th>1</th>\n",
       "      <td>CCE209B6D683C96A</td>\n",
       "      <td>classic_bike</td>\n",
       "      <td>2021-12-13 21:22:35</td>\n",
       "      <td>2021-12-13 21:31:24</td>\n",
       "      <td>S 4 St &amp; Wythe Ave</td>\n",
       "      <td>5204.05</td>\n",
       "      <td>Metropolitan Ave &amp; Meeker Ave</td>\n",
       "      <td>5300.05</td>\n",
       "      <td>40.712859</td>\n",
       "      <td>-73.965903</td>\n",
       "      <td>40.714133</td>\n",
       "      <td>-73.952344</td>\n",
       "      <td>member</td>\n",
       "      <td>Saturday</td>\n",
       "    </tr>\n",
       "    <tr>\n",
       "      <th>2</th>\n",
       "      <td>333961DE681551DA</td>\n",
       "      <td>classic_bike</td>\n",
       "      <td>2021-12-17 22:21:56</td>\n",
       "      <td>2021-12-17 22:30:41</td>\n",
       "      <td>6 Ave &amp; Canal St</td>\n",
       "      <td>5500.07</td>\n",
       "      <td>University Pl &amp; E 14 St</td>\n",
       "      <td>5905.14</td>\n",
       "      <td>40.722438</td>\n",
       "      <td>-74.005664</td>\n",
       "      <td>40.734814</td>\n",
       "      <td>-73.992085</td>\n",
       "      <td>member</td>\n",
       "      <td>Saturday</td>\n",
       "    </tr>\n",
       "  </tbody>\n",
       "</table>\n",
       "</div>"
      ],
      "text/plain": [
       "            ride_id rideable_type          started_at            ended_at  \\\n",
       "0  7AE6209F17967FF2  classic_bike 2021-12-07 08:54:24 2021-12-07 08:59:46   \n",
       "1  CCE209B6D683C96A  classic_bike 2021-12-13 21:22:35 2021-12-13 21:31:24   \n",
       "2  333961DE681551DA  classic_bike 2021-12-17 22:21:56 2021-12-17 22:30:41   \n",
       "\n",
       "      start_station_name start_station_id               end_station_name  \\\n",
       "0  Broadway & Hancock St          4441.06         Lewis Ave & Madison St   \n",
       "1     S 4 St & Wythe Ave          5204.05  Metropolitan Ave & Meeker Ave   \n",
       "2       6 Ave & Canal St          5500.07        University Pl & E 14 St   \n",
       "\n",
       "  end_station_id  start_lat  start_lng    end_lat    end_lng member_casual  \\\n",
       "0        4425.02  40.686630 -73.916800  40.686312 -73.935775        member   \n",
       "1        5300.05  40.712859 -73.965903  40.714133 -73.952344        member   \n",
       "2        5905.14  40.722438 -74.005664  40.734814 -73.992085        member   \n",
       "\n",
       "   start_day  \n",
       "0  Wednesday  \n",
       "1   Saturday  \n",
       "2   Saturday  "
      ]
     },
     "execution_count": 13,
     "metadata": {},
     "output_type": "execute_result"
    }
   ],
   "source": [
    "#Create new column from starttime column showing the day of the week\n",
    "data2['start_day']=data['started_at'].apply(lambda x:x.day_name())\n",
    "\n",
    "data2.head(3)"
   ]
  },
  {
   "cell_type": "markdown",
   "id": "e3e3874e-7649-4f23-991e-08e092ad994b",
   "metadata": {
    "tags": []
   },
   "source": [
    "## Using Seaborn and Matplotlib for exploring the data"
   ]
  },
  {
   "cell_type": "code",
   "execution_count": 15,
   "id": "fbc0c363-eb78-4827-a9bd-b028e1d50930",
   "metadata": {
    "collapsed": true,
    "jupyter": {
     "outputs_hidden": true
    },
    "tags": []
   },
   "outputs": [
    {
     "data": {
      "image/png": "[encoded data removed]",
      "text/plain": [
       "<Figure size 1296x720 with 1 Axes>"
      ]
     },
     "metadata": {
      "needs_background": "light"
     },
     "output_type": "display_data"
    }
   ],
   "source": [
    "#Use seaborn and matplotlib to plot the top 10 busiest stations\n",
    "startstation = data2['start_station_name'].value_counts()[:10]\n",
    "plt.figure(figsize=(18,10))\n",
    "sns.barplot( x=startstation.values , y=list(startstation.index), \n",
    " orient=\"h\" )\n",
    "\n",
    "#Add plot title, label axes and grid\n",
    "plt.title('Busiest bike stations', size=22, family='monospace')\n",
    "plt.ylabel('Station Name', fontsize=16)\n",
    "plt.xlabel('Trips taken', fontsize=16)\n",
    "plt.grid()\n",
    "plt.tight_layout\n",
    "\n",
    "#Save the output to file\n",
    "plt.savefig(\"../images/busiest_stations2021.png\", facecolor='white', dpi=300)\n",
    "\n",
    "plt.show()"
   ]
  },
  {
   "cell_type": "code",
   "execution_count": 16,
   "id": "5f7514d6-c301-4dc0-8a25-ff638844aca7",
   "metadata": {
    "collapsed": true,
    "jupyter": {
     "outputs_hidden": true
    },
    "tags": []
   },
   "outputs": [
    {
     "data": {
      "image/png": "[encoded data removed]",
      "text/plain": [
       "<Figure size 864x720 with 1 Axes>"
      ]
     },
     "metadata": {
      "needs_background": "light"
     },
     "output_type": "display_data"
    }
   ],
   "source": [
    "#Group by day of the week and create a subset of the data\n",
    "group = data2.groupby(['start_day'], as_index=False).agg(\n",
    "    count_col=pd.NamedAgg(column=\"start_day\", aggfunc=\"count\")\n",
    ")\n",
    "group.rename(columns={'start_day': 'Day of Week', \n",
    "                    'count_col':'Trips taken'}, inplace=True)\n",
    "group.sort_values(by='Trips taken',inplace=True)\n",
    "\n",
    "#Use seaborn and matplotlib to plot graph showing busiest day of the week\n",
    "plt.figure(figsize=(12,10))\n",
    "ax = sns.barplot(x = 'Day of Week',\n",
    "            y = 'Trips taken',\n",
    "            data = group)\n",
    "#Add plot title, label axes\n",
    "plt.title('Rides by Day', size=20, family='monospace')\n",
    "plt.ylabel('Trips taken', fontsize=16)\n",
    "plt.xlabel('Day of Week', fontsize=16)\n",
    "plt.tight_layout()\n",
    "\n",
    "#Save the output to file\n",
    "plt.savefig(\"../images/rides_by_day_Dec_2021.png\", facecolor='white',dpi=300)\n",
    "\n",
    "plt.show()"
   ]
  },
  {
   "cell_type": "code",
   "execution_count": 17,
   "id": "9a4a8e9b-b058-4d5e-bf06-a7f84b7bc9ea",
   "metadata": {},
   "outputs": [
    {
     "name": "stdout",
     "output_type": "stream",
     "text": [
      "2128\n"
     ]
    }
   ],
   "source": [
    "#Using the aggregate with groupby to group and \n",
    "#count the number of occurences in each group and assign to a new dataframe\n",
    "df_grouped = data2.groupby(['start_station_id', 'start_station_name', 'start_lat',\n",
    "       'start_lng'], as_index=False).agg(\n",
    "    count_col=pd.NamedAgg(column=\"start_station_id\", aggfunc=\"count\")\n",
    ")\n",
    "\n",
    "print(len(df_grouped))\n",
    "\n",
    "# Rename our columns\n",
    "df_grouped.rename(columns={'start_station_id': 'Station ID', \n",
    "                    'start_station_name': 'Station Name', \n",
    "                    'start_lat': 'Lat', \n",
    "                    'start_lng': 'Lon', \n",
    "                    'count_col':'Number of Trips'}, inplace=True)\n",
    "\n",
    "# Saving the dataframe to csv file\n",
    "outpath = '../data/2021Dec_revised.csv'\n",
    "df_grouped.to_csv(outpath, index=False)"
   ]
  },
  {
   "cell_type": "code",
   "execution_count": 18,
   "id": "7392fa7a-d21c-4f34-af88-06727b893469",
   "metadata": {},
   "outputs": [
    {
     "name": "stdout",
     "output_type": "stream",
     "text": [
      "There are 618, duplicate values from a total of 2128, values in the Dec 2021 cleaned dataset.\n"
     ]
    }
   ],
   "source": [
    "#Print statement to check for duplicate values\n",
    "print(f\"There are {df_grouped.duplicated(subset='Station ID').sum()},\"\n",
    "      f\" duplicate values from a total of {len(df_grouped)},\"\n",
    "      f\" values in the Dec 2021 cleaned dataset.\")"
   ]
  },
  {
   "cell_type": "markdown",
   "id": "91590884-3c19-4e8f-abcf-62cd7205fa31",
   "metadata": {
    "tags": []
   },
   "source": [
    "## Converting DataFrame to GeoDataFrame"
   ]
  },
  {
   "cell_type": "markdown",
   "id": "de00c503-8074-4590-bbbc-c5186e2a54be",
   "metadata": {},
   "source": [
    "### Read and process our cleaned 2021 datasets for mapping\n"
   ]
  },
  {
   "cell_type": "code",
   "execution_count": 21,
   "id": "dbfce35e-6e23-4fec-a4ef-a23194d821a3",
   "metadata": {},
   "outputs": [
    {
     "data": {
      "text/html": [
       "<div>\n",
       "<style scoped>\n",
       "    .dataframe tbody tr th:only-of-type {\n",
       "        vertical-align: middle;\n",
       "    }\n",
       "\n",
       "    .dataframe tbody tr th {\n",
       "        vertical-align: top;\n",
       "    }\n",
       "\n",
       "    .dataframe thead th {\n",
       "        text-align: right;\n",
       "    }\n",
       "</style>\n",
       "<table border=\"1\" class=\"dataframe\">\n",
       "  <thead>\n",
       "    <tr style=\"text-align: right;\">\n",
       "      <th></th>\n",
       "      <th>Station ID</th>\n",
       "      <th>Station Name</th>\n",
       "      <th>Lat</th>\n",
       "      <th>Lon</th>\n",
       "      <th>Number of Trips</th>\n",
       "      <th>geometry</th>\n",
       "    </tr>\n",
       "  </thead>\n",
       "  <tbody>\n",
       "    <tr>\n",
       "      <th>1047</th>\n",
       "      <td>6140.05</td>\n",
       "      <td>W 21 St &amp; 6 Ave</td>\n",
       "      <td>40.741740</td>\n",
       "      <td>-73.994156</td>\n",
       "      <td>8453</td>\n",
       "      <td>POINT (4535349.716 -12513185.284)</td>\n",
       "    </tr>\n",
       "    <tr>\n",
       "      <th>993</th>\n",
       "      <td>5980.07</td>\n",
       "      <td>E 17 St &amp; Broadway</td>\n",
       "      <td>40.737050</td>\n",
       "      <td>-73.990093</td>\n",
       "      <td>7762</td>\n",
       "      <td>POINT (4534827.645 -12511545.340)</td>\n",
       "    </tr>\n",
       "    <tr>\n",
       "      <th>1352</th>\n",
       "      <td>6822.09</td>\n",
       "      <td>1 Ave &amp; E 68 St</td>\n",
       "      <td>40.765005</td>\n",
       "      <td>-73.958185</td>\n",
       "      <td>7467</td>\n",
       "      <td>POINT (4537939.627 -12498679.134)</td>\n",
       "    </tr>\n",
       "    <tr>\n",
       "      <th>1131</th>\n",
       "      <td>6364.07</td>\n",
       "      <td>6 Ave &amp; W 33 St</td>\n",
       "      <td>40.749013</td>\n",
       "      <td>-73.988484</td>\n",
       "      <td>7069</td>\n",
       "      <td>POINT (4536159.345 -12510895.945)</td>\n",
       "    </tr>\n",
       "    <tr>\n",
       "      <th>970</th>\n",
       "      <td>5905.14</td>\n",
       "      <td>University Pl &amp; E 14 St</td>\n",
       "      <td>40.734814</td>\n",
       "      <td>-73.992085</td>\n",
       "      <td>6934</td>\n",
       "      <td>POINT (4534578.752 -12512349.413)</td>\n",
       "    </tr>\n",
       "    <tr>\n",
       "      <th>...</th>\n",
       "      <td>...</td>\n",
       "      <td>...</td>\n",
       "      <td>...</td>\n",
       "      <td>...</td>\n",
       "      <td>...</td>\n",
       "      <td>...</td>\n",
       "    </tr>\n",
       "    <tr>\n",
       "      <th>1081</th>\n",
       "      <td>6215.04</td>\n",
       "      <td>W 25 St &amp; 6 Ave</td>\n",
       "      <td>40.743954</td>\n",
       "      <td>-73.991449</td>\n",
       "      <td>3808</td>\n",
       "      <td>POINT (4535596.224 -12512092.569)</td>\n",
       "    </tr>\n",
       "    <tr>\n",
       "      <th>832</th>\n",
       "      <td>5553.10</td>\n",
       "      <td>E 2 St &amp; Avenue A</td>\n",
       "      <td>40.723077</td>\n",
       "      <td>-73.985836</td>\n",
       "      <td>3804</td>\n",
       "      <td>POINT (4533272.250 -12509827.457)</td>\n",
       "    </tr>\n",
       "    <tr>\n",
       "      <th>918</th>\n",
       "      <td>5755.14</td>\n",
       "      <td>University Pl &amp; E 8 St</td>\n",
       "      <td>40.731437</td>\n",
       "      <td>-73.994903</td>\n",
       "      <td>3785</td>\n",
       "      <td>POINT (4534202.853 -12513487.214)</td>\n",
       "    </tr>\n",
       "    <tr>\n",
       "      <th>732</th>\n",
       "      <td>5342.10</td>\n",
       "      <td>Allen St &amp; Hester St</td>\n",
       "      <td>40.716059</td>\n",
       "      <td>-73.991908</td>\n",
       "      <td>3739</td>\n",
       "      <td>POINT (4532490.917 -12512277.799)</td>\n",
       "    </tr>\n",
       "    <tr>\n",
       "      <th>1536</th>\n",
       "      <td>7212.05</td>\n",
       "      <td>E 85 St &amp; 3 Ave</td>\n",
       "      <td>40.778012</td>\n",
       "      <td>-73.954071</td>\n",
       "      <td>3736</td>\n",
       "      <td>POINT (4539387.535 -12497022.303)</td>\n",
       "    </tr>\n",
       "  </tbody>\n",
       "</table>\n",
       "<p>100 rows × 6 columns</p>\n",
       "</div>"
      ],
      "text/plain": [
       "     Station ID             Station Name        Lat        Lon  \\\n",
       "1047    6140.05          W 21 St & 6 Ave  40.741740 -73.994156   \n",
       "993     5980.07       E 17 St & Broadway  40.737050 -73.990093   \n",
       "1352    6822.09          1 Ave & E 68 St  40.765005 -73.958185   \n",
       "1131    6364.07          6 Ave & W 33 St  40.749013 -73.988484   \n",
       "970     5905.14  University Pl & E 14 St  40.734814 -73.992085   \n",
       "...         ...                      ...        ...        ...   \n",
       "1081    6215.04          W 25 St & 6 Ave  40.743954 -73.991449   \n",
       "832     5553.10        E 2 St & Avenue A  40.723077 -73.985836   \n",
       "918     5755.14   University Pl & E 8 St  40.731437 -73.994903   \n",
       "732     5342.10     Allen St & Hester St  40.716059 -73.991908   \n",
       "1536    7212.05          E 85 St & 3 Ave  40.778012 -73.954071   \n",
       "\n",
       "      Number of Trips                           geometry  \n",
       "1047             8453  POINT (4535349.716 -12513185.284)  \n",
       "993              7762  POINT (4534827.645 -12511545.340)  \n",
       "1352             7467  POINT (4537939.627 -12498679.134)  \n",
       "1131             7069  POINT (4536159.345 -12510895.945)  \n",
       "970              6934  POINT (4534578.752 -12512349.413)  \n",
       "...               ...                                ...  \n",
       "1081             3808  POINT (4535596.224 -12512092.569)  \n",
       "832              3804  POINT (4533272.250 -12509827.457)  \n",
       "918              3785  POINT (4534202.853 -12513487.214)  \n",
       "732              3739  POINT (4532490.917 -12512277.799)  \n",
       "1536             3736  POINT (4539387.535 -12497022.303)  \n",
       "\n",
       "[100 rows x 6 columns]"
      ]
     },
     "execution_count": 21,
     "metadata": {},
     "output_type": "execute_result"
    }
   ],
   "source": [
    "#Convert DataFrame to GeoDataFrame\n",
    "#Assign crs to the geodataframe\n",
    "#sorting dataframe by Trips\n",
    "\n",
    "gdf_Dec2021 = gpd.GeoDataFrame(df_grouped, \n",
    "                               geometry=gpd.points_from_xy(df_grouped.Lat, df_grouped.Lon), \n",
    "                               crs='epsg:4326'\n",
    "                              )\n",
    "# Let's make a backup copy of our data\n",
    "gdf_merc21 = gdf_Dec2021.copy()\n",
    "#We will use the backup in our subsequent analysis\n",
    "gdf_merc21 = gdf_merc21.to_crs(epsg=3857)\n",
    "\n",
    "#sorting 2021 data frame by Trips\n",
    "gdf_merc21.sort_values(\"Number of Trips\", axis = 0, ascending = False,\n",
    "                 inplace = True, na_position ='last')\n",
    "\n",
    "#Assign the sorted dataframe top 100 rows to a dataframe to be used in our maps\n",
    "gdf_2021_n100 = gdf_merc21.iloc[:100]\n",
    "\n",
    "gdf_2021_n100"
   ]
  },
  {
   "cell_type": "markdown",
   "id": "642ab81e-ac67-4b95-bcd8-cbeb9d71a1f0",
   "metadata": {
    "tags": []
   },
   "source": [
    "## Static Map"
   ]
  },
  {
   "cell_type": "code",
   "execution_count": 23,
   "id": "a6e4ebd0-203f-4ad0-ae9e-29e50bdb5163",
   "metadata": {},
   "outputs": [
    {
     "ename": "HTTPError",
     "evalue": "Tile URL resulted in a 404 error. Double-check your tile url:\nhttps://stamen-tiles-a.a.ssl.fastly.net/terrain/14/10044/13300.png",
     "output_type": "error",
     "traceback": [
      "\u001b[1;31m---------------------------------------------------------------------------\u001b[0m",
      "\u001b[1;31mHTTPError\u001b[0m                                 Traceback (most recent call last)",
      "\u001b[1;32mC:\\ProgramData\\Miniconda3\\envs\\autogis-2020\\lib\\site-packages\\contextily\\tile.py\u001b[0m in \u001b[0;36m_retryer\u001b[1;34m(tile_url, wait, max_retries)\u001b[0m\n\u001b[0;32m    446\u001b[0m         \u001b[0mrequest\u001b[0m \u001b[1;33m=\u001b[0m \u001b[0mrequests\u001b[0m\u001b[1;33m.\u001b[0m\u001b[0mget\u001b[0m\u001b[1;33m(\u001b[0m\u001b[0mtile_url\u001b[0m\u001b[1;33m,\u001b[0m \u001b[0mheaders\u001b[0m\u001b[1;33m=\u001b[0m\u001b[1;33m{\u001b[0m\u001b[1;34m\"user-agent\"\u001b[0m\u001b[1;33m:\u001b[0m \u001b[0mUSER_AGENT\u001b[0m\u001b[1;33m}\u001b[0m\u001b[1;33m)\u001b[0m\u001b[1;33m\u001b[0m\u001b[1;33m\u001b[0m\u001b[0m\n\u001b[1;32m--> 447\u001b[1;33m         \u001b[0mrequest\u001b[0m\u001b[1;33m.\u001b[0m\u001b[0mraise_for_status\u001b[0m\u001b[1;33m(\u001b[0m\u001b[1;33m)\u001b[0m\u001b[1;33m\u001b[0m\u001b[1;33m\u001b[0m\u001b[0m\n\u001b[0m\u001b[0;32m    448\u001b[0m     \u001b[1;32mexcept\u001b[0m \u001b[0mrequests\u001b[0m\u001b[1;33m.\u001b[0m\u001b[0mHTTPError\u001b[0m\u001b[1;33m:\u001b[0m\u001b[1;33m\u001b[0m\u001b[1;33m\u001b[0m\u001b[0m\n",
      "\u001b[1;32mC:\\ProgramData\\Miniconda3\\envs\\autogis-2020\\lib\\site-packages\\requests\\models.py\u001b[0m in \u001b[0;36mraise_for_status\u001b[1;34m(self)\u001b[0m\n\u001b[0;32m    952\u001b[0m         \u001b[1;32mif\u001b[0m \u001b[0mhttp_error_msg\u001b[0m\u001b[1;33m:\u001b[0m\u001b[1;33m\u001b[0m\u001b[1;33m\u001b[0m\u001b[0m\n\u001b[1;32m--> 953\u001b[1;33m             \u001b[1;32mraise\u001b[0m \u001b[0mHTTPError\u001b[0m\u001b[1;33m(\u001b[0m\u001b[0mhttp_error_msg\u001b[0m\u001b[1;33m,\u001b[0m \u001b[0mresponse\u001b[0m\u001b[1;33m=\u001b[0m\u001b[0mself\u001b[0m\u001b[1;33m)\u001b[0m\u001b[1;33m\u001b[0m\u001b[1;33m\u001b[0m\u001b[0m\n\u001b[0m\u001b[0;32m    954\u001b[0m \u001b[1;33m\u001b[0m\u001b[0m\n",
      "\u001b[1;31mHTTPError\u001b[0m: 404 Client Error: Not Found for url: https://stamen-tiles-a.a.ssl.fastly.net/terrain/14/10044/13300.png",
      "\nDuring handling of the above exception, another exception occurred:\n",
      "\u001b[1;31mHTTPError\u001b[0m                                 Traceback (most recent call last)",
      "\u001b[1;32mC:\\Users\\ADMINI~1\\AppData\\Local\\Temp/ipykernel_17132/2960469188.py\u001b[0m in \u001b[0;36m<module>\u001b[1;34m\u001b[0m\n\u001b[0;32m     18\u001b[0m \u001b[1;33m\u001b[0m\u001b[0m\n\u001b[0;32m     19\u001b[0m \u001b[1;31m#Add basemap from contextily\u001b[0m\u001b[1;33m\u001b[0m\u001b[1;33m\u001b[0m\u001b[1;33m\u001b[0m\u001b[0m\n\u001b[1;32m---> 20\u001b[1;33m \u001b[0mctx\u001b[0m\u001b[1;33m.\u001b[0m\u001b[0madd_basemap\u001b[0m\u001b[1;33m(\u001b[0m\u001b[0max\u001b[0m\u001b[1;33m)\u001b[0m\u001b[1;33m\u001b[0m\u001b[1;33m\u001b[0m\u001b[0m\n\u001b[0m",
      "\u001b[1;32mC:\\ProgramData\\Miniconda3\\envs\\autogis-2020\\lib\\site-packages\\contextily\\plotting.py\u001b[0m in \u001b[0;36madd_basemap\u001b[1;34m(ax, zoom, source, interpolation, attribution, attribution_size, reset_extent, crs, resampling, url, **extra_imshow_args)\u001b[0m\n\u001b[0;32m    141\u001b[0m             )\n\u001b[0;32m    142\u001b[0m         \u001b[1;31m# Download image\u001b[0m\u001b[1;33m\u001b[0m\u001b[1;33m\u001b[0m\u001b[1;33m\u001b[0m\u001b[0m\n\u001b[1;32m--> 143\u001b[1;33m         image, extent = bounds2img(\n\u001b[0m\u001b[0;32m    144\u001b[0m             \u001b[0mleft\u001b[0m\u001b[1;33m,\u001b[0m \u001b[0mbottom\u001b[0m\u001b[1;33m,\u001b[0m \u001b[0mright\u001b[0m\u001b[1;33m,\u001b[0m \u001b[0mtop\u001b[0m\u001b[1;33m,\u001b[0m \u001b[0mzoom\u001b[0m\u001b[1;33m=\u001b[0m\u001b[0mzoom\u001b[0m\u001b[1;33m,\u001b[0m \u001b[0msource\u001b[0m\u001b[1;33m=\u001b[0m\u001b[0msource\u001b[0m\u001b[1;33m,\u001b[0m \u001b[0mll\u001b[0m\u001b[1;33m=\u001b[0m\u001b[1;32mFalse\u001b[0m\u001b[1;33m\u001b[0m\u001b[1;33m\u001b[0m\u001b[0m\n\u001b[0;32m    145\u001b[0m         )\n",
      "\u001b[1;32mC:\\ProgramData\\Miniconda3\\envs\\autogis-2020\\lib\\site-packages\\contextily\\tile.py\u001b[0m in \u001b[0;36mbounds2img\u001b[1;34m(w, s, e, n, zoom, source, ll, wait, max_retries, url)\u001b[0m\n\u001b[0;32m    246\u001b[0m         \u001b[0mx\u001b[0m\u001b[1;33m,\u001b[0m \u001b[0my\u001b[0m\u001b[1;33m,\u001b[0m \u001b[0mz\u001b[0m \u001b[1;33m=\u001b[0m \u001b[0mt\u001b[0m\u001b[1;33m.\u001b[0m\u001b[0mx\u001b[0m\u001b[1;33m,\u001b[0m \u001b[0mt\u001b[0m\u001b[1;33m.\u001b[0m\u001b[0my\u001b[0m\u001b[1;33m,\u001b[0m \u001b[0mt\u001b[0m\u001b[1;33m.\u001b[0m\u001b[0mz\u001b[0m\u001b[1;33m\u001b[0m\u001b[1;33m\u001b[0m\u001b[0m\n\u001b[0;32m    247\u001b[0m         \u001b[0mtile_url\u001b[0m \u001b[1;33m=\u001b[0m \u001b[0m_construct_tile_url\u001b[0m\u001b[1;33m(\u001b[0m\u001b[0mprovider\u001b[0m\u001b[1;33m,\u001b[0m \u001b[0mx\u001b[0m\u001b[1;33m,\u001b[0m \u001b[0my\u001b[0m\u001b[1;33m,\u001b[0m \u001b[0mz\u001b[0m\u001b[1;33m)\u001b[0m\u001b[1;33m\u001b[0m\u001b[1;33m\u001b[0m\u001b[0m\n\u001b[1;32m--> 248\u001b[1;33m         \u001b[0mimage\u001b[0m \u001b[1;33m=\u001b[0m \u001b[0m_fetch_tile\u001b[0m\u001b[1;33m(\u001b[0m\u001b[0mtile_url\u001b[0m\u001b[1;33m,\u001b[0m \u001b[0mwait\u001b[0m\u001b[1;33m,\u001b[0m \u001b[0mmax_retries\u001b[0m\u001b[1;33m)\u001b[0m\u001b[1;33m\u001b[0m\u001b[1;33m\u001b[0m\u001b[0m\n\u001b[0m\u001b[0;32m    249\u001b[0m         \u001b[0mtiles\u001b[0m\u001b[1;33m.\u001b[0m\u001b[0mappend\u001b[0m\u001b[1;33m(\u001b[0m\u001b[0mt\u001b[0m\u001b[1;33m)\u001b[0m\u001b[1;33m\u001b[0m\u001b[1;33m\u001b[0m\u001b[0m\n\u001b[0;32m    250\u001b[0m         \u001b[0marrays\u001b[0m\u001b[1;33m.\u001b[0m\u001b[0mappend\u001b[0m\u001b[1;33m(\u001b[0m\u001b[0mimage\u001b[0m\u001b[1;33m)\u001b[0m\u001b[1;33m\u001b[0m\u001b[1;33m\u001b[0m\u001b[0m\n",
      "\u001b[1;32mC:\\ProgramData\\Miniconda3\\envs\\autogis-2020\\lib\\site-packages\\joblib\\memory.py\u001b[0m in \u001b[0;36m__call__\u001b[1;34m(self, *args, **kwargs)\u001b[0m\n\u001b[0;32m    592\u001b[0m \u001b[1;33m\u001b[0m\u001b[0m\n\u001b[0;32m    593\u001b[0m     \u001b[1;32mdef\u001b[0m \u001b[0m__call__\u001b[0m\u001b[1;33m(\u001b[0m\u001b[0mself\u001b[0m\u001b[1;33m,\u001b[0m \u001b[1;33m*\u001b[0m\u001b[0margs\u001b[0m\u001b[1;33m,\u001b[0m \u001b[1;33m**\u001b[0m\u001b[0mkwargs\u001b[0m\u001b[1;33m)\u001b[0m\u001b[1;33m:\u001b[0m\u001b[1;33m\u001b[0m\u001b[1;33m\u001b[0m\u001b[0m\n\u001b[1;32m--> 594\u001b[1;33m         \u001b[1;32mreturn\u001b[0m \u001b[0mself\u001b[0m\u001b[1;33m.\u001b[0m\u001b[0m_cached_call\u001b[0m\u001b[1;33m(\u001b[0m\u001b[0margs\u001b[0m\u001b[1;33m,\u001b[0m \u001b[0mkwargs\u001b[0m\u001b[1;33m)\u001b[0m\u001b[1;33m[\u001b[0m\u001b[1;36m0\u001b[0m\u001b[1;33m]\u001b[0m\u001b[1;33m\u001b[0m\u001b[1;33m\u001b[0m\u001b[0m\n\u001b[0m\u001b[0;32m    595\u001b[0m \u001b[1;33m\u001b[0m\u001b[0m\n\u001b[0;32m    596\u001b[0m     \u001b[1;32mdef\u001b[0m \u001b[0m__getstate__\u001b[0m\u001b[1;33m(\u001b[0m\u001b[0mself\u001b[0m\u001b[1;33m)\u001b[0m\u001b[1;33m:\u001b[0m\u001b[1;33m\u001b[0m\u001b[1;33m\u001b[0m\u001b[0m\n",
      "\u001b[1;32mC:\\ProgramData\\Miniconda3\\envs\\autogis-2020\\lib\\site-packages\\joblib\\memory.py\u001b[0m in \u001b[0;36m_cached_call\u001b[1;34m(self, args, kwargs, shelving)\u001b[0m\n\u001b[0;32m    535\u001b[0m \u001b[1;33m\u001b[0m\u001b[0m\n\u001b[0;32m    536\u001b[0m         \u001b[1;32mif\u001b[0m \u001b[0mmust_call\u001b[0m\u001b[1;33m:\u001b[0m\u001b[1;33m\u001b[0m\u001b[1;33m\u001b[0m\u001b[0m\n\u001b[1;32m--> 537\u001b[1;33m             \u001b[0mout\u001b[0m\u001b[1;33m,\u001b[0m \u001b[0mmetadata\u001b[0m \u001b[1;33m=\u001b[0m \u001b[0mself\u001b[0m\u001b[1;33m.\u001b[0m\u001b[0mcall\u001b[0m\u001b[1;33m(\u001b[0m\u001b[1;33m*\u001b[0m\u001b[0margs\u001b[0m\u001b[1;33m,\u001b[0m \u001b[1;33m**\u001b[0m\u001b[0mkwargs\u001b[0m\u001b[1;33m)\u001b[0m\u001b[1;33m\u001b[0m\u001b[1;33m\u001b[0m\u001b[0m\n\u001b[0m\u001b[0;32m    538\u001b[0m             \u001b[1;32mif\u001b[0m \u001b[0mself\u001b[0m\u001b[1;33m.\u001b[0m\u001b[0mmmap_mode\u001b[0m \u001b[1;32mis\u001b[0m \u001b[1;32mnot\u001b[0m \u001b[1;32mNone\u001b[0m\u001b[1;33m:\u001b[0m\u001b[1;33m\u001b[0m\u001b[1;33m\u001b[0m\u001b[0m\n\u001b[0;32m    539\u001b[0m                 \u001b[1;31m# Memmap the output at the first call to be consistent with\u001b[0m\u001b[1;33m\u001b[0m\u001b[1;33m\u001b[0m\u001b[1;33m\u001b[0m\u001b[0m\n",
      "\u001b[1;32mC:\\ProgramData\\Miniconda3\\envs\\autogis-2020\\lib\\site-packages\\joblib\\memory.py\u001b[0m in \u001b[0;36mcall\u001b[1;34m(self, *args, **kwargs)\u001b[0m\n\u001b[0;32m    777\u001b[0m         \u001b[1;32mif\u001b[0m \u001b[0mself\u001b[0m\u001b[1;33m.\u001b[0m\u001b[0m_verbose\u001b[0m \u001b[1;33m>\u001b[0m \u001b[1;36m0\u001b[0m\u001b[1;33m:\u001b[0m\u001b[1;33m\u001b[0m\u001b[1;33m\u001b[0m\u001b[0m\n\u001b[0;32m    778\u001b[0m             \u001b[0mprint\u001b[0m\u001b[1;33m(\u001b[0m\u001b[0mformat_call\u001b[0m\u001b[1;33m(\u001b[0m\u001b[0mself\u001b[0m\u001b[1;33m.\u001b[0m\u001b[0mfunc\u001b[0m\u001b[1;33m,\u001b[0m \u001b[0margs\u001b[0m\u001b[1;33m,\u001b[0m \u001b[0mkwargs\u001b[0m\u001b[1;33m)\u001b[0m\u001b[1;33m)\u001b[0m\u001b[1;33m\u001b[0m\u001b[1;33m\u001b[0m\u001b[0m\n\u001b[1;32m--> 779\u001b[1;33m         \u001b[0moutput\u001b[0m \u001b[1;33m=\u001b[0m \u001b[0mself\u001b[0m\u001b[1;33m.\u001b[0m\u001b[0mfunc\u001b[0m\u001b[1;33m(\u001b[0m\u001b[1;33m*\u001b[0m\u001b[0margs\u001b[0m\u001b[1;33m,\u001b[0m \u001b[1;33m**\u001b[0m\u001b[0mkwargs\u001b[0m\u001b[1;33m)\u001b[0m\u001b[1;33m\u001b[0m\u001b[1;33m\u001b[0m\u001b[0m\n\u001b[0m\u001b[0;32m    780\u001b[0m         self.store_backend.dump_item(\n\u001b[0;32m    781\u001b[0m             [func_id, args_id], output, verbose=self._verbose)\n",
      "\u001b[1;32mC:\\ProgramData\\Miniconda3\\envs\\autogis-2020\\lib\\site-packages\\contextily\\tile.py\u001b[0m in \u001b[0;36m_fetch_tile\u001b[1;34m(tile_url, wait, max_retries)\u001b[0m\n\u001b[0;32m    301\u001b[0m \u001b[1;33m@\u001b[0m\u001b[0mmemory\u001b[0m\u001b[1;33m.\u001b[0m\u001b[0mcache\u001b[0m\u001b[1;33m\u001b[0m\u001b[1;33m\u001b[0m\u001b[0m\n\u001b[0;32m    302\u001b[0m \u001b[1;32mdef\u001b[0m \u001b[0m_fetch_tile\u001b[0m\u001b[1;33m(\u001b[0m\u001b[0mtile_url\u001b[0m\u001b[1;33m,\u001b[0m \u001b[0mwait\u001b[0m\u001b[1;33m,\u001b[0m \u001b[0mmax_retries\u001b[0m\u001b[1;33m)\u001b[0m\u001b[1;33m:\u001b[0m\u001b[1;33m\u001b[0m\u001b[1;33m\u001b[0m\u001b[0m\n\u001b[1;32m--> 303\u001b[1;33m     \u001b[0mrequest\u001b[0m \u001b[1;33m=\u001b[0m \u001b[0m_retryer\u001b[0m\u001b[1;33m(\u001b[0m\u001b[0mtile_url\u001b[0m\u001b[1;33m,\u001b[0m \u001b[0mwait\u001b[0m\u001b[1;33m,\u001b[0m \u001b[0mmax_retries\u001b[0m\u001b[1;33m)\u001b[0m\u001b[1;33m\u001b[0m\u001b[1;33m\u001b[0m\u001b[0m\n\u001b[0m\u001b[0;32m    304\u001b[0m     \u001b[1;32mwith\u001b[0m \u001b[0mio\u001b[0m\u001b[1;33m.\u001b[0m\u001b[0mBytesIO\u001b[0m\u001b[1;33m(\u001b[0m\u001b[0mrequest\u001b[0m\u001b[1;33m.\u001b[0m\u001b[0mcontent\u001b[0m\u001b[1;33m)\u001b[0m \u001b[1;32mas\u001b[0m \u001b[0mimage_stream\u001b[0m\u001b[1;33m:\u001b[0m\u001b[1;33m\u001b[0m\u001b[1;33m\u001b[0m\u001b[0m\n\u001b[0;32m    305\u001b[0m         \u001b[0mimage\u001b[0m \u001b[1;33m=\u001b[0m \u001b[0mImage\u001b[0m\u001b[1;33m.\u001b[0m\u001b[0mopen\u001b[0m\u001b[1;33m(\u001b[0m\u001b[0mimage_stream\u001b[0m\u001b[1;33m)\u001b[0m\u001b[1;33m.\u001b[0m\u001b[0mconvert\u001b[0m\u001b[1;33m(\u001b[0m\u001b[1;34m\"RGBA\"\u001b[0m\u001b[1;33m)\u001b[0m\u001b[1;33m\u001b[0m\u001b[1;33m\u001b[0m\u001b[0m\n",
      "\u001b[1;32mC:\\ProgramData\\Miniconda3\\envs\\autogis-2020\\lib\\site-packages\\contextily\\tile.py\u001b[0m in \u001b[0;36m_retryer\u001b[1;34m(tile_url, wait, max_retries)\u001b[0m\n\u001b[0;32m    448\u001b[0m     \u001b[1;32mexcept\u001b[0m \u001b[0mrequests\u001b[0m\u001b[1;33m.\u001b[0m\u001b[0mHTTPError\u001b[0m\u001b[1;33m:\u001b[0m\u001b[1;33m\u001b[0m\u001b[1;33m\u001b[0m\u001b[0m\n\u001b[0;32m    449\u001b[0m         \u001b[1;32mif\u001b[0m \u001b[0mrequest\u001b[0m\u001b[1;33m.\u001b[0m\u001b[0mstatus_code\u001b[0m \u001b[1;33m==\u001b[0m \u001b[1;36m404\u001b[0m\u001b[1;33m:\u001b[0m\u001b[1;33m\u001b[0m\u001b[1;33m\u001b[0m\u001b[0m\n\u001b[1;32m--> 450\u001b[1;33m             raise requests.HTTPError(\n\u001b[0m\u001b[0;32m    451\u001b[0m                 \u001b[1;34m\"Tile URL resulted in a 404 error. \"\u001b[0m\u001b[1;33m\u001b[0m\u001b[1;33m\u001b[0m\u001b[0m\n\u001b[0;32m    452\u001b[0m                 \u001b[1;34m\"Double-check your tile url:\\n{}\"\u001b[0m\u001b[1;33m.\u001b[0m\u001b[0mformat\u001b[0m\u001b[1;33m(\u001b[0m\u001b[0mtile_url\u001b[0m\u001b[1;33m)\u001b[0m\u001b[1;33m\u001b[0m\u001b[1;33m\u001b[0m\u001b[0m\n",
      "\u001b[1;31mHTTPError\u001b[0m: Tile URL resulted in a 404 error. Double-check your tile url:\nhttps://stamen-tiles-a.a.ssl.fastly.net/terrain/14/10044/13300.png"
     ]
    },
    {
     "data": {
      "image/png": "[encoded data removed]",
      "text/plain": [
       "<Figure size 1080x1296 with 1 Axes>"
      ]
     },
     "metadata": {
      "needs_background": "light"
     },
     "output_type": "display_data"
    }
   ],
   "source": [
    "# Tests on BaseMaps\n",
    "#Import matplotlib package for our plotting and contextly for our basemaps\n",
    "import matplotlib.pyplot as plt\n",
    "import contextily as ctx\n",
    "\n",
    "# Create subplot for 2018 data\n",
    "fig, ax = plt.subplots(figsize=(15,18))\n",
    "\n",
    "#Plot the static map\n",
    "gdf_2021_n100.plot(ax=ax,c=\"red\") \n",
    "\n",
    "# Set title and label axes\n",
    "plt.title(\"100 Busiest Bike Stations in 2021, New York City\", \n",
    "          fontsize=16,family=\"Monospace\")\n",
    "plt.xlabel('Longitude', fontsize=12)\n",
    "plt.ylabel('Latitude', fontsize=12)\n",
    "plt.tight_layout()\n",
    "\n",
    "#Add basemap from contextily\n",
    "ctx.add_basemap(ax)"
   ]
  },
  {
   "cell_type": "markdown",
   "id": "f225be98-41ad-40c3-969d-61b2e685981d",
   "metadata": {
    "jp-MarkdownHeadingCollapsed": true,
    "tags": []
   },
   "source": [
    "## Interactive Map"
   ]
  },
  {
   "cell_type": "code",
   "execution_count": 129,
   "id": "99ab1c48-c593-436d-a43d-0f1eaf7eb3e2",
   "metadata": {},
   "outputs": [
    {
     "data": {
      "text/html": [
       "<div style=\"width:100%;\"><div style=\"position:relative;width:100%;height:0;padding-bottom:60%;\"><span style=\"color:#565656\">Make this Notebook Trusted to load map: File -> Trust Notebook</span><iframe src=\"about:blank\" style=\"position:absolute;width:100%;height:100%;left:0;top:0;border:none !important;\" data-html=%3C%21DOCTYPE%20html%3E%0A%3Chead%3E%20%20%20%20%0A%20%20%20%20%3Cmeta%20http-equiv%3D%22content-type%22%20content%3D%22text/html%3B%20charset%3DUTF-8%22%20/%3E%0A%20%20%20%20%0A%20%20%20%20%20%20%20%20%3Cscript%3E%0A%20%20%20%20%20%20%20%20%20%20%20%20L_NO_TOUCH%20%3D%20false%3B%0A%20%20%20%20%20%20%20%20%20%20%20%20L_DISABLE_3D%20%3D%20false%3B%0A%20%20%20%20%20%20%20%20%3C/script%3E%0A%20%20%20%20%0A%20%20%20%20%3Cstyle%3Ehtml%2C%20body%20%7Bwidth%3A%20100%25%3Bheight%3A%20100%25%3Bmargin%3A%200%3Bpadding%3A%200%3B%7D%3C/style%3E%0A%20%20%20%20%3Cstyle%3E%23map%20%7Bposition%3Aabsolute%3Btop%3A0%3Bbottom%3A0%3Bright%3A0%3Bleft%3A0%3B%7D%3C/style%3E%0A%20%20%20%20%3Cscript%20src%3D%22https%3A//cdn.jsdelivr.net/npm/leaflet%401.6.0/dist/leaflet.js%22%3E%3C/script%3E%0A%20%20%20%20%3Cscript%20src%3D%22https%3A//code.jquery.com/jquery-1.12.4.min.js%22%3E%3C/script%3E%0A%20%20%20%20%3Cscript%20src%3D%22https%3A//maxcdn.bootstrapcdn.com/bootstrap/3.2.0/js/bootstrap.min.js%22%3E%3C/script%3E%0A%20%20%20%20%3Cscript%20src%3D%22https%3A//cdnjs.cloudflare.com/ajax/libs/Leaflet.awesome-markers/2.0.2/leaflet.awesome-markers.js%22%3E%3C/script%3E%0A%20%20%20%20%3Clink%20rel%3D%22stylesheet%22%20href%3D%22https%3A//cdn.jsdelivr.net/npm/leaflet%401.6.0/dist/leaflet.css%22/%3E%0A%20%20%20%20%3Clink%20rel%3D%22stylesheet%22%20href%3D%22https%3A//maxcdn.bootstrapcdn.com/bootstrap/3.2.0/css/bootstrap.min.css%22/%3E%0A%20%20%20%20%3Clink%20rel%3D%22stylesheet%22%20href%3D%22https%3A//maxcdn.bootstrapcdn.com/bootstrap/3.2.0/css/bootstrap-theme.min.css%22/%3E%0A%20%20%20%20%3Clink%20rel%3D%22stylesheet%22%20href%3D%22https%3A//maxcdn.bootstrapcdn.com/font-awesome/4.6.3/css/font-awesome.min.css%22/%3E%0A%20%20%20%20%3Clink%20rel%3D%22stylesheet%22%20href%3D%22https%3A//cdnjs.cloudflare.com/ajax/libs/Leaflet.awesome-markers/2.0.2/leaflet.awesome-markers.css%22/%3E%0A%20%20%20%20%3Clink%20rel%3D%22stylesheet%22%20href%3D%22https%3A//cdn.jsdelivr.net/gh/python-visualization/folium/folium/templates/leaflet.awesome.rotate.min.css%22/%3E%0A%20%20%20%20%0A%20%20%20%20%20%20%20%20%20%20%20%20%3Cmeta%20name%3D%22viewport%22%20content%3D%22width%3Ddevice-width%2C%0A%20%20%20%20%20%20%20%20%20%20%20%20%20%20%20%20initial-scale%3D1.0%2C%20maximum-scale%3D1.0%2C%20user-scalable%3Dno%22%20/%3E%0A%20%20%20%20%20%20%20%20%20%20%20%20%3Cstyle%3E%0A%20%20%20%20%20%20%20%20%20%20%20%20%20%20%20%20%23map_7d19f808b170418b95f8ea1cf5aa5db0%20%7B%0A%20%20%20%20%20%20%20%20%20%20%20%20%20%20%20%20%20%20%20%20position%3A%20relative%3B%0A%20%20%20%20%20%20%20%20%20%20%20%20%20%20%20%20%20%20%20%20width%3A%20100.0%25%3B%0A%20%20%20%20%20%20%20%20%20%20%20%20%20%20%20%20%20%20%20%20height%3A%20100.0%25%3B%0A%20%20%20%20%20%20%20%20%20%20%20%20%20%20%20%20%20%20%20%20left%3A%200.0%25%3B%0A%20%20%20%20%20%20%20%20%20%20%20%20%20%20%20%20%20%20%20%20top%3A%200.0%25%3B%0A%20%20%20%20%20%20%20%20%20%20%20%20%20%20%20%20%7D%0A%20%20%20%20%20%20%20%20%20%20%20%20%3C/style%3E%0A%20%20%20%20%20%20%20%20%0A%20%20%20%20%0A%20%20%20%20%20%20%20%20%20%20%20%20%20%20%20%20%20%20%20%20%3Cstyle%3E%0A%20%20%20%20%20%20%20%20%20%20%20%20%20%20%20%20%20%20%20%20%20%20%20%20.foliumtooltip%20%7B%0A%20%20%20%20%20%20%20%20%20%20%20%20%20%20%20%20%20%20%20%20%20%20%20%20%20%20%20%20%0A%20%20%20%20%20%20%20%20%20%20%20%20%20%20%20%20%20%20%20%20%20%20%20%20%7D%0A%20%20%20%20%20%20%20%20%20%20%20%20%20%20%20%20%20%20%20%20%20%20%20.foliumtooltip%20table%7B%0A%20%20%20%20%20%20%20%20%20%20%20%20%20%20%20%20%20%20%20%20%20%20%20%20%20%20%20%20margin%3A%20auto%3B%0A%20%20%20%20%20%20%20%20%20%20%20%20%20%20%20%20%20%20%20%20%20%20%20%20%7D%0A%20%20%20%20%20%20%20%20%20%20%20%20%20%20%20%20%20%20%20%20%20%20%20%20.foliumtooltip%20tr%7B%0A%20%20%20%20%20%20%20%20%20%20%20%20%20%20%20%20%20%20%20%20%20%20%20%20%20%20%20%20text-align%3A%20left%3B%0A%20%20%20%20%20%20%20%20%20%20%20%20%20%20%20%20%20%20%20%20%20%20%20%20%7D%0A%20%20%20%20%20%20%20%20%20%20%20%20%20%20%20%20%20%20%20%20%20%20%20%20.foliumtooltip%20th%7B%0A%20%20%20%20%20%20%20%20%20%20%20%20%20%20%20%20%20%20%20%20%20%20%20%20%20%20%20%20padding%3A%202px%3B%20padding-right%3A%208px%3B%0A%20%20%20%20%20%20%20%20%20%20%20%20%20%20%20%20%20%20%20%20%20%20%20%20%7D%0A%20%20%20%20%20%20%20%20%20%20%20%20%20%20%20%20%20%20%20%20%3C/style%3E%0A%20%20%20%20%20%20%20%20%20%20%20%20%0A%3C/head%3E%0A%3Cbody%3E%20%20%20%20%0A%20%20%20%20%0A%20%20%20%20%20%20%20%20%20%20%20%20%20%3Ch3%20align%3D%22center%22%20style%3D%22font-size%3A18px%22%3E%3Cb%3ETop%20100%2C%20Busiest%20Bike%20Stations%20in%20New%20York%20City%20in%20Dec%202021%3C/b%3E%3C/h3%3E%0A%20%20%20%20%20%20%20%20%20%20%20%20%20%0A%20%20%20%20%0A%20%20%20%20%20%20%20%20%20%20%20%20%3Cdiv%20class%3D%22folium-map%22%20id%3D%22map_7d19f808b170418b95f8ea1cf5aa5db0%22%20%3E%3C/div%3E%0A%20%20%20%20%20%20%20%20%0A%3C/body%3E%0A%3Cscript%3E%20%20%20%20%0A%20%20%20%20%0A%20%20%20%20%20%20%20%20%20%20%20%20var%20map_7d19f808b170418b95f8ea1cf5aa5db0%20%3D%20L.map%28%0A%20%20%20%20%20%20%20%20%20%20%20%20%20%20%20%20%22map_7d19f808b170418b95f8ea1cf5aa5db0%22%2C%0A%20%20%20%20%20%20%20%20%20%20%20%20%20%20%20%20%7B%0A%20%20%20%20%20%20%20%20%20%20%20%20%20%20%20%20%20%20%20%20center%3A%20%5B40.751873%2C%20-73.977706%5D%2C%0A%20%20%20%20%20%20%20%20%20%20%20%20%20%20%20%20%20%20%20%20crs%3A%20L.CRS.EPSG3857%2C%0A%20%20%20%20%20%20%20%20%20%20%20%20%20%20%20%20%20%20%20%20zoom%3A%2013%2C%0A%20%20%20%20%20%20%20%20%20%20%20%20%20%20%20%20%20%20%20%20zoomControl%3A%20true%2C%0A%20%20%20%20%20%20%20%20%20%20%20%20%20%20%20%20%20%20%20%20preferCanvas%3A%20false%2C%0A%20%20%20%20%20%20%20%20%20%20%20%20%20%20%20%20%7D%0A%20%20%20%20%20%20%20%20%20%20%20%20%29%3B%0A%0A%20%20%20%20%20%20%20%20%20%20%20%20%0A%0A%20%20%20%20%20%20%20%20%0A%20%20%20%20%0A%20%20%20%20%20%20%20%20%20%20%20%20var%20tile_layer_4e338fc104e24639b4bb435b2402f8f9%20%3D%20L.tileLayer%28%0A%20%20%20%20%20%20%20%20%20%20%20%20%20%20%20%20%22https%3A//%7Bs%7D.tile.openstreetmap.org/%7Bz%7D/%7Bx%7D/%7By%7D.png%22%2C%0A%20%20%20%20%20%20%20%20%20%20%20%20%20%20%20%20%7B%22attribution%22%3A%20%22Data%20by%20%5Cu0026copy%3B%20%5Cu003ca%20href%3D%5C%22http%3A//openstreetmap.org%5C%22%5Cu003eOpenStreetMap%5Cu003c/a%5Cu003e%2C%20under%20%5Cu003ca%20href%3D%5C%22http%3A//www.openstreetmap.org/copyright%5C%22%5Cu003eODbL%5Cu003c/a%5Cu003e.%22%2C%20%22detectRetina%22%3A%20false%2C%20%22maxNativeZoom%22%3A%2018%2C%20%22maxZoom%22%3A%2018%2C%20%22minZoom%22%3A%200%2C%20%22noWrap%22%3A%20false%2C%20%22opacity%22%3A%201%2C%20%22subdomains%22%3A%20%22abc%22%2C%20%22tms%22%3A%20false%7D%0A%20%20%20%20%20%20%20%20%20%20%20%20%29.addTo%28map_7d19f808b170418b95f8ea1cf5aa5db0%29%3B%0A%20%20%20%20%20%20%20%20%0A%20%20%20%20%0A%20%20%20%20%20%20%20%20%20%20%20%20var%20feature_group_a293a8e4c8be47b99765737adf96f656%20%3D%20L.featureGroup%28%0A%20%20%20%20%20%20%20%20%20%20%20%20%20%20%20%20%7B%7D%0A%20%20%20%20%20%20%20%20%20%20%20%20%29.addTo%28map_7d19f808b170418b95f8ea1cf5aa5db0%29%3B%0A%20%20%20%20%20%20%20%20%0A%20%20%20%20%0A%20%20%20%20%20%20%20%20function%20geo_json_33644b3caa1c46a69741fa82b2294cca_pointToLayer%28feature%2C%20latlng%29%20%7B%0A%20%20%20%20%20%20%20%20%20%20%20%20var%20opts%20%3D%20%7B%7D%3B%0A%20%20%20%20%20%20%20%20%20%20%20%20%0A%20%20%20%20%20%20%20%20%20%20%20%20const%20iconOptions%20%3D%20%7B%22extraClasses%22%3A%20%22fa-rotate-0%22%2C%20%22icon%22%3A%20%22info-sign%22%2C%20%22iconColor%22%3A%20%22white%22%2C%20%22markerColor%22%3A%20%22red%22%2C%20%22prefix%22%3A%20%22glyphicon%22%7D%0A%20%20%20%20%20%20%20%20%20%20%20%20const%20iconRootAlias%20%3D%20L.AwesomeMarkers%0A%20%20%20%20%20%20%20%20%20%20%20%20opts.icon%20%3D%20new%20iconRootAlias.Icon%28iconOptions%29%0A%20%20%20%20%20%20%20%20%20%20%20%20%0A%20%20%20%20%20%20%20%20%20%20%20%20return%20new%20L.Marker%28latlng%2C%20opts%29%0A%20%20%20%20%20%20%20%20%7D%0A%0A%20%20%20%20%20%20%20%20function%20geo_json_33644b3caa1c46a69741fa82b2294cca_onEachFeature%28feature%2C%20layer%29%20%7B%0A%20%20%20%20%20%20%20%20%20%20%20%20layer.on%28%7B%0A%20%20%20%20%20%20%20%20%20%20%20%20%7D%29%3B%0A%20%20%20%20%20%20%20%20%7D%3B%0A%20%20%20%20%20%20%20%20var%20geo_json_33644b3caa1c46a69741fa82b2294cca%20%3D%20L.geoJson%28null%2C%20%7B%0A%20%20%20%20%20%20%20%20%20%20%20%20%20%20%20%20onEachFeature%3A%20geo_json_33644b3caa1c46a69741fa82b2294cca_onEachFeature%2C%0A%20%20%20%20%20%20%20%20%20%20%20%20%0A%20%20%20%20%20%20%20%20%20%20%20%20%20%20%20%20pointToLayer%3A%20geo_json_33644b3caa1c46a69741fa82b2294cca_pointToLayer%0A%20%20%20%20%20%20%20%20%7D%29%3B%0A%0A%20%20%20%20%20%20%20%20function%20geo_json_33644b3caa1c46a69741fa82b2294cca_add%20%28data%29%20%7B%0A%20%20%20%20%20%20%20%20%20%20%20%20geo_json_33644b3caa1c46a69741fa82b2294cca%0A%20%20%20%20%20%20%20%20%20%20%20%20%20%20%20%20.addData%28data%29%0A%20%20%20%20%20%20%20%20%20%20%20%20%20%20%20%20.addTo%28feature_group_a293a8e4c8be47b99765737adf96f656%29%3B%0A%20%20%20%20%20%20%20%20%7D%0A%20%20%20%20%20%20%20%20%20%20%20%20geo_json_33644b3caa1c46a69741fa82b2294cca_add%28%7B%22bbox%22%3A%20%5B40.70657545063453%2C%20-74.0867006778717%2C%2040.75453%2C%20-74.02402%5D%2C%20%22features%22%3A%20%5B%7B%22bbox%22%3A%20%5B40.71958611647166%2C%20-74.04311746358871%2C%2040.71958611647166%2C%20-74.04311746358871%5D%2C%20%22geometry%22%3A%20%7B%22coordinates%22%3A%20%5B40.71958611647166%2C%20-74.04311746358871%5D%2C%20%22type%22%3A%20%22Point%22%7D%2C%20%22id%22%3A%20%2249%22%2C%20%22properties%22%3A%20%7B%22Lat%22%3A%2040.71958611647166%2C%20%22Lon%22%3A%20-74.04311746358871%2C%20%22Number%20of%20Trips%22%3A%202360%2C%20%22Station%20ID%22%3A%20%22JC005%22%2C%20%22Station%20Name%22%3A%20%22Grove%20St%20PATH%22%7D%2C%20%22type%22%3A%20%22Feature%22%7D%2C%20%7B%22bbox%22%3A%20%5B40.7360676564825%2C%20-74.02912706136703%2C%2040.7360676564825%2C%20-74.02912706136703%5D%2C%20%22geometry%22%3A%20%7B%22coordinates%22%3A%20%5B40.7360676564825%2C%20-74.02912706136703%5D%2C%20%22type%22%3A%20%22Point%22%7D%2C%20%22id%22%3A%20%222%22%2C%20%22properties%22%3A%20%7B%22Lat%22%3A%2040.7360676564825%2C%20%22Lon%22%3A%20-74.02912706136703%2C%20%22Number%20of%20Trips%22%3A%202133%2C%20%22Station%20ID%22%3A%20%22HB102%22%2C%20%22Station%20Name%22%3A%20%22Hoboken%20Terminal%20-%20River%20St%20%5Cu0026%20Hudson%20Pl%22%7D%2C%20%22type%22%3A%20%22Feature%22%7D%2C%20%7B%22bbox%22%3A%20%5B40.73089709786179%2C%20-74.06391263008118%2C%2040.73089709786179%2C%20-74.06391263008118%5D%2C%20%22geometry%22%3A%20%7B%22coordinates%22%3A%20%5B40.73089709786179%2C%20-74.06391263008118%5D%2C%20%22type%22%3A%20%22Point%22%7D%2C%20%22id%22%3A%20%2289%22%2C%20%22properties%22%3A%20%7B%22Lat%22%3A%2040.73089709786179%2C%20%22Lon%22%3A%20-74.06391263008118%2C%20%22Number%20of%20Trips%22%3A%201671%2C%20%22Station%20ID%22%3A%20%22JC056%22%2C%20%22Station%20Name%22%3A%20%22Sip%20Ave%22%7D%2C%20%22type%22%3A%20%22Feature%22%7D%2C%20%7B%22bbox%22%3A%20%5B40.73593758446329%2C%20-74.03030455112457%2C%2040.73593758446329%2C%20-74.03030455112457%5D%2C%20%22geometry%22%3A%20%7B%22coordinates%22%3A%20%5B40.73593758446329%2C%20-74.03030455112457%5D%2C%20%22type%22%3A%20%22Point%22%7D%2C%20%22id%22%3A%20%220%22%2C%20%22properties%22%3A%20%7B%22Lat%22%3A%2040.73593758446329%2C%20%22Lon%22%3A%20-74.03030455112457%2C%20%22Number%20of%20Trips%22%3A%201646%2C%20%22Station%20ID%22%3A%20%22HB101%22%2C%20%22Station%20Name%22%3A%20%22Hoboken%20Terminal%20-%20Hudson%20St%20%5Cu0026%20Hudson%20Pl%22%7D%2C%20%22type%22%3A%20%22Feature%22%7D%2C%20%7B%22bbox%22%3A%20%5B40.7272235%2C%20-74.0337589%2C%2040.7272235%2C%20-74.0337589%5D%2C%20%22geometry%22%3A%20%7B%22coordinates%22%3A%20%5B40.7272235%2C%20-74.0337589%5D%2C%20%22type%22%3A%20%22Point%22%7D%2C%20%22id%22%3A%20%2295%22%2C%20%22properties%22%3A%20%7B%22Lat%22%3A%2040.7272235%2C%20%22Lon%22%3A%20-74.0337589%2C%20%22Number%20of%20Trips%22%3A%201298%2C%20%22Station%20ID%22%3A%20%22JC066%22%2C%20%22Station%20Name%22%3A%20%22Newport%20PATH%22%7D%2C%20%22type%22%3A%20%22Feature%22%7D%2C%20%7B%22bbox%22%3A%20%5B40.727595966%2C%20-74.044247311%2C%2040.727595966%2C%20-74.044247311%5D%2C%20%22geometry%22%3A%20%7B%22coordinates%22%3A%20%5B40.727595966%2C%20-74.044247311%5D%2C%20%22type%22%3A%20%22Point%22%7D%2C%20%22id%22%3A%20%2254%22%2C%20%22properties%22%3A%20%7B%22Lat%22%3A%2040.727595966%2C%20%22Lon%22%3A%20-74.044247311%2C%20%22Number%20of%20Trips%22%3A%201286%2C%20%22Station%20ID%22%3A%20%22JC009%22%2C%20%22Station%20Name%22%3A%20%22Hamilton%20Park%22%7D%2C%20%22type%22%3A%20%22Feature%22%7D%2C%20%7B%22bbox%22%3A%20%5B40.73736%2C%20-74.03097%2C%2040.73736%2C%20-74.03097%5D%2C%20%22geometry%22%3A%20%7B%22coordinates%22%3A%20%5B40.73736%2C%20-74.03097%5D%2C%20%22type%22%3A%20%22Point%22%7D%2C%20%22id%22%3A%20%226%22%2C%20%22properties%22%3A%20%7B%22Lat%22%3A%2040.73736%2C%20%22Lon%22%3A%20-74.03097%2C%20%22Number%20of%20Trips%22%3A%201258%2C%20%22Station%20ID%22%3A%20%22HB105%22%2C%20%22Station%20Name%22%3A%20%22City%20Hall%20-%20Washington%20St%20%5Cu0026%201%20St%22%7D%2C%20%22type%22%3A%20%22Feature%22%7D%2C%20%7B%22bbox%22%3A%20%5B40.73698221818716%2C%20-74.02778059244156%2C%2040.73698221818716%2C%20-74.02778059244156%5D%2C%20%22geometry%22%3A%20%7B%22coordinates%22%3A%20%5B40.73698221818716%2C%20-74.02778059244156%5D%2C%20%22type%22%3A%20%22Point%22%7D%2C%20%22id%22%3A%20%225%22%2C%20%22properties%22%3A%20%7B%22Lat%22%3A%2040.73698221818716%2C%20%22Lon%22%3A%20-74.02778059244156%2C%20%22Number%20of%20Trips%22%3A%201232%2C%20%22Station%20ID%22%3A%20%22HB103%22%2C%20%22Station%20Name%22%3A%20%22South%20Waterfront%20Walkway%20-%20Sinatra%20Dr%20%5Cu0026%201%20St%22%7D%2C%20%22type%22%3A%20%22Feature%22%7D%2C%20%7B%22bbox%22%3A%20%5B40.7287448%2C%20-74.0321082%2C%2040.7287448%2C%20-74.0321082%5D%2C%20%22geometry%22%3A%20%7B%22coordinates%22%3A%20%5B40.7287448%2C%20-74.0321082%5D%2C%20%22type%22%3A%20%22Point%22%7D%2C%20%22id%22%3A%20%2252%22%2C%20%22properties%22%3A%20%7B%22Lat%22%3A%2040.7287448%2C%20%22Lon%22%3A%20-74.0321082%2C%20%22Number%20of%20Trips%22%3A%201209%2C%20%22Station%20ID%22%3A%20%22JC008%22%2C%20%22Station%20Name%22%3A%20%22Newport%20Pkwy%22%7D%2C%20%22type%22%3A%20%22Feature%22%7D%2C%20%7B%22bbox%22%3A%20%5B40.71458403535893%2C%20-74.04281705617905%2C%2040.71458403535893%2C%20-74.04281705617905%5D%2C%20%22geometry%22%3A%20%7B%22coordinates%22%3A%20%5B40.71458403535893%2C%20-74.04281705617905%5D%2C%20%22type%22%3A%20%22Point%22%7D%2C%20%22id%22%3A%20%2259%22%2C%20%22properties%22%3A%20%7B%22Lat%22%3A%2040.71458403535893%2C%20%22Lon%22%3A%20-74.04281705617905%2C%20%22Number%20of%20Trips%22%3A%201089%2C%20%22Station%20ID%22%3A%20%22JC013%22%2C%20%22Station%20Name%22%3A%20%22Marin%20Light%20Rail%22%7D%2C%20%22type%22%3A%20%22Feature%22%7D%2C%20%7B%22bbox%22%3A%20%5B40.74598388291562%2C%20-74.02819901704788%2C%2040.74598388291562%2C%20-74.02819901704788%5D%2C%20%22geometry%22%3A%20%7B%22coordinates%22%3A%20%5B40.74598388291562%2C%20-74.02819901704788%5D%2C%20%22type%22%3A%20%22Point%22%7D%2C%20%22id%22%3A%20%2240%22%2C%20%22properties%22%3A%20%7B%22Lat%22%3A%2040.74598388291562%2C%20%22Lon%22%3A%20-74.02819901704788%2C%20%22Number%20of%20Trips%22%3A%201055%2C%20%22Station%20ID%22%3A%20%22HB603%22%2C%20%22Station%20Name%22%3A%20%228%20St%20%5Cu0026%20Washington%20St%22%7D%2C%20%22type%22%3A%20%22Feature%22%7D%2C%20%7B%22bbox%22%3A%20%5B40.74998490907138%2C%20-74.02715027332306%2C%2040.74998490907138%2C%20-74.02715027332306%5D%2C%20%22geometry%22%3A%20%7B%22coordinates%22%3A%20%5B40.74998490907138%2C%20-74.02715027332306%5D%2C%20%22type%22%3A%20%22Point%22%7D%2C%20%22id%22%3A%20%2230%22%2C%20%22properties%22%3A%20%7B%22Lat%22%3A%2040.74998490907138%2C%20%22Lon%22%3A%20-74.02715027332306%2C%20%22Number%20of%20Trips%22%3A%201037%2C%20%22Station%20ID%22%3A%20%22HB502%22%2C%20%22Station%20Name%22%3A%20%2211%20St%20%5Cu0026%20Washington%20St%22%7D%2C%20%22type%22%3A%20%22Feature%22%7D%2C%20%7B%22bbox%22%3A%20%5B40.73520838045357%2C%20-74.04696375131607%2C%2040.73520838045357%2C%20-74.04696375131607%5D%2C%20%22geometry%22%3A%20%7B%22coordinates%22%3A%20%5B40.73520838045357%2C%20-74.04696375131607%5D%2C%20%22type%22%3A%20%22Point%22%7D%2C%20%22id%22%3A%20%22126%22%2C%20%22properties%22%3A%20%7B%22Lat%22%3A%2040.73520838045357%2C%20%22Lon%22%3A%20-74.04696375131607%2C%20%22Number%20of%20Trips%22%3A%201000%2C%20%22Station%20ID%22%3A%20%22JC105%22%2C%20%22Station%20Name%22%3A%20%22Hoboken%20Ave%20at%20Monmouth%20St%22%7D%2C%20%22type%22%3A%20%22Feature%22%7D%2C%20%7B%22bbox%22%3A%20%5B40.71687%2C%20-74.03281%2C%2040.71687%2C%20-74.03281%5D%2C%20%22geometry%22%3A%20%7B%22coordinates%22%3A%20%5B40.71687%2C%20-74.03281%5D%2C%20%22type%22%3A%20%22Point%22%7D%2C%20%22id%22%3A%20%22127%22%2C%20%22properties%22%3A%20%7B%22Lat%22%3A%2040.71687%2C%20%22Lon%22%3A%20-74.03281%2C%20%22Number%20of%20Trips%22%3A%20794%2C%20%22Station%20ID%22%3A%20%22JC106%22%2C%20%22Station%20Name%22%3A%20%22Columbus%20Dr%20at%20Exchange%20Pl%22%7D%2C%20%22type%22%3A%20%22Feature%22%7D%2C%20%7B%22bbox%22%3A%20%5B40.7192517%2C%20-74.034234%2C%2040.7192517%2C%20-74.034234%5D%2C%20%22geometry%22%3A%20%7B%22coordinates%22%3A%20%5B40.7192517%2C%20-74.034234%5D%2C%20%22type%22%3A%20%22Point%22%7D%2C%20%22id%22%3A%20%22123%22%2C%20%22properties%22%3A%20%7B%22Lat%22%3A%2040.7192517%2C%20%22Lon%22%3A%20-74.034234%2C%20%22Number%20of%20Trips%22%3A%20788%2C%20%22Station%20ID%22%3A%20%22JC104%22%2C%20%22Station%20Name%22%3A%20%22Harborside%22%7D%2C%20%22type%22%3A%20%22Feature%22%7D%2C%20%7B%22bbox%22%3A%20%5B40.7177325%2C%20-74.043845%2C%2040.7177325%2C%20-74.043845%5D%2C%20%22geometry%22%3A%20%7B%22coordinates%22%3A%20%5B40.7177325%2C%20-74.043845%5D%2C%20%22type%22%3A%20%22Point%22%7D%2C%20%22id%22%3A%20%2246%22%2C%20%22properties%22%3A%20%7B%22Lat%22%3A%2040.7177325%2C%20%22Lon%22%3A%20-74.043845%2C%20%22Number%20of%20Trips%22%3A%20783%2C%20%22Station%20ID%22%3A%20%22JC003%22%2C%20%22Station%20Name%22%3A%20%22City%20Hall%22%7D%2C%20%22type%22%3A%20%22Feature%22%7D%2C%20%7B%22bbox%22%3A%20%5B40.73879%2C%20-74.0393%2C%2040.73879%2C%20-74.0393%5D%2C%20%22geometry%22%3A%20%7B%22coordinates%22%3A%20%5B40.73879%2C%20-74.0393%5D%2C%20%22type%22%3A%20%22Point%22%7D%2C%20%22id%22%3A%20%2221%22%2C%20%22properties%22%3A%20%7B%22Lat%22%3A%2040.73879%2C%20%22Lon%22%3A%20-74.0393%2C%20%22Number%20of%20Trips%22%3A%20779%2C%20%22Station%20ID%22%3A%20%22HB402%22%2C%20%22Station%20Name%22%3A%20%22Madison%20St%20%5Cu0026%201%20St%22%7D%2C%20%22type%22%3A%20%22Feature%22%7D%2C%20%7B%22bbox%22%3A%20%5B40.7211236%2C%20-74.03805095%2C%2040.7211236%2C%20-74.03805095%5D%2C%20%22geometry%22%3A%20%7B%22coordinates%22%3A%20%5B40.7211236%2C%20-74.03805095%5D%2C%20%22type%22%3A%20%22Point%22%7D%2C%20%22id%22%3A%20%2250%22%2C%20%22properties%22%3A%20%7B%22Lat%22%3A%2040.7211236%2C%20%22Lon%22%3A%20-74.03805095%2C%20%22Number%20of%20Trips%22%3A%20779%2C%20%22Station%20ID%22%3A%20%22JC006%22%2C%20%22Station%20Name%22%3A%20%22Warren%20St%22%7D%2C%20%22type%22%3A%20%22Feature%22%7D%2C%20%7B%22bbox%22%3A%20%5B40.74097260864355%2C%20-74.02860336005688%2C%2040.74097260864355%2C%20-74.02860336005688%5D%2C%20%22geometry%22%3A%20%7B%22coordinates%22%3A%20%5B40.74097260864355%2C%20-74.02860336005688%5D%2C%20%22type%22%3A%20%22Point%22%7D%2C%20%22id%22%3A%20%2242%22%2C%20%22properties%22%3A%20%7B%22Lat%22%3A%2040.74097260864355%2C%20%22Lon%22%3A%20-74.02860336005688%2C%20%22Number%20of%20Trips%22%3A%20760%2C%20%22Station%20ID%22%3A%20%22HB607%22%2C%20%22Station%20Name%22%3A%20%22Hudson%20St%20%5Cu0026%204%20St%22%7D%2C%20%22type%22%3A%20%22Feature%22%7D%2C%20%7B%22bbox%22%3A%20%5B40.7242941%2C%20-74.0354826%2C%2040.7242941%2C%20-74.0354826%5D%2C%20%22geometry%22%3A%20%7B%22coordinates%22%3A%20%5B40.7242941%2C%20-74.0354826%5D%2C%20%22type%22%3A%20%22Point%22%7D%2C%20%22id%22%3A%20%22118%22%2C%20%22properties%22%3A%20%7B%22Lat%22%3A%2040.7242941%2C%20%22Lon%22%3A%20-74.0354826%2C%20%22Number%20of%20Trips%22%3A%20759%2C%20%22Station%20ID%22%3A%20%22JC098%22%2C%20%22Station%20Name%22%3A%20%22Washington%20St%22%7D%2C%20%22type%22%3A%20%22Feature%22%7D%2C%20%7B%22bbox%22%3A%20%5B40.75409%2C%20-74.0316%2C%2040.75409%2C%20-74.0316%5D%2C%20%22geometry%22%3A%20%7B%22coordinates%22%3A%20%5B40.75409%2C%20-74.0316%5D%2C%20%22type%22%3A%20%22Point%22%7D%2C%20%22id%22%3A%20%2235%22%2C%20%22properties%22%3A%20%7B%22Lat%22%3A%2040.75409%2C%20%22Lon%22%3A%20-74.0316%2C%20%22Number%20of%20Trips%22%3A%20709%2C%20%22Station%20ID%22%3A%20%22HB506%22%2C%20%22Station%20Name%22%3A%20%22Grand%20St%20%5Cu0026%2014%20St%22%7D%2C%20%22type%22%3A%20%22Feature%22%7D%2C%20%7B%22bbox%22%3A%20%5B40.75296063046496%2C%20-74.02435272932053%2C%2040.75296063046496%2C%20-74.02435272932053%5D%2C%20%22geometry%22%3A%20%7B%22coordinates%22%3A%20%5B40.75296063046496%2C%20-74.02435272932053%5D%2C%20%22type%22%3A%20%22Point%22%7D%2C%20%22id%22%3A%20%229%22%2C%20%22properties%22%3A%20%7B%22Lat%22%3A%2040.75296063046496%2C%20%22Lon%22%3A%20-74.02435272932053%2C%20%22Number%20of%20Trips%22%3A%20678%2C%20%22Station%20ID%22%3A%20%22HB202%22%2C%20%22Station%20Name%22%3A%20%2214%20St%20Ferry%20-%2014%20St%20%5Cu0026%20Shipyard%20Ln%22%7D%2C%20%22type%22%3A%20%22Feature%22%7D%2C%20%7B%22bbox%22%3A%20%5B40.72152515%2C%20-74.046304543%2C%2040.72152515%2C%20-74.046304543%5D%2C%20%22geometry%22%3A%20%7B%22coordinates%22%3A%20%5B40.72152515%2C%20-74.046304543%5D%2C%20%22type%22%3A%20%22Point%22%7D%2C%20%22id%22%3A%20%2276%22%2C%20%22properties%22%3A%20%7B%22Lat%22%3A%2040.72152515%2C%20%22Lon%22%3A%20-74.046304543%2C%20%22Number%20of%20Trips%22%3A%20666%2C%20%22Station%20ID%22%3A%20%22JC032%22%2C%20%22Station%20Name%22%3A%20%22Newark%20Ave%22%7D%2C%20%22type%22%3A%20%22Feature%22%7D%2C%20%7B%22bbox%22%3A%20%5B40.7253399253558%2C%20-74.06762212514877%2C%2040.7253399253558%2C%20-74.06762212514877%5D%2C%20%22geometry%22%3A%20%7B%22coordinates%22%3A%20%5B40.7253399253558%2C%20-74.06762212514877%5D%2C%20%22type%22%3A%20%22Point%22%7D%2C%20%22id%22%3A%20%2286%22%2C%20%22properties%22%3A%20%7B%22Lat%22%3A%2040.7253399253558%2C%20%22Lon%22%3A%20-74.06762212514877%2C%20%22Number%20of%20Trips%22%3A%20653%2C%20%22Station%20ID%22%3A%20%22JC055%22%2C%20%22Station%20Name%22%3A%20%22McGinley%20Square%22%7D%2C%20%22type%22%3A%20%22Feature%22%7D%2C%20%7B%22bbox%22%3A%20%5B40.74265933273143%2C%20-74.03223305940628%2C%2040.74265933273143%2C%20-74.03223305940628%5D%2C%20%22geometry%22%3A%20%7B%22coordinates%22%3A%20%5B40.74265933273143%2C%20-74.03223305940628%5D%2C%20%22type%22%3A%20%22Point%22%7D%2C%20%22id%22%3A%20%2239%22%2C%20%22properties%22%3A%20%7B%22Lat%22%3A%2040.74265933273143%2C%20%22Lon%22%3A%20-74.03223305940628%2C%20%22Number%20of%20Trips%22%3A%20652%2C%20%22Station%20ID%22%3A%20%22HB601%22%2C%20%22Station%20Name%22%3A%20%22Church%20Sq%20Park%20-%205%20St%20%5Cu0026%20Park%20Ave%22%7D%2C%20%22type%22%3A%20%22Feature%22%7D%2C%20%7B%22bbox%22%3A%20%5B40.7112423%2C%20-74.0557013%2C%2040.7112423%2C%20-74.0557013%5D%2C%20%22geometry%22%3A%20%7B%22coordinates%22%3A%20%5B40.7112423%2C%20-74.0557013%5D%2C%20%22type%22%3A%20%22Point%22%7D%2C%20%22id%22%3A%20%2284%22%2C%20%22properties%22%3A%20%7B%22Lat%22%3A%2040.7112423%2C%20%22Lon%22%3A%20-74.0557013%2C%20%22Number%20of%20Trips%22%3A%20634%2C%20%22Station%20ID%22%3A%20%22JC052%22%2C%20%22Station%20Name%22%3A%20%22Liberty%20Light%20Rail%22%7D%2C%20%22type%22%3A%20%22Feature%22%7D%2C%20%7B%22bbox%22%3A%20%5B40.75060414236896%2C%20-74.02402013540268%2C%2040.75060414236896%2C%20-74.02402013540268%5D%2C%20%22geometry%22%3A%20%7B%22coordinates%22%3A%20%5B40.75060414236896%2C%20-74.02402013540268%5D%2C%20%22type%22%3A%20%22Point%22%7D%2C%20%22id%22%3A%20%228%22%2C%20%22properties%22%3A%20%7B%22Lat%22%3A%2040.75060414236896%2C%20%22Lon%22%3A%20-74.02402013540268%2C%20%22Number%20of%20Trips%22%3A%20630%2C%20%22Station%20ID%22%3A%20%22HB201%22%2C%20%22Station%20Name%22%3A%20%2212%20St%20%5Cu0026%20Sinatra%20Dr%20N%22%7D%2C%20%22type%22%3A%20%22Feature%22%7D%2C%20%7B%22bbox%22%3A%20%5B40.73743%2C%20-74.03571%2C%2040.73743%2C%20-74.03571%5D%2C%20%22geometry%22%3A%20%7B%22coordinates%22%3A%20%5B40.73743%2C%20-74.03571%5D%2C%20%22type%22%3A%20%22Point%22%7D%2C%20%22id%22%3A%20%2227%22%2C%20%22properties%22%3A%20%7B%22Lat%22%3A%2040.73743%2C%20%22Lon%22%3A%20-74.03571%2C%20%22Number%20of%20Trips%22%3A%20620%2C%20%22Station%20ID%22%3A%20%22HB409%22%2C%20%22Station%20Name%22%3A%20%22Clinton%20St%20%5Cu0026%20Newark%20St%22%7D%2C%20%22type%22%3A%20%22Feature%22%7D%2C%20%7B%22bbox%22%3A%20%5B40.7124188237569%2C%20-74.03852552175522%2C%2040.7124188237569%2C%20-74.03852552175522%5D%2C%20%22geometry%22%3A%20%7B%22coordinates%22%3A%20%5B40.7124188237569%2C%20-74.03852552175522%5D%2C%20%22type%22%3A%20%22Point%22%7D%2C%20%22id%22%3A%20%2297%22%2C%20%22properties%22%3A%20%7B%22Lat%22%3A%2040.7124188237569%2C%20%22Lon%22%3A%20-74.03852552175522%2C%20%22Number%20of%20Trips%22%3A%20615%2C%20%22Station%20ID%22%3A%20%22JC072%22%2C%20%22Station%20Name%22%3A%20%22Morris%20Canal%22%7D%2C%20%22type%22%3A%20%22Feature%22%7D%2C%20%7B%22bbox%22%3A%20%5B40.71835519823214%2C%20-74.03891444206238%2C%2040.71835519823214%2C%20-74.03891444206238%5D%2C%20%22geometry%22%3A%20%7B%22coordinates%22%3A%20%5B40.71835519823214%2C%20-74.03891444206238%5D%2C%20%22type%22%3A%20%22Point%22%7D%2C%20%22id%22%3A%20%2261%22%2C%20%22properties%22%3A%20%7B%22Lat%22%3A%2040.71835519823214%2C%20%22Lon%22%3A%20-74.03891444206238%2C%20%22Number%20of%20Trips%22%3A%20602%2C%20%22Station%20ID%22%3A%20%22JC014%22%2C%20%22Station%20Name%22%3A%20%22Columbus%20Drive%22%7D%2C%20%22type%22%3A%20%22Feature%22%7D%2C%20%7B%22bbox%22%3A%20%5B40.74641264837719%2C%20-74.03797701001167%2C%2040.74641264837719%2C%20-74.03797701001167%5D%2C%20%22geometry%22%3A%20%7B%22coordinates%22%3A%20%5B40.74641264837719%2C%20-74.03797701001167%5D%2C%20%22type%22%3A%20%22Point%22%7D%2C%20%22id%22%3A%20%2216%22%2C%20%22properties%22%3A%20%7B%22Lat%22%3A%2040.74641264837719%2C%20%22Lon%22%3A%20-74.03797701001167%2C%20%22Number%20of%20Trips%22%3A%20578%2C%20%22Station%20ID%22%3A%20%22HB304%22%2C%20%22Station%20Name%22%3A%20%227%20St%20%5Cu0026%20Monroe%20St%22%7D%2C%20%22type%22%3A%20%22Feature%22%7D%2C%20%7B%22bbox%22%3A%20%5B40.71517767732029%2C%20-74.03768330812454%2C%2040.71517767732029%2C%20-74.03768330812454%5D%2C%20%22geometry%22%3A%20%7B%22coordinates%22%3A%20%5B40.71517767732029%2C%20-74.03768330812454%5D%2C%20%22type%22%3A%20%22Point%22%7D%2C%20%22id%22%3A%20%22120%22%2C%20%22properties%22%3A%20%7B%22Lat%22%3A%2040.71517767732029%2C%20%22Lon%22%3A%20-74.03768330812454%2C%20%22Number%20of%20Trips%22%3A%20565%2C%20%22Station%20ID%22%3A%20%22JC102%22%2C%20%22Station%20Name%22%3A%20%22Grand%20St%22%7D%2C%20%22type%22%3A%20%22Feature%22%7D%2C%20%7B%22bbox%22%3A%20%5B40.73981372311843%2C%20-74.03690412640572%2C%2040.73981372311843%2C%20-74.03690412640572%5D%2C%20%22geometry%22%3A%20%7B%22coordinates%22%3A%20%5B40.73981372311843%2C%20-74.03690412640572%5D%2C%20%22type%22%3A%20%22Point%22%7D%2C%20%22id%22%3A%20%2224%22%2C%20%22properties%22%3A%20%7B%22Lat%22%3A%2040.73981372311843%2C%20%22Lon%22%3A%20-74.03690412640572%2C%20%22Number%20of%20Trips%22%3A%20560%2C%20%22Station%20ID%22%3A%20%22HB407%22%2C%20%22Station%20Name%22%3A%20%22Adams%20St%20%5Cu0026%202%20St%22%7D%2C%20%22type%22%3A%20%22Feature%22%7D%2C%20%7B%22bbox%22%3A%20%5B40.7443978330956%2C%20-74.03450086712837%2C%2040.7443978330956%2C%20-74.03450086712837%5D%2C%20%22geometry%22%3A%20%7B%22coordinates%22%3A%20%5B40.7443978330956%2C%20-74.03450086712837%5D%2C%20%22type%22%3A%20%22Point%22%7D%2C%20%22id%22%3A%20%2213%22%2C%20%22properties%22%3A%20%7B%22Lat%22%3A%2040.7443978330956%2C%20%22Lon%22%3A%20-74.03450086712837%2C%20%22Number%20of%20Trips%22%3A%20557%2C%20%22Station%20ID%22%3A%20%22HB302%22%2C%20%22Station%20Name%22%3A%20%226%20St%20%5Cu0026%20Grand%20St%22%7D%2C%20%22type%22%3A%20%22Feature%22%7D%2C%20%7B%22bbox%22%3A%20%5B40.7241765%2C%20-74.0506564%2C%2040.7241765%2C%20-74.0506564%5D%2C%20%22geometry%22%3A%20%7B%22coordinates%22%3A%20%5B40.7241765%2C%20-74.0506564%5D%2C%20%22type%22%3A%20%22Point%22%7D%2C%20%22id%22%3A%20%2269%22%2C%20%22properties%22%3A%20%7B%22Lat%22%3A%2040.7241765%2C%20%22Lon%22%3A%20-74.0506564%2C%20%22Number%20of%20Trips%22%3A%20555%2C%20%22Station%20ID%22%3A%20%22JC023%22%2C%20%22Station%20Name%22%3A%20%22Brunswick%20St%22%7D%2C%20%22type%22%3A%20%22Feature%22%7D%2C%20%7B%22bbox%22%3A%20%5B40.7422579775645%2C%20-74.03511106967926%2C%2040.7422579775645%2C%20-74.03511106967926%5D%2C%20%22geometry%22%3A%20%7B%22coordinates%22%3A%20%5B40.7422579775645%2C%20-74.03511106967926%5D%2C%20%22type%22%3A%20%22Point%22%7D%2C%20%22id%22%3A%20%2212%22%2C%20%22properties%22%3A%20%7B%22Lat%22%3A%2040.7422579775645%2C%20%22Lon%22%3A%20-74.03511106967926%2C%20%22Number%20of%20Trips%22%3A%20550%2C%20%22Station%20ID%22%3A%20%22HB301%22%2C%20%22Station%20Name%22%3A%20%224%20St%20%5Cu0026%20Grand%20St%22%7D%2C%20%22type%22%3A%20%22Feature%22%7D%2C%20%7B%22bbox%22%3A%20%5B40.7236589%2C%20-74.0641943%2C%2040.7236589%2C%20-74.0641943%5D%2C%20%22geometry%22%3A%20%7B%22coordinates%22%3A%20%5B40.7236589%2C%20-74.0641943%5D%2C%20%22type%22%3A%20%22Point%22%7D%2C%20%22id%22%3A%20%2265%22%2C%20%22properties%22%3A%20%7B%22Lat%22%3A%2040.7236589%2C%20%22Lon%22%3A%20-74.0641943%2C%20%22Number%20of%20Trips%22%3A%20545%2C%20%22Station%20ID%22%3A%20%22JC020%22%2C%20%22Station%20Name%22%3A%20%22Baldwin%20at%20Montgomery%22%7D%2C%20%22type%22%3A%20%22Feature%22%7D%2C%20%7B%22bbox%22%3A%20%5B40.74790720968899%2C%20-74.03841152787209%2C%2040.74790720968899%2C%20-74.03841152787209%5D%2C%20%22geometry%22%3A%20%7B%22coordinates%22%3A%20%5B40.74790720968899%2C%20-74.03841152787209%5D%2C%20%22type%22%3A%20%22Point%22%7D%2C%20%22id%22%3A%20%2218%22%2C%20%22properties%22%3A%20%7B%22Lat%22%3A%2040.74790720968899%2C%20%22Lon%22%3A%20-74.03841152787209%2C%20%22Number%20of%20Trips%22%3A%20542%2C%20%22Station%20ID%22%3A%20%22HB305%22%2C%20%22Station%20Name%22%3A%20%229%20St%20HBLR%20-%20Jackson%20St%20%5Cu0026%208%20St%22%7D%2C%20%22type%22%3A%20%22Feature%22%7D%2C%20%7B%22bbox%22%3A%20%5B40.74542%2C%20-74.03332%2C%2040.74542%2C%20-74.03332%5D%2C%20%22geometry%22%3A%20%7B%22coordinates%22%3A%20%5B40.74542%2C%20-74.03332%5D%2C%20%22type%22%3A%20%22Point%22%7D%2C%20%22id%22%3A%20%2215%22%2C%20%22properties%22%3A%20%7B%22Lat%22%3A%2040.74542%2C%20%22Lon%22%3A%20-74.03332%2C%20%22Number%20of%20Trips%22%3A%20541%2C%20%22Station%20ID%22%3A%20%22HB303%22%2C%20%22Station%20Name%22%3A%20%22Clinton%20St%20%5Cu0026%207%20St%22%7D%2C%20%22type%22%3A%20%22Feature%22%7D%2C%20%7B%22bbox%22%3A%20%5B40.72601172964625%2C%20-74.05038893222809%2C%2040.72601172964625%2C%20-74.05038893222809%5D%2C%20%22geometry%22%3A%20%7B%22coordinates%22%3A%20%5B40.72601172964625%2C%20-74.05038893222809%5D%2C%20%22type%22%3A%20%22Point%22%7D%2C%20%22id%22%3A%20%22111%22%2C%20%22properties%22%3A%20%7B%22Lat%22%3A%2040.72601172964625%2C%20%22Lon%22%3A%20-74.05038893222809%2C%20%22Number%20of%20Trips%22%3A%20526%2C%20%22Station%20ID%22%3A%20%22JC081%22%2C%20%22Station%20Name%22%3A%20%22Brunswick%20%5Cu0026%206th%22%7D%2C%20%22type%22%3A%20%22Feature%22%7D%2C%20%7B%22bbox%22%3A%20%5B40.71848892%2C%20-74.047726625%2C%2040.71848892%2C%20-74.047726625%5D%2C%20%22geometry%22%3A%20%7B%22coordinates%22%3A%20%5B40.71848892%2C%20-74.047726625%5D%2C%20%22type%22%3A%20%22Point%22%7D%2C%20%22id%22%3A%20%2278%22%2C%20%22properties%22%3A%20%7B%22Lat%22%3A%2040.71848892%2C%20%22Lon%22%3A%20-74.047726625%2C%20%22Number%20of%20Trips%22%3A%20509%2C%20%22Station%20ID%22%3A%20%22JC035%22%2C%20%22Station%20Name%22%3A%20%22Van%20Vorst%20Park%22%7D%2C%20%22type%22%3A%20%22Feature%22%7D%2C%20%7B%22bbox%22%3A%20%5B40.7141454%2C%20-74.0335519%2C%2040.7141454%2C%20-74.0335519%5D%2C%20%22geometry%22%3A%20%7B%22coordinates%22%3A%20%5B40.7141454%2C%20-74.0335519%5D%2C%20%22type%22%3A%20%22Point%22%7D%2C%20%22id%22%3A%20%2245%22%2C%20%22properties%22%3A%20%7B%22Lat%22%3A%2040.7141454%2C%20%22Lon%22%3A%20-74.0335519%2C%20%22Number%20of%20Trips%22%3A%20496%2C%20%22Station%20ID%22%3A%20%22JC002%22%2C%20%22Station%20Name%22%3A%20%22Paulus%20Hook%22%7D%2C%20%22type%22%3A%20%22Feature%22%7D%2C%20%7B%22bbox%22%3A%20%5B40.72165072487999%2C%20-74.04288411140442%2C%2040.72165072487999%2C%20-74.04288411140442%5D%2C%20%22geometry%22%3A%20%7B%22coordinates%22%3A%20%5B40.72165072487999%2C%20-74.04288411140442%5D%2C%20%22type%22%3A%20%22Point%22%7D%2C%20%22id%22%3A%20%22113%22%2C%20%22properties%22%3A%20%7B%22Lat%22%3A%2040.72165072487999%2C%20%22Lon%22%3A%20-74.04288411140442%2C%20%22Number%20of%20Trips%22%3A%20488%2C%20%22Station%20ID%22%3A%20%22JC082%22%2C%20%22Station%20Name%22%3A%20%22Manila%20%5Cu0026%201st%22%7D%2C%20%22type%22%3A%20%22Feature%22%7D%2C%20%7B%22bbox%22%3A%20%5B40.722103786686034%2C%20-74.07145500183105%2C%2040.722103786686034%2C%20-74.07145500183105%5D%2C%20%22geometry%22%3A%20%7B%22coordinates%22%3A%20%5B40.722103786686034%2C%20-74.07145500183105%5D%2C%20%22type%22%3A%20%22Point%22%7D%2C%20%22id%22%3A%20%22116%22%2C%20%22properties%22%3A%20%7B%22Lat%22%3A%2040.722103786686034%2C%20%22Lon%22%3A%20-74.07145500183105%2C%20%22Number%20of%20Trips%22%3A%20484%2C%20%22Station%20ID%22%3A%20%22JC095%22%2C%20%22Station%20Name%22%3A%20%22Bergen%20Ave%22%7D%2C%20%22type%22%3A%20%22Feature%22%7D%2C%20%7B%22bbox%22%3A%20%5B40.75453%2C%20-74.02658%2C%2040.75453%2C%20-74.02658%5D%2C%20%22geometry%22%3A%20%7B%22coordinates%22%3A%20%5B40.75453%2C%20-74.02658%5D%2C%20%22type%22%3A%20%22Point%22%7D%2C%20%22id%22%3A%20%2211%22%2C%20%22properties%22%3A%20%7B%22Lat%22%3A%2040.75453%2C%20%22Lon%22%3A%20-74.02658%2C%20%22Number%20of%20Trips%22%3A%20468%2C%20%22Station%20ID%22%3A%20%22HB203%22%2C%20%22Station%20Name%22%3A%20%22Bloomfield%20St%20%5Cu0026%2015%20St%22%7D%2C%20%22type%22%3A%20%22Feature%22%7D%2C%20%7B%22bbox%22%3A%20%5B40.7518674823282%2C%20-74.03037697076797%2C%2040.7518674823282%2C%20-74.03037697076797%5D%2C%20%22geometry%22%3A%20%7B%22coordinates%22%3A%20%5B40.7518674823282%2C%20-74.03037697076797%5D%2C%20%22type%22%3A%20%22Point%22%7D%2C%20%22id%22%3A%20%2234%22%2C%20%22properties%22%3A%20%7B%22Lat%22%3A%2040.7518674823282%2C%20%22Lon%22%3A%20-74.03037697076797%2C%20%22Number%20of%20Trips%22%3A%20456%2C%20%22Station%20ID%22%3A%20%22HB505%22%2C%20%22Station%20Name%22%3A%20%22Willow%20Ave%20%5Cu0026%2012%20St%22%7D%2C%20%22type%22%3A%20%22Feature%22%7D%2C%20%7B%22bbox%22%3A%20%5B40.72333158646436%2C%20-74.04595255851744%2C%2040.72333158646436%2C%20-74.04595255851744%5D%2C%20%22geometry%22%3A%20%7B%22coordinates%22%3A%20%5B40.72333158646436%2C%20-74.04595255851744%5D%2C%20%22type%22%3A%20%22Point%22%7D%2C%20%22id%22%3A%20%2299%22%2C%20%22properties%22%3A%20%7B%22Lat%22%3A%2040.72333158646436%2C%20%22Lon%22%3A%20-74.04595255851744%2C%20%22Number%20of%20Trips%22%3A%20452%2C%20%22Station%20ID%22%3A%20%22JC074%22%2C%20%22Station%20Name%22%3A%20%22Jersey%20%5Cu0026%203rd%22%7D%2C%20%22type%22%3A%20%22Feature%22%7D%2C%20%7B%22bbox%22%3A%20%5B40.71653978099194%2C%20-74.0496379137039%2C%2040.71653978099194%2C%20-74.0496379137039%5D%2C%20%22geometry%22%3A%20%7B%22coordinates%22%3A%20%5B40.71653978099194%2C%20-74.0496379137039%5D%2C%20%22type%22%3A%20%22Point%22%7D%2C%20%22id%22%3A%20%2256%22%2C%20%22properties%22%3A%20%7B%22Lat%22%3A%2040.71653978099194%2C%20%22Lon%22%3A%20-74.0496379137039%2C%20%22Number%20of%20Trips%22%3A%20450%2C%20%22Station%20ID%22%3A%20%22JC011%22%2C%20%22Station%20Name%22%3A%20%22JC%20Medical%20Center%22%7D%2C%20%22type%22%3A%20%22Feature%22%7D%2C%20%7B%22bbox%22%3A%20%5B40.74994325412246%2C%20-74.03586477041245%2C%2040.74994325412246%2C%20-74.03586477041245%5D%2C%20%22geometry%22%3A%20%7B%22coordinates%22%3A%20%5B40.74994325412246%2C%20-74.03586477041245%5D%2C%20%22type%22%3A%20%22Point%22%7D%2C%20%22id%22%3A%20%2232%22%2C%20%22properties%22%3A%20%7B%22Lat%22%3A%2040.74994325412246%2C%20%22Lon%22%3A%20-74.03586477041245%2C%20%22Number%20of%20Trips%22%3A%20433%2C%20%22Station%20ID%22%3A%20%22HB503%22%2C%20%22Station%20Name%22%3A%20%22Madison%20St%20%5Cu0026%2010%20St%22%7D%2C%20%22type%22%3A%20%22Feature%22%7D%2C%20%7B%22bbox%22%3A%20%5B40.74816121065146%2C%20-74.0324530005455%2C%2040.74816121065146%2C%20-74.0324530005455%5D%2C%20%22geometry%22%3A%20%7B%22coordinates%22%3A%20%5B40.74816121065146%2C%20-74.0324530005455%5D%2C%20%22type%22%3A%20%22Point%22%7D%2C%20%22id%22%3A%20%2229%22%2C%20%22properties%22%3A%20%7B%22Lat%22%3A%2040.74816121065146%2C%20%22Lon%22%3A%20-74.0324530005455%2C%20%22Number%20of%20Trips%22%3A%20432%2C%20%22Station%20ID%22%3A%20%22HB501%22%2C%20%22Station%20Name%22%3A%20%22Columbus%20Park%20-%20Clinton%20St%20%5Cu0026%209%20St%22%7D%2C%20%22type%22%3A%20%22Feature%22%7D%2C%20%7B%22bbox%22%3A%20%5B40.721630142638354%2C%20-74.04996782541275%2C%2040.721630142638354%2C%20-74.04996782541275%5D%2C%20%22geometry%22%3A%20%7B%22coordinates%22%3A%20%5B40.721630142638354%2C%20-74.04996782541275%5D%2C%20%22type%22%3A%20%22Point%22%7D%2C%20%22id%22%3A%20%22104%22%2C%20%22properties%22%3A%20%7B%22Lat%22%3A%2040.721630142638354%2C%20%22Lon%22%3A%20-74.04996782541275%2C%20%22Number%20of%20Trips%22%3A%20426%2C%20%22Station%20ID%22%3A%20%22JC076%22%2C%20%22Station%20Name%22%3A%20%22Dixon%20Mills%22%7D%2C%20%22type%22%3A%20%22Feature%22%7D%2C%20%7B%22bbox%22%3A%20%5B40.742677141%2C%20-74.051788633%2C%2040.742677141%2C%20-74.051788633%5D%2C%20%22geometry%22%3A%20%7B%22coordinates%22%3A%20%5B40.742677141%2C%20-74.051788633%5D%2C%20%22type%22%3A%20%22Point%22%7D%2C%20%22id%22%3A%20%2272%22%2C%20%22properties%22%3A%20%7B%22Lat%22%3A%2040.742677141%2C%20%22Lon%22%3A%20-74.051788633%2C%20%22Number%20of%20Trips%22%3A%20407%2C%20%22Station%20ID%22%3A%20%22JC024%22%2C%20%22Station%20Name%22%3A%20%22Pershing%20Field%22%7D%2C%20%22type%22%3A%20%22Feature%22%7D%2C%20%7B%22bbox%22%3A%20%5B40.73755127245804%2C%20-74.04166370630264%2C%2040.73755127245804%2C%20-74.04166370630264%5D%2C%20%22geometry%22%3A%20%7B%22coordinates%22%3A%20%5B40.73755127245804%2C%20-74.04166370630264%5D%2C%20%22type%22%3A%20%22Point%22%7D%2C%20%22id%22%3A%20%2220%22%2C%20%22properties%22%3A%20%7B%22Lat%22%3A%2040.73755127245804%2C%20%22Lon%22%3A%20-74.04166370630264%2C%20%22Number%20of%20Trips%22%3A%20389%2C%20%22Station%20ID%22%3A%20%22HB401%22%2C%20%22Station%20Name%22%3A%20%22Southwest%20Park%20-%20Jackson%20St%20%5Cu0026%20Observer%20Hwy%22%7D%2C%20%22type%22%3A%20%22Feature%22%7D%2C%20%7B%22bbox%22%3A%20%5B40.72568548362901%2C%20-74.04879033565521%2C%2040.72568548362901%2C%20-74.04879033565521%5D%2C%20%22geometry%22%3A%20%7B%22coordinates%22%3A%20%5B40.72568548362901%2C%20-74.04879033565521%5D%2C%20%22type%22%3A%20%22Point%22%7D%2C%20%22id%22%3A%20%22102%22%2C%20%22properties%22%3A%20%7B%22Lat%22%3A%2040.72568548362901%2C%20%22Lon%22%3A%20-74.04879033565521%2C%20%22Number%20of%20Trips%22%3A%20378%2C%20%22Station%20ID%22%3A%20%22JC075%22%2C%20%22Station%20Name%22%3A%20%22Monmouth%20and%206th%22%7D%2C%20%22type%22%3A%20%22Feature%22%7D%2C%20%7B%22bbox%22%3A%20%5B40.740802%2C%20-74.042521%2C%2040.740802%2C%20-74.042521%5D%2C%20%22geometry%22%3A%20%7B%22coordinates%22%3A%20%5B40.740802%2C%20-74.042521%5D%2C%20%22type%22%3A%20%22Point%22%7D%2C%20%22id%22%3A%20%2226%22%2C%20%22properties%22%3A%20%7B%22Lat%22%3A%2040.740802%2C%20%22Lon%22%3A%20-74.042521%2C%20%22Number%20of%20Trips%22%3A%20375%2C%20%22Station%20ID%22%3A%20%22HB408%22%2C%20%22Station%20Name%22%3A%20%22Marshall%20St%20%5Cu0026%202%20St%22%7D%2C%20%22type%22%3A%20%22Feature%22%7D%2C%20%7B%22bbox%22%3A%20%5B40.71942%2C%20-74.05099%2C%2040.71942%2C%20-74.05099%5D%2C%20%22geometry%22%3A%20%7B%22coordinates%22%3A%20%5B40.71942%2C%20-74.05099%5D%2C%20%22type%22%3A%20%22Point%22%7D%2C%20%22id%22%3A%20%22119%22%2C%20%22properties%22%3A%20%7B%22Lat%22%3A%2040.71942%2C%20%22Lon%22%3A%20-74.05099%2C%20%22Number%20of%20Trips%22%3A%20371%2C%20%22Station%20ID%22%3A%20%22JC099%22%2C%20%22Station%20Name%22%3A%20%22Montgomery%20St%22%7D%2C%20%22type%22%3A%20%22Feature%22%7D%2C%20%7B%22bbox%22%3A%20%5B40.71346382669195%2C%20-74.06285852193832%2C%2040.71346382669195%2C%20-74.06285852193832%5D%2C%20%22geometry%22%3A%20%7B%22coordinates%22%3A%20%5B40.71346382669195%2C%20-74.06285852193832%5D%2C%20%22type%22%3A%20%22Point%22%7D%2C%20%22id%22%3A%20%22107%22%2C%20%22properties%22%3A%20%7B%22Lat%22%3A%2040.71346382669195%2C%20%22Lon%22%3A%20-74.06285852193832%2C%20%22Number%20of%20Trips%22%3A%20370%2C%20%22Station%20ID%22%3A%20%22JC078%22%2C%20%22Station%20Name%22%3A%20%22Lafayette%20Park%22%7D%2C%20%22type%22%3A%20%22Feature%22%7D%2C%20%7B%22bbox%22%3A%20%5B40.72528910781132%2C%20-74.04557168483734%2C%2040.72528910781132%2C%20-74.04557168483734%5D%2C%20%22geometry%22%3A%20%7B%22coordinates%22%3A%20%5B40.72528910781132%2C%20-74.04557168483734%5D%2C%20%22type%22%3A%20%22Point%22%7D%2C%20%22id%22%3A%20%2274%22%2C%20%22properties%22%3A%20%7B%22Lat%22%3A%2040.72528910781132%2C%20%22Lon%22%3A%20-74.04557168483734%2C%20%22Number%20of%20Trips%22%3A%20367%2C%20%22Station%20ID%22%3A%20%22JC027%22%2C%20%22Station%20Name%22%3A%20%22Jersey%20%5Cu0026%206th%20St%22%7D%2C%20%22type%22%3A%20%22Feature%22%7D%2C%20%7B%22bbox%22%3A%20%5B40.73367%2C%20-74.0625%2C%2040.73367%2C%20-74.0625%5D%2C%20%22geometry%22%3A%20%7B%22coordinates%22%3A%20%5B40.73367%2C%20-74.0625%5D%2C%20%22type%22%3A%20%22Point%22%7D%2C%20%22id%22%3A%20%22122%22%2C%20%22properties%22%3A%20%7B%22Lat%22%3A%2040.73367%2C%20%22Lon%22%3A%20-74.0625%2C%20%22Number%20of%20Trips%22%3A%20348%2C%20%22Station%20ID%22%3A%20%22JC103%22%2C%20%22Station%20Name%22%3A%20%22Journal%20Square%22%7D%2C%20%22type%22%3A%20%22Feature%22%7D%2C%20%7B%22bbox%22%3A%20%5B40.7376037%2C%20-74.0524783%2C%2040.7376037%2C%20-74.0524783%5D%2C%20%22geometry%22%3A%20%7B%22coordinates%22%3A%20%5B40.7376037%2C%20-74.0524783%5D%2C%20%22type%22%3A%20%22Point%22%7D%2C%20%22id%22%3A%20%2267%22%2C%20%22properties%22%3A%20%7B%22Lat%22%3A%2040.7376037%2C%20%22Lon%22%3A%20-74.0524783%2C%20%22Number%20of%20Trips%22%3A%20336%2C%20%22Station%20ID%22%3A%20%22JC022%22%2C%20%22Station%20Name%22%3A%20%22Oakland%20Ave%22%7D%2C%20%22type%22%3A%20%22Feature%22%7D%2C%20%7B%22bbox%22%3A%20%5B40.72755146730012%2C%20-74.07106071710587%2C%2040.72755146730012%2C%20-74.07106071710587%5D%2C%20%22geometry%22%3A%20%7B%22coordinates%22%3A%20%5B40.72755146730012%2C%20-74.07106071710587%5D%2C%20%22type%22%3A%20%22Point%22%7D%2C%20%22id%22%3A%20%22115%22%2C%20%22properties%22%3A%20%7B%22Lat%22%3A%2040.72755146730012%2C%20%22Lon%22%3A%20-74.07106071710587%2C%20%22Number%20of%20Trips%22%3A%20336%2C%20%22Station%20ID%22%3A%20%22JC094%22%2C%20%22Station%20Name%22%3A%20%22Glenwood%20Ave%22%7D%2C%20%22type%22%3A%20%22Feature%22%7D%2C%20%7B%22bbox%22%3A%20%5B40.734785818%2C%20-74.050443636%2C%2040.734785818%2C%20-74.050443636%5D%2C%20%22geometry%22%3A%20%7B%22coordinates%22%3A%20%5B40.734785818%2C%20-74.050443636%5D%2C%20%22type%22%3A%20%22Point%22%7D%2C%20%22id%22%3A%20%2277%22%2C%20%22properties%22%3A%20%7B%22Lat%22%3A%2040.734785818%2C%20%22Lon%22%3A%20-74.050443636%2C%20%22Number%20of%20Trips%22%3A%20334%2C%20%22Station%20ID%22%3A%20%22JC034%22%2C%20%22Station%20Name%22%3A%20%22Christ%20Hospital%22%7D%2C%20%22type%22%3A%20%22Feature%22%7D%2C%20%7B%22bbox%22%3A%20%5B40.7311689%2C%20-74.0575736%2C%2040.7311689%2C%20-74.0575736%5D%2C%20%22geometry%22%3A%20%7B%22coordinates%22%3A%20%5B40.7311689%2C%20-74.0575736%5D%2C%20%22type%22%3A%20%22Point%22%7D%2C%20%22id%22%3A%20%2263%22%2C%20%22properties%22%3A%20%7B%22Lat%22%3A%2040.7311689%2C%20%22Lon%22%3A%20-74.0575736%2C%20%22Number%20of%20Trips%22%3A%20333%2C%20%22Station%20ID%22%3A%20%22JC019%22%2C%20%22Station%20Name%22%3A%20%22Hilltop%22%7D%2C%20%22type%22%3A%20%22Feature%22%7D%2C%20%7B%22bbox%22%3A%20%5B40.7443187%2C%20-74.0439909%2C%2040.7443187%2C%20-74.0439909%5D%2C%20%22geometry%22%3A%20%7B%22coordinates%22%3A%20%5B40.7443187%2C%20-74.0439909%5D%2C%20%22type%22%3A%20%22Point%22%7D%2C%20%22id%22%3A%20%2290%22%2C%20%22properties%22%3A%20%7B%22Lat%22%3A%2040.7443187%2C%20%22Lon%22%3A%20-74.0439909%2C%20%22Number%20of%20Trips%22%3A%20307%2C%20%22Station%20ID%22%3A%20%22JC057%22%2C%20%22Station%20Name%22%3A%20%22Riverview%20Park%22%7D%2C%20%22type%22%3A%20%22Feature%22%7D%2C%20%7B%22bbox%22%3A%20%5B40.7127742%2C%20-74.0364857%2C%2040.7127742%2C%20-74.0364857%5D%2C%20%22geometry%22%3A%20%7B%22coordinates%22%3A%20%5B40.7127742%2C%20-74.0364857%5D%2C%20%22type%22%3A%20%22Point%22%7D%2C%20%22id%22%3A%20%2281%22%2C%20%22properties%22%3A%20%7B%22Lat%22%3A%2040.7127742%2C%20%22Lon%22%3A%20-74.0364857%2C%20%22Number%20of%20Trips%22%3A%20295%2C%20%22Station%20ID%22%3A%20%22JC038%22%2C%20%22Station%20Name%22%3A%20%22Essex%20Light%20Rail%22%7D%2C%20%22type%22%3A%20%22Feature%22%7D%2C%20%7B%22bbox%22%3A%20%5B40.750915534784994%2C%20-74.03354063630104%2C%2040.750915534784994%2C%20-74.03354063630104%5D%2C%20%22geometry%22%3A%20%7B%22coordinates%22%3A%20%5B40.750915534784994%2C%20-74.03354063630104%5D%2C%20%22type%22%3A%20%22Point%22%7D%2C%20%22id%22%3A%20%2236%22%2C%20%22properties%22%3A%20%7B%22Lat%22%3A%2040.750915534784994%2C%20%22Lon%22%3A%20-74.03354063630104%2C%20%22Number%20of%20Trips%22%3A%20291%2C%20%22Station%20ID%22%3A%20%22HB507%22%2C%20%22Station%20Name%22%3A%20%22Adams%20St%20%5Cu0026%2011%20St%22%7D%2C%20%22type%22%3A%20%22Feature%22%7D%2C%20%7B%22bbox%22%3A%20%5B40.74313993965626%2C%20-74.04004096984863%2C%2040.74313993965626%2C%20-74.04004096984863%5D%2C%20%22geometry%22%3A%20%7B%22coordinates%22%3A%20%5B40.74313993965626%2C%20-74.04004096984863%5D%2C%20%22type%22%3A%20%22Point%22%7D%2C%20%22id%22%3A%20%2222%22%2C%20%22properties%22%3A%20%7B%22Lat%22%3A%2040.74313993965626%2C%20%22Lon%22%3A%20-74.04004096984863%2C%20%22Number%20of%20Trips%22%3A%20266%2C%20%22Station%20ID%22%3A%20%22HB404%22%2C%20%22Station%20Name%22%3A%20%22Mama%20Johnson%20Field%20-%204%20St%20%5Cu0026%20Jackson%20St%22%7D%2C%20%22type%22%3A%20%22Feature%22%7D%2C%20%7B%22bbox%22%3A%20%5B40.74871594538023%2C%20-74.04044330120087%2C%2040.74871594538023%2C%20-74.04044330120087%5D%2C%20%22geometry%22%3A%20%7B%22coordinates%22%3A%20%5B40.74871594538023%2C%20-74.04044330120087%5D%2C%20%22type%22%3A%20%22Point%22%7D%2C%20%22id%22%3A%20%2292%22%2C%20%22properties%22%3A%20%7B%22Lat%22%3A%2040.74871594538023%2C%20%22Lon%22%3A%20-74.04044330120087%2C%20%22Number%20of%20Trips%22%3A%20248%2C%20%22Station%20ID%22%3A%20%22JC059%22%2C%20%22Station%20Name%22%3A%20%22Heights%20Elevator%22%7D%2C%20%22type%22%3A%20%22Feature%22%7D%2C%20%7B%22bbox%22%3A%20%5B40.71928220070702%2C%20-74.07126188278198%2C%2040.71928220070702%2C%20-74.07126188278198%5D%2C%20%22geometry%22%3A%20%7B%22coordinates%22%3A%20%5B40.71928220070702%2C%20-74.07126188278198%5D%2C%20%22type%22%3A%20%22Point%22%7D%2C%20%22id%22%3A%20%22106%22%2C%20%22properties%22%3A%20%7B%22Lat%22%3A%2040.71928220070702%2C%20%22Lon%22%3A%20-74.07126188278198%2C%20%22Number%20of%20Trips%22%3A%20248%2C%20%22Station%20ID%22%3A%20%22JC077%22%2C%20%22Station%20Name%22%3A%20%22Astor%20Place%22%7D%2C%20%22type%22%3A%20%22Feature%22%7D%2C%20%7B%22bbox%22%3A%20%5B40.7246050998869%2C%20-74.07840594649315%2C%2040.7246050998869%2C%20-74.07840594649315%5D%2C%20%22geometry%22%3A%20%7B%22coordinates%22%3A%20%5B40.7246050998869%2C%20-74.07840594649315%5D%2C%20%22type%22%3A%20%22Point%22%7D%2C%20%22id%22%3A%20%2285%22%2C%20%22properties%22%3A%20%7B%22Lat%22%3A%2040.7246050998869%2C%20%22Lon%22%3A%20-74.07840594649315%2C%20%22Number%20of%20Trips%22%3A%20224%2C%20%22Station%20ID%22%3A%20%22JC053%22%2C%20%22Station%20Name%22%3A%20%22Lincoln%20Park%22%7D%2C%20%22type%22%3A%20%22Feature%22%7D%2C%20%7B%22bbox%22%3A%20%5B40.74590996631558%2C%20-74.0572714805603%2C%2040.74590996631558%2C%20-74.0572714805603%5D%2C%20%22geometry%22%3A%20%7B%22coordinates%22%3A%20%5B40.74590996631558%2C%20-74.0572714805603%5D%2C%20%22type%22%3A%20%22Point%22%7D%2C%20%22id%22%3A%20%22109%22%2C%20%22properties%22%3A%20%7B%22Lat%22%3A%2040.74590996631558%2C%20%22Lon%22%3A%20-74.0572714805603%2C%20%22Number%20of%20Trips%22%3A%20160%2C%20%22Station%20ID%22%3A%20%22JC080%22%2C%20%22Station%20Name%22%3A%20%22Leonard%20Gordon%20Park%22%7D%2C%20%22type%22%3A%20%22Feature%22%7D%2C%20%7B%22bbox%22%3A%20%5B40.71435836870427%2C%20-74.06661093235016%2C%2040.71435836870427%2C%20-74.06661093235016%5D%2C%20%22geometry%22%3A%20%7B%22coordinates%22%3A%20%5B40.71435836870427%2C%20-74.06661093235016%5D%2C%20%22type%22%3A%20%22Point%22%7D%2C%20%22id%22%3A%20%22114%22%2C%20%22properties%22%3A%20%7B%22Lat%22%3A%2040.71435836870427%2C%20%22Lon%22%3A%20-74.06661093235016%2C%20%22Number%20of%20Trips%22%3A%20128%2C%20%22Station%20ID%22%3A%20%22JC084%22%2C%20%22Station%20Name%22%3A%20%22Communipaw%20%5Cu0026%20Berry%20Lane%22%7D%2C%20%22type%22%3A%20%22Feature%22%7D%2C%20%7B%22bbox%22%3A%20%5B40.73496102000952%2C%20-74.0595030784607%2C%2040.73496102000952%2C%20-74.0595030784607%5D%2C%20%22geometry%22%3A%20%7B%22coordinates%22%3A%20%5B40.73496102000952%2C%20-74.0595030784607%5D%2C%20%22type%22%3A%20%22Point%22%7D%2C%20%22id%22%3A%20%2262%22%2C%20%22properties%22%3A%20%7B%22Lat%22%3A%2040.73496102000952%2C%20%22Lon%22%3A%20-74.0595030784607%2C%20%22Number%20of%20Trips%22%3A%20125%2C%20%22Station%20ID%22%3A%20%22JC018%22%2C%20%22Station%20Name%22%3A%20%225%20Corners%20Library%22%7D%2C%20%22type%22%3A%20%22Feature%22%7D%2C%20%7B%22bbox%22%3A%20%5B40.7182113%2C%20-74.0836394%2C%2040.7182113%2C%20-74.0836394%5D%2C%20%22geometry%22%3A%20%7B%22coordinates%22%3A%20%5B40.7182113%2C%20-74.0836394%5D%2C%20%22type%22%3A%20%22Point%22%7D%2C%20%22id%22%3A%20%2282%22%2C%20%22properties%22%3A%20%7B%22Lat%22%3A%2040.7182113%2C%20%22Lon%22%3A%20-74.0836394%2C%20%22Number%20of%20Trips%22%3A%20115%2C%20%22Station%20ID%22%3A%20%22JC051%22%2C%20%22Station%20Name%22%3A%20%22Union%20St%22%7D%2C%20%22type%22%3A%20%22Feature%22%7D%2C%20%7B%22bbox%22%3A%20%5B40.737711%2C%20-74.066921%2C%2040.737711%2C%20-74.066921%5D%2C%20%22geometry%22%3A%20%7B%22coordinates%22%3A%20%5B40.737711%2C%20-74.066921%5D%2C%20%22type%22%3A%20%22Point%22%7D%2C%20%22id%22%3A%20%2294%22%2C%20%22properties%22%3A%20%7B%22Lat%22%3A%2040.737711%2C%20%22Lon%22%3A%20-74.066921%2C%20%22Number%20of%20Trips%22%3A%2098%2C%20%22Station%20ID%22%3A%20%22JC065%22%2C%20%22Station%20Name%22%3A%20%22Dey%20St%22%7D%2C%20%22type%22%3A%20%22Feature%22%7D%2C%20%7B%22bbox%22%3A%20%5B40.71113%2C%20-74.0789%2C%2040.71113%2C%20-74.0789%5D%2C%20%22geometry%22%3A%20%7B%22coordinates%22%3A%20%5B40.71113%2C%20-74.0789%5D%2C%20%22type%22%3A%20%22Point%22%7D%2C%20%22id%22%3A%20%2293%22%2C%20%22properties%22%3A%20%7B%22Lat%22%3A%2040.71113%2C%20%22Lon%22%3A%20-74.0789%2C%20%22Number%20of%20Trips%22%3A%2059%2C%20%22Station%20ID%22%3A%20%22JC063%22%2C%20%22Station%20Name%22%3A%20%22Jackson%20Square%22%7D%2C%20%22type%22%3A%20%22Feature%22%7D%2C%20%7B%22bbox%22%3A%20%5B40.70657545063453%2C%20-74.0867006778717%2C%2040.70657545063453%2C%20-74.0867006778717%5D%2C%20%22geometry%22%3A%20%7B%22coordinates%22%3A%20%5B40.70657545063453%2C%20-74.0867006778717%5D%2C%20%22type%22%3A%20%22Point%22%7D%2C%20%22id%22%3A%20%22129%22%2C%20%22properties%22%3A%20%7B%22Lat%22%3A%2040.70657545063453%2C%20%22Lon%22%3A%20-74.0867006778717%2C%20%22Number%20of%20Trips%22%3A%2046%2C%20%22Station%20ID%22%3A%20%22JC108%22%2C%20%22Station%20Name%22%3A%20%22Bergen%20Ave%20%5Cu0026%20Stegman%20St%22%7D%2C%20%22type%22%3A%20%22Feature%22%7D%2C%20%7B%22bbox%22%3A%20%5B40.711242%2C%20-74.055701%2C%2040.711242%2C%20-74.055701%5D%2C%20%22geometry%22%3A%20%7B%22coordinates%22%3A%20%5B40.711242%2C%20-74.055701%5D%2C%20%22type%22%3A%20%22Point%22%7D%2C%20%22id%22%3A%20%2283%22%2C%20%22properties%22%3A%20%7B%22Lat%22%3A%2040.711242%2C%20%22Lon%22%3A%20-74.055701%2C%20%22Number%20of%20Trips%22%3A%2030%2C%20%22Station%20ID%22%3A%20%22JC052%22%2C%20%22Station%20Name%22%3A%20%22Liberty%20Light%20Rail%22%7D%2C%20%22type%22%3A%20%22Feature%22%7D%2C%20%7B%22bbox%22%3A%20%5B40.714145%2C%20-74.033552%2C%2040.714145%2C%20-74.033552%5D%2C%20%22geometry%22%3A%20%7B%22coordinates%22%3A%20%5B40.714145%2C%20-74.033552%5D%2C%20%22type%22%3A%20%22Point%22%7D%2C%20%22id%22%3A%20%2244%22%2C%20%22properties%22%3A%20%7B%22Lat%22%3A%2040.714145%2C%20%22Lon%22%3A%20-74.033552%2C%20%22Number%20of%20Trips%22%3A%2020%2C%20%22Station%20ID%22%3A%20%22JC002%22%2C%20%22Station%20Name%22%3A%20%22Paulus%20Hook%22%7D%2C%20%22type%22%3A%20%22Feature%22%7D%2C%20%7B%22bbox%22%3A%20%5B40.736982%2C%20-74.027781%2C%2040.736982%2C%20-74.027781%5D%2C%20%22geometry%22%3A%20%7B%22coordinates%22%3A%20%5B40.736982%2C%20-74.027781%5D%2C%20%22type%22%3A%20%22Point%22%7D%2C%20%22id%22%3A%20%224%22%2C%20%22properties%22%3A%20%7B%22Lat%22%3A%2040.736982%2C%20%22Lon%22%3A%20-74.027781%2C%20%22Number%20of%20Trips%22%3A%2019%2C%20%22Station%20ID%22%3A%20%22HB103%22%2C%20%22Station%20Name%22%3A%20%22South%20Waterfront%20Walkway%20-%20Sinatra%20Dr%20%5Cu0026%201%20St%22%7D%2C%20%22type%22%3A%20%22Feature%22%7D%2C%20%7B%22bbox%22%3A%20%5B40.736068%2C%20-74.029127%2C%2040.736068%2C%20-74.029127%5D%2C%20%22geometry%22%3A%20%7B%22coordinates%22%3A%20%5B40.736068%2C%20-74.029127%5D%2C%20%22type%22%3A%20%22Point%22%7D%2C%20%22id%22%3A%20%223%22%2C%20%22properties%22%3A%20%7B%22Lat%22%3A%2040.736068%2C%20%22Lon%22%3A%20-74.029127%2C%20%22Number%20of%20Trips%22%3A%2016%2C%20%22Station%20ID%22%3A%20%22HB102%22%2C%20%22Station%20Name%22%3A%20%22Hoboken%20Terminal%20-%20River%20St%20%5Cu0026%20Hudson%20Pl%22%7D%2C%20%22type%22%3A%20%22Feature%22%7D%2C%20%7B%22bbox%22%3A%20%5B40.735938%2C%20-74.030305%2C%2040.735938%2C%20-74.030305%5D%2C%20%22geometry%22%3A%20%7B%22coordinates%22%3A%20%5B40.735938%2C%20-74.030305%5D%2C%20%22type%22%3A%20%22Point%22%7D%2C%20%22id%22%3A%20%221%22%2C%20%22properties%22%3A%20%7B%22Lat%22%3A%2040.735938%2C%20%22Lon%22%3A%20-74.030305%2C%20%22Number%20of%20Trips%22%3A%2015%2C%20%22Station%20ID%22%3A%20%22HB101%22%2C%20%22Station%20Name%22%3A%20%22Hoboken%20Terminal%20-%20Hudson%20St%20%5Cu0026%20Hudson%20Pl%22%7D%2C%20%22type%22%3A%20%22Feature%22%7D%2C%20%7B%22bbox%22%3A%20%5B40.70919832245443%2C%20-74.08084273338318%2C%2040.70919832245443%2C%20-74.08084273338318%5D%2C%20%22geometry%22%3A%20%7B%22coordinates%22%3A%20%5B40.70919832245443%2C%20-74.08084273338318%5D%2C%20%22type%22%3A%20%22Point%22%7D%2C%20%22id%22%3A%20%22128%22%2C%20%22properties%22%3A%20%7B%22Lat%22%3A%2040.70919832245443%2C%20%22Lon%22%3A%20-74.08084273338318%2C%20%22Number%20of%20Trips%22%3A%2015%2C%20%22Station%20ID%22%3A%20%22JC107%22%2C%20%22Station%20Name%22%3A%20%22Grant%20Ave%20%5Cu0026%20MLK%20Dr%22%7D%2C%20%22type%22%3A%20%22Feature%22%7D%2C%20%7B%22bbox%22%3A%20%5B40.724294%2C%20-74.035483%2C%2040.724294%2C%20-74.035483%5D%2C%20%22geometry%22%3A%20%7B%22coordinates%22%3A%20%5B40.724294%2C%20-74.035483%5D%2C%20%22type%22%3A%20%22Point%22%7D%2C%20%22id%22%3A%20%22117%22%2C%20%22properties%22%3A%20%7B%22Lat%22%3A%2040.724294%2C%20%22Lon%22%3A%20-74.035483%2C%20%22Number%20of%20Trips%22%3A%2013%2C%20%22Station%20ID%22%3A%20%22JC098%22%2C%20%22Station%20Name%22%3A%20%22Washington%20St%22%7D%2C%20%22type%22%3A%20%22Feature%22%7D%2C%20%7B%22bbox%22%3A%20%5B40.712419%2C%20-74.038526%2C%2040.712419%2C%20-74.038526%5D%2C%20%22geometry%22%3A%20%7B%22coordinates%22%3A%20%5B40.712419%2C%20-74.038526%5D%2C%20%22type%22%3A%20%22Point%22%7D%2C%20%22id%22%3A%20%2298%22%2C%20%22properties%22%3A%20%7B%22Lat%22%3A%2040.712419%2C%20%22Lon%22%3A%20-74.038526%2C%20%22Number%20of%20Trips%22%3A%2013%2C%20%22Station%20ID%22%3A%20%22JC072%22%2C%20%22Station%20Name%22%3A%20%22Morris%20Canal%22%7D%2C%20%22type%22%3A%20%22Feature%22%7D%2C%20%7B%22bbox%22%3A%20%5B40.721525%2C%20-74.046305%2C%2040.721525%2C%20-74.046305%5D%2C%20%22geometry%22%3A%20%7B%22coordinates%22%3A%20%5B40.721525%2C%20-74.046305%5D%2C%20%22type%22%3A%20%22Point%22%7D%2C%20%22id%22%3A%20%2275%22%2C%20%22properties%22%3A%20%7B%22Lat%22%3A%2040.721525%2C%20%22Lon%22%3A%20-74.046305%2C%20%22Number%20of%20Trips%22%3A%209%2C%20%22Station%20ID%22%3A%20%22JC032%22%2C%20%22Station%20Name%22%3A%20%22Newark%20Ave%22%7D%2C%20%22type%22%3A%20%22Feature%22%7D%2C%20%7B%22bbox%22%3A%20%5B40.727596%2C%20-74.044247%2C%2040.727596%2C%20-74.044247%5D%2C%20%22geometry%22%3A%20%7B%22coordinates%22%3A%20%5B40.727596%2C%20-74.044247%5D%2C%20%22type%22%3A%20%22Point%22%7D%2C%20%22id%22%3A%20%2255%22%2C%20%22properties%22%3A%20%7B%22Lat%22%3A%2040.727596%2C%20%22Lon%22%3A%20-74.044247%2C%20%22Number%20of%20Trips%22%3A%208%2C%20%22Station%20ID%22%3A%20%22JC009%22%2C%20%22Station%20Name%22%3A%20%22Hamilton%20Park%22%7D%2C%20%22type%22%3A%20%22Feature%22%7D%2C%20%7B%22bbox%22%3A%20%5B40.72163%2C%20-74.049968%2C%2040.72163%2C%20-74.049968%5D%2C%20%22geometry%22%3A%20%7B%22coordinates%22%3A%20%5B40.72163%2C%20-74.049968%5D%2C%20%22type%22%3A%20%22Point%22%7D%2C%20%22id%22%3A%20%22103%22%2C%20%22properties%22%3A%20%7B%22Lat%22%3A%2040.72163%2C%20%22Lon%22%3A%20-74.049968%2C%20%22Number%20of%20Trips%22%3A%207%2C%20%22Station%20ID%22%3A%20%22JC076%22%2C%20%22Station%20Name%22%3A%20%22Dixon%20Mills%22%7D%2C%20%22type%22%3A%20%22Feature%22%7D%2C%20%7B%22bbox%22%3A%20%5B40.71654%2C%20-74.049638%2C%2040.71654%2C%20-74.049638%5D%2C%20%22geometry%22%3A%20%7B%22coordinates%22%3A%20%5B40.71654%2C%20-74.049638%5D%2C%20%22type%22%3A%20%22Point%22%7D%2C%20%22id%22%3A%20%2257%22%2C%20%22properties%22%3A%20%7B%22Lat%22%3A%2040.71654%2C%20%22Lon%22%3A%20-74.049638%2C%20%22Number%20of%20Trips%22%3A%207%2C%20%22Station%20ID%22%3A%20%22JC011%22%2C%20%22Station%20Name%22%3A%20%22JC%20Medical%20Center%22%7D%2C%20%22type%22%3A%20%22Feature%22%7D%2C%20%7B%22bbox%22%3A%20%5B40.752961%2C%20-74.024353%2C%2040.752961%2C%20-74.024353%5D%2C%20%22geometry%22%3A%20%7B%22coordinates%22%3A%20%5B40.752961%2C%20-74.024353%5D%2C%20%22type%22%3A%20%22Point%22%7D%2C%20%22id%22%3A%20%2210%22%2C%20%22properties%22%3A%20%7B%22Lat%22%3A%2040.752961%2C%20%22Lon%22%3A%20-74.024353%2C%20%22Number%20of%20Trips%22%3A%206%2C%20%22Station%20ID%22%3A%20%22HB202%22%2C%20%22Station%20Name%22%3A%20%2214%20St%20Ferry%20-%2014%20St%20%5Cu0026%20Shipyard%20Ln%22%7D%2C%20%22type%22%3A%20%22Feature%22%7D%2C%20%7B%22bbox%22%3A%20%5B40.750604%2C%20-74.02402%2C%2040.750604%2C%20-74.02402%5D%2C%20%22geometry%22%3A%20%7B%22coordinates%22%3A%20%5B40.750604%2C%20-74.02402%5D%2C%20%22type%22%3A%20%22Point%22%7D%2C%20%22id%22%3A%20%227%22%2C%20%22properties%22%3A%20%7B%22Lat%22%3A%2040.750604%2C%20%22Lon%22%3A%20-74.02402%2C%20%22Number%20of%20Trips%22%3A%206%2C%20%22Station%20ID%22%3A%20%22HB201%22%2C%20%22Station%20Name%22%3A%20%2212%20St%20%5Cu0026%20Sinatra%20Dr%20N%22%7D%2C%20%22type%22%3A%20%22Feature%22%7D%2C%20%7B%22bbox%22%3A%20%5B40.725289%2C%20-74.045572%2C%2040.725289%2C%20-74.045572%5D%2C%20%22geometry%22%3A%20%7B%22coordinates%22%3A%20%5B40.725289%2C%20-74.045572%5D%2C%20%22type%22%3A%20%22Point%22%7D%2C%20%22id%22%3A%20%2273%22%2C%20%22properties%22%3A%20%7B%22Lat%22%3A%2040.725289%2C%20%22Lon%22%3A%20-74.045572%2C%20%22Number%20of%20Trips%22%3A%205%2C%20%22Station%20ID%22%3A%20%22JC027%22%2C%20%22Station%20Name%22%3A%20%22Jersey%20%5Cu0026%206th%20St%22%7D%2C%20%22type%22%3A%20%22Feature%22%7D%2C%20%7B%22bbox%22%3A%20%5B40.727224%2C%20-74.033759%2C%2040.727224%2C%20-74.033759%5D%2C%20%22geometry%22%3A%20%7B%22coordinates%22%3A%20%5B40.727224%2C%20-74.033759%5D%2C%20%22type%22%3A%20%22Point%22%7D%2C%20%22id%22%3A%20%2296%22%2C%20%22properties%22%3A%20%7B%22Lat%22%3A%2040.727224%2C%20%22Lon%22%3A%20-74.033759%2C%20%22Number%20of%20Trips%22%3A%205%2C%20%22Station%20ID%22%3A%20%22JC066%22%2C%20%22Station%20Name%22%3A%20%22Newport%20PATH%22%7D%2C%20%22type%22%3A%20%22Feature%22%7D%2C%20%7B%22bbox%22%3A%20%5B40.735208%2C%20-74.046964%2C%2040.735208%2C%20-74.046964%5D%2C%20%22geometry%22%3A%20%7B%22coordinates%22%3A%20%5B40.735208%2C%20-74.046964%5D%2C%20%22type%22%3A%20%22Point%22%7D%2C%20%22id%22%3A%20%22125%22%2C%20%22properties%22%3A%20%7B%22Lat%22%3A%2040.735208%2C%20%22Lon%22%3A%20-74.046964%2C%20%22Number%20of%20Trips%22%3A%205%2C%20%22Station%20ID%22%3A%20%22JC105%22%2C%20%22Station%20Name%22%3A%20%22Hoboken%20Ave%20at%20Monmouth%20St%22%7D%2C%20%22type%22%3A%20%22Feature%22%7D%2C%20%7B%22bbox%22%3A%20%5B40.728745%2C%20-74.032108%2C%2040.728745%2C%20-74.032108%5D%2C%20%22geometry%22%3A%20%7B%22coordinates%22%3A%20%5B40.728745%2C%20-74.032108%5D%2C%20%22type%22%3A%20%22Point%22%7D%2C%20%22id%22%3A%20%2253%22%2C%20%22properties%22%3A%20%7B%22Lat%22%3A%2040.728745%2C%20%22Lon%22%3A%20-74.032108%2C%20%22Number%20of%20Trips%22%3A%205%2C%20%22Station%20ID%22%3A%20%22JC008%22%2C%20%22Station%20Name%22%3A%20%22Newport%20Pkwy%22%7D%2C%20%22type%22%3A%20%22Feature%22%7D%2C%20%7B%22bbox%22%3A%20%5B40.731169%2C%20-74.057574%2C%2040.731169%2C%20-74.057574%5D%2C%20%22geometry%22%3A%20%7B%22coordinates%22%3A%20%5B40.731169%2C%20-74.057574%5D%2C%20%22type%22%3A%20%22Point%22%7D%2C%20%22id%22%3A%20%2264%22%2C%20%22properties%22%3A%20%7B%22Lat%22%3A%2040.731169%2C%20%22Lon%22%3A%20-74.057574%2C%20%22Number%20of%20Trips%22%3A%204%2C%20%22Station%20ID%22%3A%20%22JC019%22%2C%20%22Station%20Name%22%3A%20%22Hilltop%22%7D%2C%20%22type%22%3A%20%22Feature%22%7D%2C%20%7B%22bbox%22%3A%20%5B40.749985%2C%20-74.02715%2C%2040.749985%2C%20-74.02715%5D%2C%20%22geometry%22%3A%20%7B%22coordinates%22%3A%20%5B40.749985%2C%20-74.02715%5D%2C%20%22type%22%3A%20%22Point%22%7D%2C%20%22id%22%3A%20%2231%22%2C%20%22properties%22%3A%20%7B%22Lat%22%3A%2040.749985%2C%20%22Lon%22%3A%20-74.02715%2C%20%22Number%20of%20Trips%22%3A%204%2C%20%22Station%20ID%22%3A%20%22HB502%22%2C%20%22Station%20Name%22%3A%20%2211%20St%20%5Cu0026%20Washington%20St%22%7D%2C%20%22type%22%3A%20%22Feature%22%7D%2C%20%7B%22bbox%22%3A%20%5B40.726012%2C%20-74.050389%2C%2040.726012%2C%20-74.050389%5D%2C%20%22geometry%22%3A%20%7B%22coordinates%22%3A%20%5B40.726012%2C%20-74.050389%5D%2C%20%22type%22%3A%20%22Point%22%7D%2C%20%22id%22%3A%20%22112%22%2C%20%22properties%22%3A%20%7B%22Lat%22%3A%2040.726012%2C%20%22Lon%22%3A%20-74.050389%2C%20%22Number%20of%20Trips%22%3A%204%2C%20%22Station%20ID%22%3A%20%22JC081%22%2C%20%22Station%20Name%22%3A%20%22Brunswick%20%5Cu0026%206th%22%7D%2C%20%22type%22%3A%20%22Feature%22%7D%2C%20%7B%22bbox%22%3A%20%5B40.719252%2C%20-74.034234%2C%2040.719252%2C%20-74.034234%5D%2C%20%22geometry%22%3A%20%7B%22coordinates%22%3A%20%5B40.719252%2C%20-74.034234%5D%2C%20%22type%22%3A%20%22Point%22%7D%2C%20%22id%22%3A%20%22124%22%2C%20%22properties%22%3A%20%7B%22Lat%22%3A%2040.719252%2C%20%22Lon%22%3A%20-74.034234%2C%20%22Number%20of%20Trips%22%3A%204%2C%20%22Station%20ID%22%3A%20%22JC104%22%2C%20%22Station%20Name%22%3A%20%22Harborside%22%7D%2C%20%22type%22%3A%20%22Feature%22%7D%2C%20%7B%22bbox%22%3A%20%5B40.723659%2C%20-74.064194%2C%2040.723659%2C%20-74.064194%5D%2C%20%22geometry%22%3A%20%7B%22coordinates%22%3A%20%5B40.723659%2C%20-74.064194%5D%2C%20%22type%22%3A%20%22Point%22%7D%2C%20%22id%22%3A%20%2266%22%2C%20%22properties%22%3A%20%7B%22Lat%22%3A%2040.723659%2C%20%22Lon%22%3A%20-74.064194%2C%20%22Number%20of%20Trips%22%3A%204%2C%20%22Station%20ID%22%3A%20%22JC020%22%2C%20%22Station%20Name%22%3A%20%22Baldwin%20at%20Montgomery%22%7D%2C%20%22type%22%3A%20%22Feature%22%7D%2C%20%7B%22bbox%22%3A%20%5B40.718489%2C%20-74.047727%2C%2040.718489%2C%20-74.047727%5D%2C%20%22geometry%22%3A%20%7B%22coordinates%22%3A%20%5B40.718489%2C%20-74.047727%5D%2C%20%22type%22%3A%20%22Point%22%7D%2C%20%22id%22%3A%20%2279%22%2C%20%22properties%22%3A%20%7B%22Lat%22%3A%2040.718489%2C%20%22Lon%22%3A%20-74.047727%2C%20%22Number%20of%20Trips%22%3A%204%2C%20%22Station%20ID%22%3A%20%22JC035%22%2C%20%22Station%20Name%22%3A%20%22Van%20Vorst%20Park%22%7D%2C%20%22type%22%3A%20%22Feature%22%7D%2C%20%7B%22bbox%22%3A%20%5B40.719282%2C%20-74.071262%2C%2040.719282%2C%20-74.071262%5D%2C%20%22geometry%22%3A%20%7B%22coordinates%22%3A%20%5B40.719282%2C%20-74.071262%5D%2C%20%22type%22%3A%20%22Point%22%7D%2C%20%22id%22%3A%20%22105%22%2C%20%22properties%22%3A%20%7B%22Lat%22%3A%2040.719282%2C%20%22Lon%22%3A%20-74.071262%2C%20%22Number%20of%20Trips%22%3A%203%2C%20%22Station%20ID%22%3A%20%22JC077%22%2C%20%22Station%20Name%22%3A%20%22Astor%20Place%22%7D%2C%20%22type%22%3A%20%22Feature%22%7D%2C%20%7B%22bbox%22%3A%20%5B40.740973%2C%20-74.028603%2C%2040.740973%2C%20-74.028603%5D%2C%20%22geometry%22%3A%20%7B%22coordinates%22%3A%20%5B40.740973%2C%20-74.028603%5D%2C%20%22type%22%3A%20%22Point%22%7D%2C%20%22id%22%3A%20%2243%22%2C%20%22properties%22%3A%20%7B%22Lat%22%3A%2040.740973%2C%20%22Lon%22%3A%20-74.028603%2C%20%22Number%20of%20Trips%22%3A%203%2C%20%22Station%20ID%22%3A%20%22HB607%22%2C%20%22Station%20Name%22%3A%20%22Hudson%20St%20%5Cu0026%204%20St%22%7D%2C%20%22type%22%3A%20%22Feature%22%7D%2C%20%7B%22bbox%22%3A%20%5B40.721124%2C%20-74.038051%2C%2040.721124%2C%20-74.038051%5D%2C%20%22geometry%22%3A%20%7B%22coordinates%22%3A%20%5B40.721124%2C%20-74.038051%5D%2C%20%22type%22%3A%20%22Point%22%7D%2C%20%22id%22%3A%20%2251%22%2C%20%22properties%22%3A%20%7B%22Lat%22%3A%2040.721124%2C%20%22Lon%22%3A%20-74.038051%2C%20%22Number%20of%20Trips%22%3A%203%2C%20%22Station%20ID%22%3A%20%22JC006%22%2C%20%22Station%20Name%22%3A%20%22Warren%20St%22%7D%2C%20%22type%22%3A%20%22Feature%22%7D%2C%20%7B%22bbox%22%3A%20%5B40.713464%2C%20-74.062859%2C%2040.713464%2C%20-74.062859%5D%2C%20%22geometry%22%3A%20%7B%22coordinates%22%3A%20%5B40.713464%2C%20-74.062859%5D%2C%20%22type%22%3A%20%22Point%22%7D%2C%20%22id%22%3A%20%22108%22%2C%20%22properties%22%3A%20%7B%22Lat%22%3A%2040.713464%2C%20%22Lon%22%3A%20-74.062859%2C%20%22Number%20of%20Trips%22%3A%203%2C%20%22Station%20ID%22%3A%20%22JC078%22%2C%20%22Station%20Name%22%3A%20%22Lafayette%20Park%22%7D%2C%20%22type%22%3A%20%22Feature%22%7D%2C%20%7B%22bbox%22%3A%20%5B40.737551%2C%20-74.041664%2C%2040.737551%2C%20-74.041664%5D%2C%20%22geometry%22%3A%20%7B%22coordinates%22%3A%20%5B40.737551%2C%20-74.041664%5D%2C%20%22type%22%3A%20%22Point%22%7D%2C%20%22id%22%3A%20%2219%22%2C%20%22properties%22%3A%20%7B%22Lat%22%3A%2040.737551%2C%20%22Lon%22%3A%20-74.041664%2C%20%22Number%20of%20Trips%22%3A%203%2C%20%22Station%20ID%22%3A%20%22HB401%22%2C%20%22Station%20Name%22%3A%20%22Southwest%20Park%20-%20Jackson%20St%20%5Cu0026%20Observer%20Hwy%22%7D%2C%20%22type%22%3A%20%22Feature%22%7D%2C%20%7B%22bbox%22%3A%20%5B40.742659%2C%20-74.032233%2C%2040.742659%2C%20-74.032233%5D%2C%20%22geometry%22%3A%20%7B%22coordinates%22%3A%20%5B40.742659%2C%20-74.032233%5D%2C%20%22type%22%3A%20%22Point%22%7D%2C%20%22id%22%3A%20%2238%22%2C%20%22properties%22%3A%20%7B%22Lat%22%3A%2040.742659%2C%20%22Lon%22%3A%20-74.032233%2C%20%22Number%20of%20Trips%22%3A%203%2C%20%22Station%20ID%22%3A%20%22HB601%22%2C%20%22Station%20Name%22%3A%20%22Church%20Sq%20Park%20-%205%20St%20%5Cu0026%20Park%20Ave%22%7D%2C%20%22type%22%3A%20%22Feature%22%7D%2C%20%7B%22bbox%22%3A%20%5B40.718355%2C%20-74.038914%2C%2040.718355%2C%20-74.038914%5D%2C%20%22geometry%22%3A%20%7B%22coordinates%22%3A%20%5B40.718355%2C%20-74.038914%5D%2C%20%22type%22%3A%20%22Point%22%7D%2C%20%22id%22%3A%20%2260%22%2C%20%22properties%22%3A%20%7B%22Lat%22%3A%2040.718355%2C%20%22Lon%22%3A%20-74.038914%2C%20%22Number%20of%20Trips%22%3A%203%2C%20%22Station%20ID%22%3A%20%22JC014%22%2C%20%22Station%20Name%22%3A%20%22Columbus%20Drive%22%7D%2C%20%22type%22%3A%20%22Feature%22%7D%2C%20%7B%22bbox%22%3A%20%5B40.712774%2C%20-74.036486%2C%2040.712774%2C%20-74.036486%5D%2C%20%22geometry%22%3A%20%7B%22coordinates%22%3A%20%5B40.712774%2C%20-74.036486%5D%2C%20%22type%22%3A%20%22Point%22%7D%2C%20%22id%22%3A%20%2280%22%2C%20%22properties%22%3A%20%7B%22Lat%22%3A%2040.712774%2C%20%22Lon%22%3A%20-74.036486%2C%20%22Number%20of%20Trips%22%3A%203%2C%20%22Station%20ID%22%3A%20%22JC038%22%2C%20%22Station%20Name%22%3A%20%22Essex%20Light%20Rail%22%7D%2C%20%22type%22%3A%20%22Feature%22%7D%2C%20%7B%22bbox%22%3A%20%5B40.724177%2C%20-74.050656%2C%2040.724177%2C%20-74.050656%5D%2C%20%22geometry%22%3A%20%7B%22coordinates%22%3A%20%5B40.724177%2C%20-74.050656%5D%2C%20%22type%22%3A%20%22Point%22%7D%2C%20%22id%22%3A%20%2270%22%2C%20%22properties%22%3A%20%7B%22Lat%22%3A%2040.724177%2C%20%22Lon%22%3A%20-74.050656%2C%20%22Number%20of%20Trips%22%3A%202%2C%20%22Station%20ID%22%3A%20%22JC023%22%2C%20%22Station%20Name%22%3A%20%22Brunswick%20St%22%7D%2C%20%22type%22%3A%20%22Feature%22%7D%2C%20%7B%22bbox%22%3A%20%5B40.725685%2C%20-74.04879%2C%2040.725685%2C%20-74.04879%5D%2C%20%22geometry%22%3A%20%7B%22coordinates%22%3A%20%5B40.725685%2C%20-74.04879%5D%2C%20%22type%22%3A%20%22Point%22%7D%2C%20%22id%22%3A%20%22101%22%2C%20%22properties%22%3A%20%7B%22Lat%22%3A%2040.725685%2C%20%22Lon%22%3A%20-74.04879%2C%20%22Number%20of%20Trips%22%3A%202%2C%20%22Station%20ID%22%3A%20%22JC075%22%2C%20%22Station%20Name%22%3A%20%22Monmouth%20and%206th%22%7D%2C%20%22type%22%3A%20%22Feature%22%7D%2C%20%7B%22bbox%22%3A%20%5B40.74591%2C%20-74.057271%2C%2040.74591%2C%20-74.057271%5D%2C%20%22geometry%22%3A%20%7B%22coordinates%22%3A%20%5B40.74591%2C%20-74.057271%5D%2C%20%22type%22%3A%20%22Point%22%7D%2C%20%22id%22%3A%20%22110%22%2C%20%22properties%22%3A%20%7B%22Lat%22%3A%2040.74591%2C%20%22Lon%22%3A%20-74.057271%2C%20%22Number%20of%20Trips%22%3A%202%2C%20%22Station%20ID%22%3A%20%22JC080%22%2C%20%22Station%20Name%22%3A%20%22Leonard%20Gordon%20Park%22%7D%2C%20%22type%22%3A%20%22Feature%22%7D%2C%20%7B%22bbox%22%3A%20%5B40.745984%2C%20-74.028199%2C%2040.745984%2C%20-74.028199%5D%2C%20%22geometry%22%3A%20%7B%22coordinates%22%3A%20%5B40.745984%2C%20-74.028199%5D%2C%20%22type%22%3A%20%22Point%22%7D%2C%20%22id%22%3A%20%2241%22%2C%20%22properties%22%3A%20%7B%22Lat%22%3A%2040.745984%2C%20%22Lon%22%3A%20-74.028199%2C%20%22Number%20of%20Trips%22%3A%202%2C%20%22Station%20ID%22%3A%20%22HB603%22%2C%20%22Station%20Name%22%3A%20%228%20St%20%5Cu0026%20Washington%20St%22%7D%2C%20%22type%22%3A%20%22Feature%22%7D%2C%20%7B%22bbox%22%3A%20%5B40.742677%2C%20-74.051789%2C%2040.742677%2C%20-74.051789%5D%2C%20%22geometry%22%3A%20%7B%22coordinates%22%3A%20%5B40.742677%2C%20-74.051789%5D%2C%20%22type%22%3A%20%22Point%22%7D%2C%20%22id%22%3A%20%2271%22%2C%20%22properties%22%3A%20%7B%22Lat%22%3A%2040.742677%2C%20%22Lon%22%3A%20-74.051789%2C%20%22Number%20of%20Trips%22%3A%202%2C%20%22Station%20ID%22%3A%20%22JC024%22%2C%20%22Station%20Name%22%3A%20%22Pershing%20Field%22%7D%2C%20%22type%22%3A%20%22Feature%22%7D%2C%20%7B%22bbox%22%3A%20%5B40.746413%2C%20-74.037977%2C%2040.746413%2C%20-74.037977%5D%2C%20%22geometry%22%3A%20%7B%22coordinates%22%3A%20%5B40.746413%2C%20-74.037977%5D%2C%20%22type%22%3A%20%22Point%22%7D%2C%20%22id%22%3A%20%2217%22%2C%20%22properties%22%3A%20%7B%22Lat%22%3A%2040.746413%2C%20%22Lon%22%3A%20-74.037977%2C%20%22Number%20of%20Trips%22%3A%202%2C%20%22Station%20ID%22%3A%20%22HB304%22%2C%20%22Station%20Name%22%3A%20%227%20St%20%5Cu0026%20Monroe%20St%22%7D%2C%20%22type%22%3A%20%22Feature%22%7D%2C%20%7B%22bbox%22%3A%20%5B40.715178%2C%20-74.037683%2C%2040.715178%2C%20-74.037683%5D%2C%20%22geometry%22%3A%20%7B%22coordinates%22%3A%20%5B40.715178%2C%20-74.037683%5D%2C%20%22type%22%3A%20%22Point%22%7D%2C%20%22id%22%3A%20%22121%22%2C%20%22properties%22%3A%20%7B%22Lat%22%3A%2040.715178%2C%20%22Lon%22%3A%20-74.037683%2C%20%22Number%20of%20Trips%22%3A%201%2C%20%22Station%20ID%22%3A%20%22JC102%22%2C%20%22Station%20Name%22%3A%20%22Grand%20St%22%7D%2C%20%22type%22%3A%20%22Feature%22%7D%2C%20%7B%22bbox%22%3A%20%5B40.751867%2C%20-74.030377%2C%2040.751867%2C%20-74.030377%5D%2C%20%22geometry%22%3A%20%7B%22coordinates%22%3A%20%5B40.751867%2C%20-74.030377%5D%2C%20%22type%22%3A%20%22Point%22%7D%2C%20%22id%22%3A%20%2233%22%2C%20%22properties%22%3A%20%7B%22Lat%22%3A%2040.751867%2C%20%22Lon%22%3A%20-74.030377%2C%20%22Number%20of%20Trips%22%3A%201%2C%20%22Station%20ID%22%3A%20%22HB505%22%2C%20%22Station%20Name%22%3A%20%22Willow%20Ave%20%5Cu0026%2012%20St%22%7D%2C%20%22type%22%3A%20%22Feature%22%7D%2C%20%7B%22bbox%22%3A%20%5B40.748161%2C%20-74.032453%2C%2040.748161%2C%20-74.032453%5D%2C%20%22geometry%22%3A%20%7B%22coordinates%22%3A%20%5B40.748161%2C%20-74.032453%5D%2C%20%22type%22%3A%20%22Point%22%7D%2C%20%22id%22%3A%20%2228%22%2C%20%22properties%22%3A%20%7B%22Lat%22%3A%2040.748161%2C%20%22Lon%22%3A%20-74.032453%2C%20%22Number%20of%20Trips%22%3A%201%2C%20%22Station%20ID%22%3A%20%22HB501%22%2C%20%22Station%20Name%22%3A%20%22Columbus%20Park%20-%20Clinton%20St%20%5Cu0026%209%20St%22%7D%2C%20%22type%22%3A%20%22Feature%22%7D%2C%20%7B%22bbox%22%3A%20%5B40.717733%2C%20-74.043845%2C%2040.717733%2C%20-74.043845%5D%2C%20%22geometry%22%3A%20%7B%22coordinates%22%3A%20%5B40.717733%2C%20-74.043845%5D%2C%20%22type%22%3A%20%22Point%22%7D%2C%20%22id%22%3A%20%2247%22%2C%20%22properties%22%3A%20%7B%22Lat%22%3A%2040.717733%2C%20%22Lon%22%3A%20-74.043845%2C%20%22Number%20of%20Trips%22%3A%201%2C%20%22Station%20ID%22%3A%20%22JC003%22%2C%20%22Station%20Name%22%3A%20%22City%20Hall%22%7D%2C%20%22type%22%3A%20%22Feature%22%7D%2C%20%7B%22bbox%22%3A%20%5B40.719586%2C%20-74.043117%2C%2040.719586%2C%20-74.043117%5D%2C%20%22geometry%22%3A%20%7B%22coordinates%22%3A%20%5B40.719586%2C%20-74.043117%5D%2C%20%22type%22%3A%20%22Point%22%7D%2C%20%22id%22%3A%20%2248%22%2C%20%22properties%22%3A%20%7B%22Lat%22%3A%2040.719586%2C%20%22Lon%22%3A%20-74.043117%2C%20%22Number%20of%20Trips%22%3A%201%2C%20%22Station%20ID%22%3A%20%22JC005%22%2C%20%22Station%20Name%22%3A%20%22Grove%20St%20PATH%22%7D%2C%20%22type%22%3A%20%22Feature%22%7D%2C%20%7B%22bbox%22%3A%20%5B40.737604%2C%20-74.052478%2C%2040.737604%2C%20-74.052478%5D%2C%20%22geometry%22%3A%20%7B%22coordinates%22%3A%20%5B40.737604%2C%20-74.052478%5D%2C%20%22type%22%3A%20%22Point%22%7D%2C%20%22id%22%3A%20%2268%22%2C%20%22properties%22%3A%20%7B%22Lat%22%3A%2040.737604%2C%20%22Lon%22%3A%20-74.052478%2C%20%22Number%20of%20Trips%22%3A%201%2C%20%22Station%20ID%22%3A%20%22JC022%22%2C%20%22Station%20Name%22%3A%20%22Oakland%20Ave%22%7D%2C%20%22type%22%3A%20%22Feature%22%7D%2C%20%7B%22bbox%22%3A%20%5B40.714584%2C%20-74.042817%2C%2040.714584%2C%20-74.042817%5D%2C%20%22geometry%22%3A%20%7B%22coordinates%22%3A%20%5B40.714584%2C%20-74.042817%5D%2C%20%22type%22%3A%20%22Point%22%7D%2C%20%22id%22%3A%20%2258%22%2C%20%22properties%22%3A%20%7B%22Lat%22%3A%2040.714584%2C%20%22Lon%22%3A%20-74.042817%2C%20%22Number%20of%20Trips%22%3A%201%2C%20%22Station%20ID%22%3A%20%22JC013%22%2C%20%22Station%20Name%22%3A%20%22Marin%20Light%20Rail%22%7D%2C%20%22type%22%3A%20%22Feature%22%7D%2C%20%7B%22bbox%22%3A%20%5B40.723332%2C%20-74.045953%2C%2040.723332%2C%20-74.045953%5D%2C%20%22geometry%22%3A%20%7B%22coordinates%22%3A%20%5B40.723332%2C%20-74.045953%5D%2C%20%22type%22%3A%20%22Point%22%7D%2C%20%22id%22%3A%20%22100%22%2C%20%22properties%22%3A%20%7B%22Lat%22%3A%2040.723332%2C%20%22Lon%22%3A%20-74.045953%2C%20%22Number%20of%20Trips%22%3A%201%2C%20%22Station%20ID%22%3A%20%22JC074%22%2C%20%22Station%20Name%22%3A%20%22Jersey%20%5Cu0026%203rd%22%7D%2C%20%22type%22%3A%20%22Feature%22%7D%2C%20%7B%22bbox%22%3A%20%5B40.739814%2C%20-74.036904%2C%2040.739814%2C%20-74.036904%5D%2C%20%22geometry%22%3A%20%7B%22coordinates%22%3A%20%5B40.739814%2C%20-74.036904%5D%2C%20%22type%22%3A%20%22Point%22%7D%2C%20%22id%22%3A%20%2225%22%2C%20%22properties%22%3A%20%7B%22Lat%22%3A%2040.739814%2C%20%22Lon%22%3A%20-74.036904%2C%20%22Number%20of%20Trips%22%3A%201%2C%20%22Station%20ID%22%3A%20%22HB407%22%2C%20%22Station%20Name%22%3A%20%22Adams%20St%20%5Cu0026%202%20St%22%7D%2C%20%22type%22%3A%20%22Feature%22%7D%2C%20%7B%22bbox%22%3A%20%5B40.72534%2C%20-74.067622%2C%2040.72534%2C%20-74.067622%5D%2C%20%22geometry%22%3A%20%7B%22coordinates%22%3A%20%5B40.72534%2C%20-74.067622%5D%2C%20%22type%22%3A%20%22Point%22%7D%2C%20%22id%22%3A%20%2287%22%2C%20%22properties%22%3A%20%7B%22Lat%22%3A%2040.72534%2C%20%22Lon%22%3A%20-74.067622%2C%20%22Number%20of%20Trips%22%3A%201%2C%20%22Station%20ID%22%3A%20%22JC055%22%2C%20%22Station%20Name%22%3A%20%22McGinley%20Square%22%7D%2C%20%22type%22%3A%20%22Feature%22%7D%2C%20%7B%22bbox%22%3A%20%5B40.744398%2C%20-74.034501%2C%2040.744398%2C%20-74.034501%5D%2C%20%22geometry%22%3A%20%7B%22coordinates%22%3A%20%5B40.744398%2C%20-74.034501%5D%2C%20%22type%22%3A%20%22Point%22%7D%2C%20%22id%22%3A%20%2214%22%2C%20%22properties%22%3A%20%7B%22Lat%22%3A%2040.744398%2C%20%22Lon%22%3A%20-74.034501%2C%20%22Number%20of%20Trips%22%3A%201%2C%20%22Station%20ID%22%3A%20%22HB302%22%2C%20%22Station%20Name%22%3A%20%226%20St%20%5Cu0026%20Grand%20St%22%7D%2C%20%22type%22%3A%20%22Feature%22%7D%2C%20%7B%22bbox%22%3A%20%5B40.74314%2C%20-74.040041%2C%2040.74314%2C%20-74.040041%5D%2C%20%22geometry%22%3A%20%7B%22coordinates%22%3A%20%5B40.74314%2C%20-74.040041%5D%2C%20%22type%22%3A%20%22Point%22%7D%2C%20%22id%22%3A%20%2223%22%2C%20%22properties%22%3A%20%7B%22Lat%22%3A%2040.74314%2C%20%22Lon%22%3A%20-74.040041%2C%20%22Number%20of%20Trips%22%3A%201%2C%20%22Station%20ID%22%3A%20%22HB404%22%2C%20%22Station%20Name%22%3A%20%22Mama%20Johnson%20Field%20-%204%20St%20%5Cu0026%20Jackson%20St%22%7D%2C%20%22type%22%3A%20%22Feature%22%7D%2C%20%7B%22bbox%22%3A%20%5B40.730897%2C%20-74.063913%2C%2040.730897%2C%20-74.063913%5D%2C%20%22geometry%22%3A%20%7B%22coordinates%22%3A%20%5B40.730897%2C%20-74.063913%5D%2C%20%22type%22%3A%20%22Point%22%7D%2C%20%22id%22%3A%20%2288%22%2C%20%22properties%22%3A%20%7B%22Lat%22%3A%2040.730897%2C%20%22Lon%22%3A%20-74.063913%2C%20%22Number%20of%20Trips%22%3A%201%2C%20%22Station%20ID%22%3A%20%22JC056%22%2C%20%22Station%20Name%22%3A%20%22Sip%20Ave%22%7D%2C%20%22type%22%3A%20%22Feature%22%7D%2C%20%7B%22bbox%22%3A%20%5B40.744319%2C%20-74.043991%2C%2040.744319%2C%20-74.043991%5D%2C%20%22geometry%22%3A%20%7B%22coordinates%22%3A%20%5B40.744319%2C%20-74.043991%5D%2C%20%22type%22%3A%20%22Point%22%7D%2C%20%22id%22%3A%20%2291%22%2C%20%22properties%22%3A%20%7B%22Lat%22%3A%2040.744319%2C%20%22Lon%22%3A%20-74.043991%2C%20%22Number%20of%20Trips%22%3A%201%2C%20%22Station%20ID%22%3A%20%22JC057%22%2C%20%22Station%20Name%22%3A%20%22Riverview%20Park%22%7D%2C%20%22type%22%3A%20%22Feature%22%7D%2C%20%7B%22bbox%22%3A%20%5B40.750916%2C%20-74.033541%2C%2040.750916%2C%20-74.033541%5D%2C%20%22geometry%22%3A%20%7B%22coordinates%22%3A%20%5B40.750916%2C%20-74.033541%5D%2C%20%22type%22%3A%20%22Point%22%7D%2C%20%22id%22%3A%20%2237%22%2C%20%22properties%22%3A%20%7B%22Lat%22%3A%2040.750916%2C%20%22Lon%22%3A%20-74.033541%2C%20%22Number%20of%20Trips%22%3A%201%2C%20%22Station%20ID%22%3A%20%22HB507%22%2C%20%22Station%20Name%22%3A%20%22Adams%20St%20%5Cu0026%2011%20St%22%7D%2C%20%22type%22%3A%20%22Feature%22%7D%5D%2C%20%22type%22%3A%20%22FeatureCollection%22%7D%29%3B%0A%0A%20%20%20%20%20%20%20%20%0A%20%20%20%20%0A%20%20%20%20geo_json_33644b3caa1c46a69741fa82b2294cca.bindTooltip%28%0A%20%20%20%20function%28layer%29%7B%0A%20%20%20%20let%20div%20%3D%20L.DomUtil.create%28%27div%27%29%3B%0A%20%20%20%20%0A%20%20%20%20let%20handleObject%20%3D%20feature%3D%3Etypeof%28feature%29%3D%3D%27object%27%20%3F%20JSON.stringify%28feature%29%20%3A%20feature%3B%0A%20%20%20%20let%20fields%20%3D%20%5B%22Station%20Name%22%2C%20%22Number%20of%20Trips%22%5D%3B%0A%20%20%20%20let%20aliases%20%3D%20%5B%22Station%20Name%22%2C%20%22Number%20of%20Trips%22%5D%3B%0A%20%20%20%20let%20table%20%3D%20%27%3Ctable%3E%27%20%2B%0A%20%20%20%20%20%20%20%20String%28%0A%20%20%20%20%20%20%20%20fields.map%28%0A%20%20%20%20%20%20%20%20%28v%2Ci%29%3D%3E%0A%20%20%20%20%20%20%20%20%60%3Ctr%3E%0A%20%20%20%20%20%20%20%20%20%20%20%20%3Cth%3E%24%7Baliases%5Bi%5D%7D%3C/th%3E%0A%20%20%20%20%20%20%20%20%20%20%20%20%0A%20%20%20%20%20%20%20%20%20%20%20%20%3Ctd%3E%24%7BhandleObject%28layer.feature.properties%5Bv%5D%29%7D%3C/td%3E%0A%20%20%20%20%20%20%20%20%3C/tr%3E%60%29.join%28%27%27%29%29%0A%20%20%20%20%2B%27%3C/table%3E%27%3B%0A%20%20%20%20div.innerHTML%3Dtable%3B%0A%20%20%20%20%0A%20%20%20%20return%20div%0A%20%20%20%20%7D%0A%20%20%20%20%2C%7B%22className%22%3A%20%22foliumtooltip%22%2C%20%22sticky%22%3A%20true%7D%29%3B%0A%20%20%20%20%20%20%20%20%20%20%20%20%20%20%20%20%20%20%20%20%20%0A%20%20%20%20%0A%20%20%20%20%20%20%20%20%20%20%20%20var%20layer_control_5ebfea2da53b44ef9bac4d7a9e441419%20%3D%20%7B%0A%20%20%20%20%20%20%20%20%20%20%20%20%20%20%20%20base_layers%20%3A%20%7B%0A%20%20%20%20%20%20%20%20%20%20%20%20%20%20%20%20%20%20%20%20%22openstreetmap%22%20%3A%20tile_layer_4e338fc104e24639b4bb435b2402f8f9%2C%0A%20%20%20%20%20%20%20%20%20%20%20%20%20%20%20%20%7D%2C%0A%20%20%20%20%20%20%20%20%20%20%20%20%20%20%20%20overlays%20%3A%20%20%7B%0A%20%20%20%20%20%20%20%20%20%20%20%20%20%20%20%20%20%20%20%20%22Busiest%20Stations%20in%202021%22%20%3A%20feature_group_a293a8e4c8be47b99765737adf96f656%2C%0A%20%20%20%20%20%20%20%20%20%20%20%20%20%20%20%20%7D%2C%0A%20%20%20%20%20%20%20%20%20%20%20%20%7D%3B%0A%20%20%20%20%20%20%20%20%20%20%20%20L.control.layers%28%0A%20%20%20%20%20%20%20%20%20%20%20%20%20%20%20%20layer_control_5ebfea2da53b44ef9bac4d7a9e441419.base_layers%2C%0A%20%20%20%20%20%20%20%20%20%20%20%20%20%20%20%20layer_control_5ebfea2da53b44ef9bac4d7a9e441419.overlays%2C%0A%20%20%20%20%20%20%20%20%20%20%20%20%20%20%20%20%7B%22autoZIndex%22%3A%20true%2C%20%22collapsed%22%3A%20true%2C%20%22position%22%3A%20%22topright%22%7D%0A%20%20%20%20%20%20%20%20%20%20%20%20%29.addTo%28map_7d19f808b170418b95f8ea1cf5aa5db0%29%3B%0A%20%20%20%20%20%20%20%20%0A%3C/script%3E onload=\"this.contentDocument.open();this.contentDocument.write(    decodeURIComponent(this.getAttribute('data-html')));this.contentDocument.close();\" allowfullscreen webkitallowfullscreen mozallowfullscreen></iframe></div></div>"
      ],
      "text/plain": [
       "<folium.folium.Map at 0x7fd70d4138b0>"
      ]
     },
     "execution_count": 129,
     "metadata": {},
     "output_type": "execute_result"
    }
   ],
   "source": [
    "#Import folium package for interactive mapping\n",
    "import folium\n",
    "\n",
    "#Create Map instance\n",
    "m=folium.Map(location=[40.751873, -73.977706], zoom_start=13, attr='MyData')\n",
    "\n",
    "#Add another basemap layer\n",
    "#folium.TileLayer('OpenStreetMap', show =True).add_to(m)\n",
    "\n",
    "#Add Title to Interactive map\n",
    "loc = 'Top 100, Busiest Bike Stations in New York City in Dec 2021'\n",
    "title_html = '''\n",
    "             <h3 align=\"center\" style=\"font-size:18px\"><b>{}</b></h3>\n",
    "             '''.format(loc) \n",
    "m.get_root().html.add_child(folium.Element(title_html))\n",
    "\n",
    "#Create feature groups\n",
    "f1=folium.FeatureGroup(\"Busiest Stations in 2021\")\n",
    "\n",
    "#Add the dataframes to our feature groups\n",
    "gdf_Dec2021 = folium.GeoJson(gdf_Dec2021,marker=folium.Marker(\n",
    "                        icon=folium.Icon(color='red')),\n",
    "                        tooltip=folium.GeoJsonTooltip(\n",
    "                        fields=[\"Station Name\",\"Number of Trips\"]),\n",
    "                       ).add_to(f1)\n",
    "#Add feature groups to Map instance\n",
    "f1.add_to(m)\n",
    "\n",
    "#Add layer Control\n",
    "folium.LayerControl().add_to(m)  # use folium to add layer control\n",
    "m"
   ]
  },
  {
   "cell_type": "code",
   "execution_count": 130,
   "id": "e7790b2a-7e3a-4265-893f-857b5a2a66fc",
   "metadata": {},
   "outputs": [],
   "source": [
    "outfp = \"../images/interactive_map.html\"\n",
    "m.save(outfp)"
   ]
  },
  {
   "cell_type": "code",
   "execution_count": null,
   "id": "9ea0427f-154a-4f46-b8ab-b60a57c77480",
   "metadata": {},
   "outputs": [],
   "source": []
  }
 ],
 "metadata": {
  "kernelspec": {
   "display_name": "Python 3 (ipykernel)",
   "language": "python",
   "name": "python3"
  },
  "language_info": {
   "codemirror_mode": {
    "name": "ipython",
    "version": 3
   },
   "file_extension": ".py",
   "mimetype": "text/x-python",
   "name": "python",
   "nbconvert_exporter": "python",
   "pygments_lexer": "ipython3",
   "version": "3.8.12"
  }
 },
 "nbformat": 4,
 "nbformat_minor": 5
}
