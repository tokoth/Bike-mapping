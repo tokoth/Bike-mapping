{
 "cells": [
  {
   "cell_type": "code",
   "execution_count": null,
   "id": "f3ecae27-d4b5-46cd-a85b-022b2d3b22a7",
   "metadata": {},
   "outputs": [],
   "source": [
    "# Import pandas package\n",
    "import pandas as pd\n",
    "\n",
    "# Define filepath either relative or absolute path to file\n",
    "\n",
    "path = r'...'\n",
    "\n",
    "# Open csv file\n",
    "data = pd.read_csv(path)\n",
    "\n",
    "# Check our data columns\n",
    "print(data.columns)\n",
    "\n",
    "# Group data by columns we are interested in our case station where ride started\n",
    "group1 = data.groupby(['start station id',\n",
    "       'start station name', 'start station latitude',\n",
    "       'start station longitude'])\n",
    "\n",
    "# Check our length of group\n",
    "print(len(group1))\n",
    "\n",
    "# Create a list to store our group keys\n",
    "key = [key for key, _ in group1]\n",
    "\n",
    "# Create a dataframe from the list\n",
    "df = pd.DataFrame(key)\n",
    "\n",
    "# Check our new dataframe first 5 rows\n",
    "print(df.head)\n",
    "\n",
    "# Rename our columns\n",
    "df.rename(columns={0: 'StationID', 1: 'StationName', 2: 'Lat', 3: 'Lon'}, inplace=True)"
   ]
  }
 ],
 "metadata": {
  "kernelspec": {
   "display_name": "Python 3 (ipykernel)",
   "language": "python",
   "name": "python3"
  },
  "language_info": {
   "codemirror_mode": {
    "name": "ipython",
    "version": 3
   },
   "file_extension": ".py",
   "mimetype": "text/x-python",
   "name": "python",
   "nbconvert_exporter": "python",
   "pygments_lexer": "ipython3",
   "version": "3.8.10"
  }
 },
 "nbformat": 4,
 "nbformat_minor": 5
}
