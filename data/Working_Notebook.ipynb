{
 "cells": [
  {
   "cell_type": "markdown",
   "id": "f86ca88a-2a50-4c27-93ec-93b841870713",
   "metadata": {
    "tags": []
   },
   "source": [
    "### Creating DataFrame"
   ]
  },
  {
   "cell_type": "code",
   "execution_count": 15,
   "id": "262573ea-1621-4e8e-af9e-dd30689a3b1b",
   "metadata": {},
   "outputs": [
    {
     "data": {
      "text/html": [
       "<div>\n",
       "<style scoped>\n",
       "    .dataframe tbody tr th:only-of-type {\n",
       "        vertical-align: middle;\n",
       "    }\n",
       "\n",
       "    .dataframe tbody tr th {\n",
       "        vertical-align: top;\n",
       "    }\n",
       "\n",
       "    .dataframe thead th {\n",
       "        text-align: right;\n",
       "    }\n",
       "</style>\n",
       "<table border=\"1\" class=\"dataframe\">\n",
       "  <thead>\n",
       "    <tr style=\"text-align: right;\">\n",
       "      <th></th>\n",
       "      <th>Unnamed: 0</th>\n",
       "      <th>StationID</th>\n",
       "      <th>StationName</th>\n",
       "      <th>Lat</th>\n",
       "      <th>Lon</th>\n",
       "    </tr>\n",
       "  </thead>\n",
       "  <tbody>\n",
       "    <tr>\n",
       "      <th>0</th>\n",
       "      <td>0</td>\n",
       "      <td>72.0</td>\n",
       "      <td>W 52 St &amp; 11 Ave</td>\n",
       "      <td>40.767272</td>\n",
       "      <td>-73.993929</td>\n",
       "    </tr>\n",
       "    <tr>\n",
       "      <th>1</th>\n",
       "      <td>1</td>\n",
       "      <td>79.0</td>\n",
       "      <td>Franklin St &amp; W Broadway</td>\n",
       "      <td>40.719116</td>\n",
       "      <td>-74.006667</td>\n",
       "    </tr>\n",
       "    <tr>\n",
       "      <th>2</th>\n",
       "      <td>2</td>\n",
       "      <td>82.0</td>\n",
       "      <td>St James Pl &amp; Pearl St</td>\n",
       "      <td>40.711174</td>\n",
       "      <td>-74.000165</td>\n",
       "    </tr>\n",
       "    <tr>\n",
       "      <th>3</th>\n",
       "      <td>3</td>\n",
       "      <td>119.0</td>\n",
       "      <td>Park Ave &amp; St Edwards St</td>\n",
       "      <td>40.696089</td>\n",
       "      <td>-73.978034</td>\n",
       "    </tr>\n",
       "    <tr>\n",
       "      <th>4</th>\n",
       "      <td>4</td>\n",
       "      <td>120.0</td>\n",
       "      <td>Lexington Ave &amp; Classon Ave</td>\n",
       "      <td>40.686768</td>\n",
       "      <td>-73.959282</td>\n",
       "    </tr>\n",
       "  </tbody>\n",
       "</table>\n",
       "</div>"
      ],
      "text/plain": [
       "   Unnamed: 0  StationID                  StationName        Lat        Lon\n",
       "0           0       72.0             W 52 St & 11 Ave  40.767272 -73.993929\n",
       "1           1       79.0     Franklin St & W Broadway  40.719116 -74.006667\n",
       "2           2       82.0       St James Pl & Pearl St  40.711174 -74.000165\n",
       "3           3      119.0     Park Ave & St Edwards St  40.696089 -73.978034\n",
       "4           4      120.0  Lexington Ave & Classon Ave  40.686768 -73.959282"
      ]
     },
     "execution_count": 15,
     "metadata": {},
     "output_type": "execute_result"
    }
   ],
   "source": [
    "import pandas as pd\n",
    "\n",
    "#Define file path add relative filepath to our data\n",
    "path = r'../data/2018Dec.csv'\n",
    "\n",
    "data = pd.read_csv(path)\n",
    "data.head()"
   ]
  },
  {
   "cell_type": "code",
   "execution_count": null,
   "id": "f3ecae27-d4b5-46cd-a85b-022b2d3b22a7",
   "metadata": {},
   "outputs": [],
   "source": [
    "# Import necessary package pandas\n",
    "import pandas as pd\n",
    "\n",
    "# Define filepath either relative or absolute path to file\n",
    "\n",
    "path = r'D:\\WorkSpace\\Bike Mapping\\201812-citibike-tripdata\\201812-citibike-tripdata.csv'\n",
    "\n",
    "# Open csv file\n",
    "data = pd.read_csv(path)\n",
    "\n",
    "# Check our data columns\n",
    "print(data.columns)\n",
    "\n",
    "# Group data by columns we are interested in our case station where ride started\n",
    "group1 = data.groupby(['start station id',\n",
    "       'start station name', 'start station latitude',\n",
    "       'start station longitude'])\n",
    "\n",
    "# Check our length of group\n",
    "print(len(group1))\n",
    "\n",
    "# Create a list to store our group keys\n",
    "key = [key for key, _ in group1]\n",
    "\n",
    "# Create a dataframe from the list\n",
    "df = pd.DataFrame(key)\n",
    "\n",
    "# Check our new dataframe first 5 rows\n",
    "print(df.head)\n",
    "\n",
    "# Rename our columns\n",
    "df.rename(columns={0: 'StationID', 1: 'StationName', 2: 'Lat', 3: 'Lon'}, inplace=True)\n",
    "\n",
    "# Saving the dataframe to csv file\n",
    "#outpath = r'D:\\WorkSpace\\Bike Mapping\\201812-citibike-tripdata\\2018Dec.csv'\n",
    "#df.to_csv(outpath)"
   ]
  },
  {
   "cell_type": "markdown",
   "id": "2211b28b-5f6f-4a2e-bb7e-be696738edb4",
   "metadata": {},
   "source": [
    "### Converting DataFrame to GeoDataFrame"
   ]
  },
  {
   "cell_type": "code",
   "execution_count": 24,
   "id": "95c53690-2457-4855-9758-715d5225246e",
   "metadata": {},
   "outputs": [
    {
     "data": {
      "text/html": [
       "<div>\n",
       "<style scoped>\n",
       "    .dataframe tbody tr th:only-of-type {\n",
       "        vertical-align: middle;\n",
       "    }\n",
       "\n",
       "    .dataframe tbody tr th {\n",
       "        vertical-align: top;\n",
       "    }\n",
       "\n",
       "    .dataframe thead th {\n",
       "        text-align: right;\n",
       "    }\n",
       "</style>\n",
       "<table border=\"1\" class=\"dataframe\">\n",
       "  <thead>\n",
       "    <tr style=\"text-align: right;\">\n",
       "      <th></th>\n",
       "      <th>Unnamed: 0</th>\n",
       "      <th>StationID</th>\n",
       "      <th>StationName</th>\n",
       "      <th>Lat</th>\n",
       "      <th>Lon</th>\n",
       "      <th>geometry</th>\n",
       "    </tr>\n",
       "  </thead>\n",
       "  <tbody>\n",
       "    <tr>\n",
       "      <th>0</th>\n",
       "      <td>0</td>\n",
       "      <td>72.0</td>\n",
       "      <td>W 52 St &amp; 11 Ave</td>\n",
       "      <td>40.767272</td>\n",
       "      <td>-73.993929</td>\n",
       "      <td>POINT (-73.99393 40.76727)</td>\n",
       "    </tr>\n",
       "    <tr>\n",
       "      <th>1</th>\n",
       "      <td>1</td>\n",
       "      <td>79.0</td>\n",
       "      <td>Franklin St &amp; W Broadway</td>\n",
       "      <td>40.719116</td>\n",
       "      <td>-74.006667</td>\n",
       "      <td>POINT (-74.00667 40.71912)</td>\n",
       "    </tr>\n",
       "    <tr>\n",
       "      <th>2</th>\n",
       "      <td>2</td>\n",
       "      <td>82.0</td>\n",
       "      <td>St James Pl &amp; Pearl St</td>\n",
       "      <td>40.711174</td>\n",
       "      <td>-74.000165</td>\n",
       "      <td>POINT (-74.00017 40.71117)</td>\n",
       "    </tr>\n",
       "    <tr>\n",
       "      <th>3</th>\n",
       "      <td>3</td>\n",
       "      <td>119.0</td>\n",
       "      <td>Park Ave &amp; St Edwards St</td>\n",
       "      <td>40.696089</td>\n",
       "      <td>-73.978034</td>\n",
       "      <td>POINT (-73.97803 40.69609)</td>\n",
       "    </tr>\n",
       "    <tr>\n",
       "      <th>4</th>\n",
       "      <td>4</td>\n",
       "      <td>120.0</td>\n",
       "      <td>Lexington Ave &amp; Classon Ave</td>\n",
       "      <td>40.686768</td>\n",
       "      <td>-73.959282</td>\n",
       "      <td>POINT (-73.95928 40.68677)</td>\n",
       "    </tr>\n",
       "  </tbody>\n",
       "</table>\n",
       "</div>"
      ],
      "text/plain": [
       "   Unnamed: 0  StationID                  StationName        Lat        Lon  \\\n",
       "0           0       72.0             W 52 St & 11 Ave  40.767272 -73.993929   \n",
       "1           1       79.0     Franklin St & W Broadway  40.719116 -74.006667   \n",
       "2           2       82.0       St James Pl & Pearl St  40.711174 -74.000165   \n",
       "3           3      119.0     Park Ave & St Edwards St  40.696089 -73.978034   \n",
       "4           4      120.0  Lexington Ave & Classon Ave  40.686768 -73.959282   \n",
       "\n",
       "                     geometry  \n",
       "0  POINT (-73.99393 40.76727)  \n",
       "1  POINT (-74.00667 40.71912)  \n",
       "2  POINT (-74.00017 40.71117)  \n",
       "3  POINT (-73.97803 40.69609)  \n",
       "4  POINT (-73.95928 40.68677)  "
      ]
     },
     "execution_count": 24,
     "metadata": {},
     "output_type": "execute_result"
    }
   ],
   "source": [
    "# Import necessary package geopandas\n",
    "import geopandas as gpd\n",
    "\n",
    "#Read in our cleaned data\n",
    "#Define file path add relative filepath to our data\n",
    "path = r'../data/2018Dec.csv'\n",
    "\n",
    "data = pd.read_csv(path, )\n",
    "data.head()\n",
    "\n",
    "#Convert DataFrame to GeoDataFrame\n",
    "gdf = gpd.GeoDataFrame(\n",
    "    data, geometry=gpd.points_from_xy(data.Lon, data.Lat))\n",
    "gdf.head()"
   ]
  },
  {
   "cell_type": "code",
   "execution_count": 35,
   "id": "e6b24b4c-edde-4e24-869b-5ccaf6811e7d",
   "metadata": {},
   "outputs": [
    {
     "data": {
      "text/plain": [
       "geopandas.geodataframe.GeoDataFrame"
      ]
     },
     "execution_count": 35,
     "metadata": {},
     "output_type": "execute_result"
    }
   ],
   "source": [
    "type(gdf)"
   ]
  },
  {
   "cell_type": "code",
   "execution_count": 42,
   "id": "a3267279-1eb0-4006-a6f7-9d4ff067215a",
   "metadata": {},
   "outputs": [
    {
     "data": {
      "text/plain": [
       "<AxesSubplot:>"
      ]
     },
     "execution_count": 42,
     "metadata": {},
     "output_type": "execute_result"
    },
    {
     "data": {
      "image/png": "[encoded data removed]",
      "text/plain": [
       "<Figure size 432x288 with 1 Axes>"
      ]
     },
     "metadata": {
      "needs_background": "light"
     },
     "output_type": "display_data"
    }
   ],
   "source": [
    "world = gpd.read_file(gpd.datasets.get_path('naturalearth_lowres'))\n",
    "ax = world[world.name == 'United States of America'].plot(\n",
    "    color='white', edgecolor='black')\n",
    "ax"
   ]
  }
 ],
 "metadata": {
  "kernelspec": {
   "display_name": "Python 3 (ipykernel)",
   "language": "python",
   "name": "python3"
  },
  "language_info": {
   "codemirror_mode": {
    "name": "ipython",
    "version": 3
   },
   "file_extension": ".py",
   "mimetype": "text/x-python",
   "name": "python",
   "nbconvert_exporter": "python",
   "pygments_lexer": "ipython3",
   "version": "3.8.10"
  }
 },
 "nbformat": 4,
 "nbformat_minor": 5
}
